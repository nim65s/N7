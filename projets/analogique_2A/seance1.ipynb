{
 "metadata": {
  "name": "Projet_Analogique"
 },
 "nbformat": 3,
 "nbformat_minor": 0,
 "worksheets": [
  {
   "cells": [
    {
     "cell_type": "code",
     "collapsed": false,
     "input": "from math import log",
     "language": "python",
     "metadata": {},
     "outputs": [],
     "prompt_number": 11
    },
    {
     "cell_type": "heading",
     "level": 1,
     "metadata": {},
     "source": "S\u00e9ance 1:\u00a0\u00c9dition et simulation du VCO, \u00e9tudes et statistiques, \u00e9diton hi\u00e9rarchique"
    },
    {
     "cell_type": "heading",
     "level": 2,
     "metadata": {},
     "source": "Calculs du VCO"
    },
    {
     "cell_type": "markdown",
     "metadata": {},
     "source": "$f_0 = 250 \\kilo\\hertz$ \u00e0 2% \n\n$\\Delta f = 15\\kilo\\hertz$\n\n$E = 12 \\volt$\n\n$E_B = 6 \\volt$\n\n$V_T = 0.6\\volt$\n\n$V_{CE_{SAT}} = 0.3\\volt$\n\n$i_c = 10 \\milli\\ampere$\n\n$R_C = \\cfrac{E-V_{CE_{SAT}}}{i_{c1}} = \\cfrac{11.7}{10\\cdot10^{-3}} \\simeq 1.2 \\kilo\\ohm$\n\n$\\Delta V_b = E - V_T$\n\n$\\Delta V_c = E - V_{CE_{SAT}}$\n\n$k = \\cfrac{\\Delta V_b}{\\Delta V_c}$\n\n$T = 2 R_B C \\ln\\cfrac{(E_B -V_T)+k(E-V_{CE_{SAT}})}{E_B-V_T}$ \\drarrow \n\n$R_B = \\cfrac{1}{2 f_0 C \\ln\\cfrac{E_B - V_T + k(E -\u00a0Vcesat)}}$"
    },
    {
     "cell_type": "code",
     "collapsed": false,
     "input": "f0 = 250000\ndeltaf = 15000\nE = 12\nEb = 6\nic1 = 0.01\nVt = 0.6\nVcesat = 0.3\nRc = (E - Vcesat) / ic1\nprint 'Rc:', Rc, '; on prend donc 1.2k'\nRc = 1200\nC = 150*10**(-12)\ndeltaVb = E - Vt\ndeltaVc = E - Vcesat\nk = deltaVb / deltaVc\nprint 'k:', k\nRb = 1 / (2 * C * log((Eb - Vt + k*(E - Vcesat))/(Eb - Vt)) * f0)\nprint 'Rb:', Rb, '; on prend donc 12k'\nRb = 12000",
     "language": "python",
     "metadata": {},
     "outputs": [
      {
       "output_type": "stream",
       "stream": "stdout",
       "text": "Rc: 1170.0 ; on prend donc 1.2k\nk: 0.974358974359\nRb: 11747.6379516 ; on prend donc 12k\n"
      }
     ],
     "prompt_number": 14
    },
    {
     "cell_type": "heading",
     "level": 2,
     "metadata": {},
     "source": "Circuit"
    },
    {
     "cell_type": "markdown",
     "metadata": {},
     "source": "TODO: schematic vco.png"
    },
    {
     "cell_type": "heading",
     "level": 2,
     "metadata": {},
     "source": "Simulation"
    },
    {
     "cell_type": "markdown",
     "metadata": {},
     "source": "Apr\u00e8s une premi\u00e8re simulation, on a une fr\u00e9quence d\u2019oscillation de 238 kHz, ce qui n\u2019entre pas dans les 2% des 250kHz voulus, mais on pourra jouer sur $E_B$ plus tard avec un potentiom\u00e8tre, et on pourrait \u00e9galement essayer d\u2019autres valeurs pour les capacit\u00e9s avec les valeurs des r\u00e9sistances $R_B$ appair\u00e9es."
    },
    {
     "cell_type": "markdown",
     "metadata": {},
     "source": "TODO: oscillation vco.png"
    },
    {
     "cell_type": "heading",
     "level": 2,
     "metadata": {},
     "source": "Courbe de la fr\u00e9quence en fonction de $E_B$"
    },
    {
     "cell_type": "markdown",
     "metadata": {},
     "source": "$K = \\cfrac{\\Delta f}{\\Delta v}$"
    },
    {
     "cell_type": "markdown",
     "metadata": {},
     "source": "TODO: variation freq vco.png"
    },
    {
     "cell_type": "code",
     "collapsed": false,
     "input": "K = 79802./2.9115\nprint 'K:', K",
     "language": "python",
     "metadata": {},
     "outputs": [
      {
       "output_type": "stream",
       "stream": "stdout",
       "text": "K: 27409.2392238\n"
      }
     ],
     "prompt_number": 15
    },
    {
     "cell_type": "heading",
     "level": 2,
     "metadata": {},
     "source": "Analyse de Monte Carlo"
    },
    {
     "cell_type": "code",
     "collapsed": false,
     "input": "",
     "language": "python",
     "metadata": {},
     "outputs": []
    }
   ],
   "metadata": {}
  }
 ]
}