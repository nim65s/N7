{
 "metadata": {
  "name": "Projet_Analogique_sympy"
 },
 "nbformat": 3,
 "nbformat_minor": 0,
 "worksheets": [
  {
   "cells": [
    {
     "cell_type": "heading",
     "level": 1,
     "metadata": {},
     "source": [
      "S\u00e9ance 1:\u00a0\u00c9dition et simulation du VCO, \u00e9tudes et statistiques, \u00e9diton hi\u00e9rarchique"
     ]
    },
    {
     "cell_type": "heading",
     "level": 2,
     "metadata": {},
     "source": [
      "Calculs du VCO"
     ]
    },
    {
     "cell_type": "code",
     "collapsed": false,
     "input": [
      "#f0, Eb, E, Vt, Vcesat, ic, Rc, Rb, k, K, T, C = symbols('f_0 E_B E V_T V_{CE_{sat}} i_c R_C R_B k T C')\n",
      "#Df = Symbol('\\Delta f')\n",
      "#Dvb = Symbol('\\Delta V_b')\n",
      "#Dvc = Symbol('\\Delta V_c')\n",
      "kHz = kilo*Hz\n",
      "mA = milli*A\n",
      "nF = nano*F\n",
      "kohm = kilo*ohm"
     ],
     "language": "python",
     "metadata": {},
     "outputs": [],
     "prompt_number": 11
    },
    {
     "cell_type": "code",
     "collapsed": false,
     "input": [
      "f0 = 250*kHz\n",
      "Df = 15*kHz\n",
      "E = 12*V\n",
      "Eb = 6*V\n",
      "Vt = 0.6*V\n",
      "Vcesat = 0.3*V\n",
      "ic = 10*mA\n",
      "Rc = (E-Vcesat)/ic\n",
      "Rc"
     ],
     "language": "python",
     "metadata": {},
     "outputs": [
      {
       "latex": [
        "$$1170.0 \\frac{kg m^{2}}{A^{2} s^{3}}$$"
       ],
       "output_type": "pyout",
       "png": "[encoded data removed]",
       "prompt_number": 12,
       "text": [
        "\n",
        "           2\n",
        "1170.0\u22c5kg\u22c5m \n",
        "\u2500\u2500\u2500\u2500\u2500\u2500\u2500\u2500\u2500\u2500\u2500\u2500\n",
        "    2  3    \n",
        "   A \u22c5s     "
       ]
      }
     ],
     "prompt_number": 12
    },
    {
     "cell_type": "code",
     "collapsed": false,
     "input": [
      "Rc = 1200*ohm\n",
      "C = 150*nF\n",
      "Dvb = E-Vt\n",
      "Dvc = E-Vcesat\n",
      "k = Dvb/Dvc\n",
      "k"
     ],
     "language": "python",
     "metadata": {},
     "outputs": [
      {
       "latex": [
        "$$0.974358974358974$$"
       ],
       "output_type": "pyout",
       "png": "[encoded data removed]",
       "prompt_number": 13,
       "text": [
        "0.974358974358974"
       ]
      }
     ],
     "prompt_number": 13
    },
    {
     "cell_type": "markdown",
     "metadata": {},
     "source": [
      "$T = 2 R_B C \\ln\\cfrac{(E_B -V_T)+k(E-V_{CE_{SAT}})}{E_B-V_T} \\Rightarrow R_B = \\cfrac{1}{2 f_0 C \\ln\\cfrac{E_B - V_T + k(E -Vcesat)}{E_B-V_T}}$"
     ]
    },
    {
     "cell_type": "code",
     "collapsed": false,
     "input": [
      "Rb = 1 / (2 * f0 * C * log((Eb - Vt + k*(E - Vcesat))/(Eb - Vt))) # TODO: *1000\u2026\n",
      "Rb"
     ],
     "language": "python",
     "metadata": {},
     "outputs": [
      {
       "latex": [
        "$$11.7476379516085 \\frac{kg m^{2}}{A^{2} s^{3}}$$"
       ],
       "output_type": "pyout",
       "png": "[encoded data removed]",
       "prompt_number": 14,
       "text": [
        "\n",
        "                     2\n",
        "11.7476379516085\u22c5kg\u22c5m \n",
        "\u2500\u2500\u2500\u2500\u2500\u2500\u2500\u2500\u2500\u2500\u2500\u2500\u2500\u2500\u2500\u2500\u2500\u2500\u2500\u2500\u2500\u2500\n",
        "         2  3         \n",
        "        A \u22c5s          "
       ]
      }
     ],
     "prompt_number": 14
    },
    {
     "cell_type": "code",
     "collapsed": false,
     "input": [
      "Rb = 12*kohm"
     ],
     "language": "python",
     "metadata": {},
     "outputs": [],
     "prompt_number": 15
    },
    {
     "cell_type": "heading",
     "level": 2,
     "metadata": {},
     "source": [
      "Circuit"
     ]
    },
    {
     "cell_type": "code",
     "collapsed": false,
     "input": [
      "Image('schematic_vco.png')"
     ],
     "language": "python",
     "metadata": {},
     "outputs": [
      {
       "output_type": "pyout",
       "png": "schematic_vco.png",
       "prompt_number": 1,
       "text": [
        "<IPython.core.display.Image object at 0xac6c56c>"
       ]
      }
     ],
     "prompt_number": 1
    },
    {
     "cell_type": "heading",
     "level": 2,
     "metadata": {},
     "source": [
      "Simulation"
     ]
    },
    {
     "cell_type": "markdown",
     "metadata": {},
     "source": [
      "Apr\u00e8s une premi\u00e8re simulation, on a une fr\u00e9quence d\u2019oscillation de 238 kHz, ce qui n\u2019entre pas dans les 2\\% des 250kHz voulus, mais on pourra jouer sur $E_B$ plus tard avec un potentiom\u00e8tre, et on pourrait \u00e9galement essayer d\u2019autres valeurs pour les capacit\u00e9s avec les valeurs des r\u00e9sistances $R_B$ appair\u00e9es."
     ]
    },
    {
     "cell_type": "code",
     "collapsed": false,
     "input": [
      "Image('oscillations_vco.png')"
     ],
     "language": "python",
     "metadata": {},
     "outputs": [
      {
       "output_type": "pyout",
       "png": "oscillations_vco.png",
       "prompt_number": 9,
       "text": [
        "<IPython.core.display.Image at 0x965648c>"
       ]
      }
     ],
     "prompt_number": 9
    },
    {
     "cell_type": "heading",
     "level": 2,
     "metadata": {},
     "source": [
      "Courbe de la fr\u00e9quence en fonction de $E_B$"
     ]
    },
    {
     "cell_type": "markdown",
     "metadata": {},
     "source": [
      "$K = \\cfrac{\\Delta f}{\\Delta v}$"
     ]
    },
    {
     "cell_type": "code",
     "collapsed": false,
     "input": [
      "Image('variation_freq_vco.png')"
     ],
     "language": "python",
     "metadata": {},
     "outputs": [
      {
       "output_type": "pyout",
       "png": "variation_freq_vco.png",
       "prompt_number": 10,
       "text": [
        "<IPython.core.display.Image at 0x9656b0c>"
       ]
      }
     ],
     "prompt_number": 10
    },
    {
     "cell_type": "code",
     "collapsed": false,
     "input": [
      "Df = 79802\n",
      "Dv = 2.9115\n",
      "K = Df/Dv\n",
      "K"
     ],
     "language": "python",
     "metadata": {},
     "outputs": [
      {
       "output_type": "pyout",
       "png": "[encoded data removed]",
       "prompt_number": 1,
       "text": [
        "27409.239223767814"
       ]
      }
     ],
     "prompt_number": 1
    },
    {
     "cell_type": "heading",
     "level": 2,
     "metadata": {},
     "source": [
      "Analyse de Monte Carlo"
     ]
    },
    {
     "cell_type": "markdown",
     "metadata": {},
     "source": [
      "Pour chaque param\u00e8tre \u00e0 \u00e9tudier, on fait 500 simulations pour une distribution Gaussiene du param\u00e8tre, et on affiche un histograme des fr\u00e9quences obtenues.\n",
      "On devrait donc pouvoir comparer les 4 histogrammes obtenus pour voir rapidement quel param\u00e8tre a le plus d\u2019influence.\n",
      "\n",
      "Cependant, en regardant les \u00e9quations, on s\u2019attend \u00e0 ce que les param\u00e8tres les plus influents sur la p\u00e9riode soient R et C."
     ]
    },
    {
     "cell_type": "markdown",
     "metadata": {},
     "source": [
      "* On commence par regarder l\u2019influence des param\u00e8tres R et C:"
     ]
    },
    {
     "cell_type": "code",
     "collapsed": false,
     "input": [
      "Image('montecarlo_R_C.png')"
     ],
     "language": "python",
     "metadata": {},
     "outputs": [
      {
       "output_type": "pyout",
       "png": "montecarlo_R_C.png",
       "prompt_number": 12,
       "text": [
        "<IPython.core.display.Image at 0x9656c0c>"
       ]
      }
     ],
     "prompt_number": 12
    },
    {
     "cell_type": "markdown",
     "metadata": {},
     "source": [
      "* Ensuite on regarde l\u2019influence des param\u00e8tres du transistor, en commen\u00e7ant par $\\beta$:"
     ]
    },
    {
     "cell_type": "code",
     "collapsed": false,
     "input": [
      "Image('montecarlo_beta.png')"
     ],
     "language": "python",
     "metadata": {},
     "outputs": [
      {
       "output_type": "pyout",
       "png": "montecarlo_beta.png",
       "prompt_number": 13,
       "text": [
        "<IPython.core.display.Image at 0x9656e6c>"
       ]
      }
     ],
     "prompt_number": 13
    },
    {
     "cell_type": "markdown",
     "metadata": {},
     "source": [
      "On remarque que dans certains cas, la tension observ\u00e9e diverge, et spice nous en alerte."
     ]
    },
    {
     "cell_type": "markdown",
     "metadata": {},
     "source": [
      "* Puis $C_{jc}$:"
     ]
    },
    {
     "cell_type": "code",
     "collapsed": false,
     "input": [
      "Image('montecarlo_Cjc.png')"
     ],
     "language": "python",
     "metadata": {},
     "outputs": [
      {
       "output_type": "pyout",
       "png": "montecarlo_Cjc.png",
       "prompt_number": 14,
       "text": [
        "<IPython.core.display.Image at 0x9656c6c>"
       ]
      }
     ],
     "prompt_number": 14
    },
    {
     "cell_type": "markdown",
     "metadata": {},
     "source": [
      "* Et enfin $C_{je}$"
     ]
    },
    {
     "cell_type": "code",
     "collapsed": false,
     "input": [
      "Image('montecarlo_Cje.png')"
     ],
     "language": "python",
     "metadata": {},
     "outputs": [
      {
       "output_type": "pyout",
       "png": "montecarlo_Cje.png",
       "prompt_number": 15,
       "text": [
        "<IPython.core.display.Image at 0x9656e2c>"
       ]
      }
     ],
     "prompt_number": 15
    },
    {
     "cell_type": "markdown",
     "metadata": {},
     "source": [
      "Comme on s\u2019y attendait, les param\u00e8tres les plus influents sont de loins R et C."
     ]
    },
    {
     "cell_type": "heading",
     "level": 2,
     "metadata": {},
     "source": [
      "Hi\u00e9rarchisation du VCO"
     ]
    },
    {
     "cell_type": "markdown",
     "metadata": {},
     "source": [
      "En suivant le poly \u00abOrcad-Pspice Hierarchie et sous-circuit\u00bb, nous avons chang\u00e9 notre sch\u00e9matique en une v\u00e9ritable librairie, et la sch\u00e9matique peut maintenant se comporter comme n\u2019importe quel autre composant dans une autre sch\u00e9matique."
     ]
    },
    {
     "cell_type": "code",
     "collapsed": false,
     "input": [
      "Image('schematic_low_hierarchy.png')\n",
      "Image('schematic_high_hierarchy.png')\n",
      "Image('schematic_vco_final.png')"
     ],
     "language": "python",
     "metadata": {},
     "outputs": [
      {
       "output_type": "pyout",
       "png": "schematic_vco_final.png",
       "prompt_number": 16,
       "text": [
        "<IPython.core.display.Image at 0x970704c>"
       ]
      }
     ],
     "prompt_number": 16
    },
    {
     "cell_type": "markdown",
     "metadata": {},
     "source": [
      "On effectue enfine une simulation temporelle pour v\u00e9rifier que tout continue de fonctionner:"
     ]
    },
    {
     "cell_type": "code",
     "collapsed": false,
     "input": [
      "Image('simu_temporelle_bloc_hierarchique.png')"
     ],
     "language": "python",
     "metadata": {},
     "outputs": [
      {
       "output_type": "pyout",
       "png": "simu_temporelle_bloc_hierarchique.png",
       "prompt_number": 17,
       "text": [
        "<IPython.core.display.Image at 0x9656eec>"
       ]
      }
     ],
     "prompt_number": 17
    },
    {
     "cell_type": "heading",
     "level": 2,
     "metadata": {},
     "source": [
      "Signal modulant BF"
     ]
    },
    {
     "cell_type": "markdown",
     "metadata": {},
     "source": [
      "On change enfin BC\u00a0par un g\u00e9n\u00e9rateur sinuso\u00efdal:"
     ]
    },
    {
     "cell_type": "code",
     "collapsed": false,
     "input": [
      "Image('variation_freq_sinus_en_entree.png')"
     ],
     "language": "python",
     "metadata": {},
     "outputs": [
      {
       "output_type": "pyout",
       "png": "variation_freq_sinus_en_entree.png",
       "prompt_number": 18,
       "text": [
        "<IPython.core.display.Image at 0x9656e4c>"
       ]
      }
     ],
     "prompt_number": 18
    },
    {
     "cell_type": "heading",
     "level": 1,
     "metadata": {},
     "source": [
      "S\u00e9ance 2: Impl\u00e9mentation sur plaquette Labdec et mesures du VCO"
     ]
    },
    {
     "cell_type": "heading",
     "level": 2,
     "metadata": {},
     "source": [
      "Signal d\u2019entr\u00e9e de test"
     ]
    },
    {
     "cell_type": "markdown",
     "metadata": {},
     "source": [
      "Pour tester notre VCO, nous connectons son entr\u00e9e \u00e0 un potentiom\u00e8tre suivi d\u2019un amplificateur op\u00e9rationnel suiveur, pour pouvoir faire varier la fr\u00e9quence du VCO\u00a0en modifant sa tension d\u2019entr\u00e9e via le potentiom\u00e8tre."
     ]
    },
    {
     "cell_type": "code",
     "collapsed": false,
     "input": [
      "Image('schematic_test_vco.png') # TODO : Je l\u2019ai pas !"
     ],
     "language": "python",
     "metadata": {},
     "outputs": [
      {
       "output_type": "pyout",
       "png": "schematic_test_vco.png",
       "prompt_number": 19,
       "text": [
        "<IPython.core.display.Image at 0x965664c>"
       ]
      }
     ],
     "prompt_number": 19
    },
    {
     "cell_type": "code",
     "collapsed": false,
     "input": [
      "K = 26500 # Un petit calcul d\u2019erreur\n",
      "k = 0.75  # idem"
     ],
     "language": "python",
     "metadata": {},
     "outputs": [],
     "prompt_number": 20
    },
    {
     "cell_type": "markdown",
     "metadata": {},
     "source": [
      "TODO: ~/projanas2, y\u2019a des calculs aussi, une capa qui fait 330 nF"
     ]
    },
    {
     "cell_type": "heading",
     "level": 1,
     "metadata": {},
     "source": [
      "S\u00e9ance 3: Simulation et mesures de l\u2019amplificateur audio"
     ]
    },
    {
     "cell_type": "markdown",
     "metadata": {},
     "source": [
      "TODO: Sch\u00e9ma p.54, bode th\u00e9orique p.53"
     ]
    },
    {
     "cell_type": "markdown",
     "metadata": {},
     "source": [
      "$G_0 = \\cfrac{\\Delta f}{K} = \\cfrac{R_2}{R_1}\\cfrac{R_5}{R_3}$\n",
      "D\u2019apr\u00e8s le cahier des charges, $R_1 = 50 kOhm$ donc on prendra $R_1 = 47 kOhm$.\n",
      "On a choisi \u00e0 la s\u00e9ance pr\u00e9c\u00e9dente $R_5 = 10\u00a0kOhm$, donc pour simplifier les calculs, on prendra $\\cfrac{R_5}{R_3} = 1 \\Rightarrow R_3 = 10 kOhm$"
     ]
    },
    {
     "cell_type": "markdown",
     "metadata": {},
     "source": [
      "Il nous manque donc plus que $R_2$, qu\u2019on d\u00e9t\u00e8rmine grace \u00e0 $\\Delta f = 15 kHz$ et $K = 26.5 kHz$"
     ]
    },
    {
     "cell_type": "markdown",
     "metadata": {},
     "source": [
      "Donc $R_2 = 27 kOhm$. De plus, $f_2 = 6 kHz \\Rightarrow C_2 = \\cfrac{1}{f_2 2 \\pi 27000} = 1 nF$"
     ]
    },
    {
     "cell_type": "markdown",
     "metadata": {},
     "source": [
      "($f_2 = \\cfrac{1}{2\\pi R_4 C_4}$ ET $f_1 = \\cfrac{1}{2\\pi C_4(R_3 + R_4}$ ) $\\Rightarrow$ ($C_4 = 17 nF \\simeq 18nF$ ET $R_4 = 1473 Ohm \\simeq 1.5 kOhm$)  %TODO"
     ]
    },
    {
     "cell_type": "markdown",
     "metadata": {},
     "source": [
      "$f_3 = f_4 = f_{CBF}\\sqrt{\\sqrt{2}-1} = 32 Hz$"
     ]
    },
    {
     "cell_type": "markdown",
     "metadata": {},
     "source": [
      "$f_3 = \\cfrac{1}{2\\pi C_3R_3} \\Rightarrow C_3 = \\cfrac{1}{32 \\cdot 2 \\pi \\cdot 10000} = 500nF\u00a0\\simeq 470 nF$"
     ]
    },
    {
     "cell_type": "markdown",
     "metadata": {},
     "source": [
      "$f_4 = \\cfrac{1}{2\\pi C_1 (R_gR_1)} \\simeq \\cfrac{1}{2\\pi R_1C_1} \\Rightarrow C_1 = \\cfrac{1}{32 \\cdot 2 \\pi \\cdot 47000} = 100nF$"
     ]
    },
    {
     "cell_type": "heading",
     "level": 1,
     "metadata": {},
     "source": [
      "S\u00e9ance 4: Simulation et mesures du circuit DEL"
     ]
    },
    {
     "cell_type": "heading",
     "level": 2,
     "metadata": {},
     "source": [
      "I \u2212 Circuits commut\u00e9s"
     ]
    },
    {
     "cell_type": "markdown",
     "metadata": {},
     "source": [
      "$V_F=1.8V$\n",
      "\n",
      "$I_0=100mA$\n",
      "\n",
      "$R_{SC}\\simeq 2Ohm$\n",
      "\n",
      "$V_{CE_{sat}}=R_{SC}I_0=0.2V$\n",
      "\n",
      "$E=R_6I_0+V_F+V_{CE_{sat}}\\Rightarrow R6=\\cfrac{E-V_F-V_{CE_{sat}}}{I_0}=100Ohm$"
     ]
    },
    {
     "cell_type": "code",
     "collapsed": false,
     "input": [
      "E=12.\n",
      "Vf=1.8\n",
      "I0=0.1\n",
      "Rsc=2.\n",
      "Vcesat=Rsc*I0\n",
      "print 'Vcesat', Vcesat\n",
      "R6=(E-Vf-Vcesat)/I0\n",
      "print 'R6', R6"
     ],
     "language": "python",
     "metadata": {},
     "outputs": [
      {
       "output_type": "stream",
       "stream": "stdout",
       "text": [
        "Vcesat 0.2\n",
        "R6 100.0\n"
       ]
      }
     ],
     "prompt_number": 21
    },
    {
     "cell_type": "markdown",
     "metadata": {},
     "source": [
      "$P_6=\\cfrac{R_6I_0^2}{2}=0.5W$"
     ]
    },
    {
     "cell_type": "code",
     "collapsed": false,
     "input": [
      "P6=R6*I0**2./2.\n",
      "print 'P6', P6"
     ],
     "language": "python",
     "metadata": {},
     "outputs": [
      {
       "output_type": "stream",
       "stream": "stdout",
       "text": [
        "P6 0.5\n"
       ]
      }
     ],
     "prompt_number": 25
    },
    {
     "cell_type": "markdown",
     "metadata": {},
     "source": [
      "$V_{E5}\\simeq E-V_T$\n",
      "\n",
      "$I_{B6}\\simeq I_{C5}=\\cfrac{V_{E5}}{R_{E5}}$\n",
      "\n",
      "$R_{B6}=\\cfrac{V_{E5}-V_{BE6}}{I_{B6}}=\\cfrac{E-2V_T}{I_{B6}}$"
     ]
    },
    {
     "cell_type": "markdown",
     "metadata": {},
     "source": [
      "On cherche a obtenir $I_{B6}$ sup\u00e9rieur \u00e0 $\\cfrac{I_0}{\\beta}$ ; donc $R_{E5}\\simeq R_{B6}\\simeq 10kOhm$ font l\u2019affaire."
     ]
    },
    {
     "cell_type": "code",
     "collapsed": false,
     "input": [
      "Re5=1000.\n",
      "Ve5=E-Vt\n",
      "print 'Re5', Re5\n",
      "Rb6=Re5*(Ve5-Vt)/(Ve5)\n",
      "print 'Rb6', Rb6\n",
      "Ic5 = Ve5/Re5\n",
      "print 'Ic5', Ic5"
     ],
     "language": "python",
     "metadata": {},
     "outputs": [
      {
       "output_type": "stream",
       "stream": "stdout",
       "text": [
        "Re5 1000.0\n",
        "Rb6 947.368421053\n",
        "Ic5 0.0114\n"
       ]
      }
     ],
     "prompt_number": 46
    },
    {
     "cell_type": "markdown",
     "metadata": {},
     "source": [
      "$R_{C5}\\simeq\\cfrac{V_T-V_{CE5}}{I_{C5}}$\n",
      "\n",
      "Si on prend $V_{CE5} = 0.3V$, faible mais sup\u00e9rieur \u00e0 $V_{CE_{sat}}=0.2V$, on obtient $R_{C5}=263 Ohm \\simeq 270 Ohm$"
     ]
    },
    {
     "cell_type": "code",
     "collapsed": false,
     "input": [
      "Vce5=0.3\n",
      "Rc5=(Vt-Vce5)/Ic5\n",
      "print 'Rc5', Rc5"
     ],
     "language": "python",
     "metadata": {},
     "outputs": [
      {
       "output_type": "stream",
       "stream": "stdout",
       "text": [
        "Rc5 263.157894737\n"
       ]
      }
     ],
     "prompt_number": 42
    },
    {
     "cell_type": "heading",
     "level": 2,
     "metadata": {},
     "source": [
      "III \u2212 R\u00e9duction des temps de mont\u00e9e"
     ]
    },
    {
     "cell_type": "heading",
     "level": 3,
     "metadata": {},
     "source": [
      "1 \u2212 R\u00e9duction de $t_{ri}$"
     ]
    },
    {
     "cell_type": "markdown",
     "metadata": {},
     "source": [
      "$C_6 > \\cfrac{\\beta}{2\\pi f_TR_{B6}}$"
     ]
    },
    {
     "cell_type": "code",
     "collapsed": false,
     "input": [
      "fT = 250000\n",
      "C6 = 800./(Rb6*2*3.1415*fT)\n",
      "print 'C6', C6"
     ],
     "language": "python",
     "metadata": {},
     "outputs": [
      {
       "output_type": "stream",
       "stream": "stdout",
       "text": [
        "C6 5.3760588537e-07\n"
       ]
      }
     ],
     "prompt_number": 48
    },
    {
     "cell_type": "heading",
     "level": 3,
     "metadata": {},
     "source": [
      "2\u2212 R\u00e9duction du $t_{rDEL}$"
     ]
    },
    {
     "cell_type": "code",
     "collapsed": false,
     "input": [],
     "language": "python",
     "metadata": {},
     "outputs": []
    }
   ],
   "metadata": {}
  }
 ]
}