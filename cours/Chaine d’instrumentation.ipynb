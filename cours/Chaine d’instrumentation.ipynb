{
 "metadata": {
  "name": "Chaine d\u2019instrumentation"
 },
 "nbformat": 3,
 "nbformat_minor": 0,
 "worksheets": [
  {
   "cells": [
    {
     "cell_type": "markdown",
     "metadata": {},
     "source": [
      "R\u00f4le: effectuer des mesures et les traitements associ\u00e9s"
     ]
    },
    {
     "cell_type": "heading",
     "level": 2,
     "metadata": {},
     "source": [
      "Capteurs"
     ]
    },
    {
     "cell_type": "markdown",
     "metadata": {},
     "source": [
      "R\u00f4le: transformer une grandeur physique non \u00e9lectrique en grandeur \u00e9lectrique:\n",
      "\n",
      "* (U,I) => capteur actif (ex: micro, photodiode)\n",
      "* (R,L,C) => capteur passif (ex: acc\u00e9l\u00e9rom\u00e8tre, thermistances)\n",
      "\n",
      "Il a comme param\u00e8tres:\n",
      "\n",
      "* Sensibilit\u00e9 => gain\n",
      "* Lin\u00e9arit\u00e9 => plage de fonctionnement\n",
      "* Bande passante\n",
      "* Temps de r\u00e9ponse\n",
      "\n",
      "Apr\u00e8s ce capteur, on met un bloc de mise en forme:\n",
      "\n",
      "* Capteur actif: Ampli/VCO, qui sortent tension/fr\u00e9quence\n",
      "* Capteur passif: Source de courant/oscillateur, qui sort aussi tension ou fr\u00e9quence\n",
      "\n",
      "NB: Fr\u00e9quence => PLL => Tension, mais c\u2019est tr\u00e8s simple de convertir une fr\u00e9quence en num\u00e9rique sans avoir \u00e0 passer par la case CAN\n",
      "\n",
      "Apr\u00e8s ce bloc de mise en forme, un CAN. En sortie de celui-ci, on a des donn\u00e9es discr\u00e8tes dans le temps (toutes les $T_e$ secondes), dans une certaine r\u00e9solution (ex: 8bit). \u00c0 ce moment l\u00e0, on perd de l\u2019information sur la quantification et perte d\u2019information temporelle (Shannon)\n",
      "\n",
      "Apr\u00e8s ce CAN, il y a la case traitement. On y entre des nombres, et il en sort des nombres. Il y a :\n",
      "\n",
      "* DSP: logiciel, plus pr\u00e9cis\n",
      "* FPGA: mat\u00e9riel, plus puissant\n",
      "* ASIC: FPGA en mieux\n",
      "\n",
      "Et enfin un bloc de sortie: bus de communication / \u00e9cran / CNA / Modulation RF\u2026"
     ]
    },
    {
     "cell_type": "heading",
     "level": 2,
     "metadata": {},
     "source": [
      "AOP"
     ]
    },
    {
     "cell_type": "markdown",
     "metadata": {},
     "source": [
      "* $V_s = A_d(V_1-V_2)+A_c(\\cfrac{V_1+V_2}{2})$\n",
      "* $TRMC = 20\\log\\cfrac{A_d}{A_c}$\n",
      "* $R_d$ vaut quelques 100k$\\Omega$ en bipolaire et 100M$\\Omega$ en MOS\n",
      "* $10\\lt Z_s\\lt 500 \\Omega$\n",
      "* $A_d(p) = \\cfrac{A_0}{1+\\tau p}$\n",
      "* $f_0 = \\cfrac{1}{2\\pi\\tau}$, et $F_T = A_0f_0$\n",
      "* $i^+$ et $i^-$ quasi nuls pour des entr\u00e9es en MOS"
     ]
    },
    {
     "cell_type": "code",
     "collapsed": false,
     "input": [],
     "language": "python",
     "metadata": {},
     "outputs": []
    }
   ],
   "metadata": {}
  }
 ]
}