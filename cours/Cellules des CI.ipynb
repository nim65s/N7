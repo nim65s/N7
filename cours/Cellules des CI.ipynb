{
 "metadata": {
  "name": "Cellules des CI"
 },
 "nbformat": 3,
 "nbformat_minor": 0,
 "worksheets": [
  {
   "cells": [
    {
     "cell_type": "markdown",
     "metadata": {},
     "source": [
      "$C_J=A\\cfrac{\\varepsilon_{si}}{\\delta_{ZCE}}$\n",
      "\n",
      "Pour $C_J(V=0)$, $C_J = \\cfrac{C_{J0}}{\\sqrt{1 - \\cfrac{V}{\\varphi_{NP}}}}$\n",
      "\n",
      "$C_{J_{grad}} = \\cfrac{C_{J0}}{\\left(1 - \\cfrac{V}{\\varphi_{NP}}\\right)^{\\cfrac{1}{3}}}$\n"
     ]
    },
    {
     "cell_type": "markdown",
     "metadata": {},
     "source": [
      "OFF\n",
      "---\n",
      "\n",
      "$C_{JE}$ et $C_{JC}$\n",
      "\n",
      "Normale\n",
      "-------\n",
      "\n",
      "$C_{DE}$ et $C_{JC}$\n",
      "\n",
      "$\\cfrac{1}{r_b} = \\cfrac{I_B}{U_T}$\n",
      "\n",
      "$g_m = \\cfrac{I_c}{U_T}$\n",
      "\n",
      "$\\cfrac{1}{r_0} = \\cfrac{I_C}{V_A}$\n",
      "\n",
      "Satur\u00e9e\n",
      "-------\n",
      "\n",
      "$V_{BE} \\simeq V_T$\n",
      "\n",
      "$V_{BC} \\simeq V_T$\n",
      "\n",
      "$V_{CEsat} \\simeq R_{sc}I_{Csat}$\n",
      "\n",
      "$\\tau = \\tau_R$\n",
      "\n",
      "Inverse\n",
      "-------\n",
      "\n",
      "$V_{BE} \\lt 0$\n",
      "\n",
      "$V_{BC} = V_T$\n",
      "\n",
      "$V_{CE} \\lt 0$\n",
      "\n",
      "$\\beta_R \\ll \\beta_F$"
     ]
    },
    {
     "cell_type": "markdown",
     "metadata": {},
     "source": [
      "CMOS = NMOS + PMOS\n",
      "\n",
      "Sat => $I_D = \\mu_0C_0\\cfrac{W}{2L}(V_G-V_{th})^2$\n",
      "\n",
      "$\\mu_{0n} \\simeq 2.5\\mu_{0p}$\n",
      "\n",
      "$I_{D_{NMOS}} = I_{D_{PMOS}} \\Rightarrow W_P=2.5W_N$\n",
      "\n",
      "mod\u00e8le petit signal\n",
      "-------------------\n",
      "\n",
      "$I_G = 0$ en DC $\\Rightarrow r_{in} = \\infty$\n",
      "\n",
      "$g_m = K(V_G-V_T) = \\sqrt{2KI_D}$ (Bip: $g_m = \\cfrac{I_C}{U_T}$)\n",
      "\n",
      "* Bip: $g_m \\propto I$\n",
      "* MOS: $g_m \\propto \\sqrt{I}$"
     ]
    },
    {
     "cell_type": "heading",
     "level": 1,
     "metadata": {},
     "source": [
      "741"
     ]
    },
    {
     "cell_type": "heading",
     "level": 2,
     "metadata": {},
     "source": [
      "Courant de r\u00e9f\u00e9rence"
     ]
    },
    {
     "cell_type": "heading",
     "level": 3,
     "metadata": {},
     "source": [
      "Bipolaire"
     ]
    },
    {
     "cell_type": "markdown",
     "metadata": {},
     "source": [
      "$I_C = I_S\\exp^{\\cfrac{V_{BE}}{U_T}}=\\beta I_B\\Rightarrow I_B\\simeq0$\n",
      "\n",
      "$V_{BE}=T_T\\simeq0.6V\\Rightarrow I_{ref}=\\cfrac{E-V_{BE}}{R}=\\cfrac{E-V_T}{R}$\n",
      "\n",
      "Pr\u00e9cision: $I_C=I_{ref}=I_S\\exp^{\\cfrac{V_{BE}}{U_T}}\\Rightarrow V_{BE}=U_T\\ln{\\cfrac{I_C}{I_S}}$. $\\Delta V\\simeq50mV$"
     ]
    },
    {
     "cell_type": "heading",
     "level": 3,
     "metadata": {},
     "source": [
      "MOS"
     ]
    },
    {
     "cell_type": "markdown",
     "metadata": {},
     "source": [
      "$I_{ref}=\\cfrac{E-V_{GS}}{R}$\n",
      "\n",
      "$I_D=I_{ref}=\\cfrac{K}{2}(V_{GS}-V_{TH})^2=\\cfrac{E-V_{GS}}{R}$ => R\u00e9solution d\u2019une \u00e9quation du second degr\u00e9"
     ]
    },
    {
     "cell_type": "heading",
     "level": 2,
     "metadata": {},
     "source": [
      "Miroir de courant"
     ]
    },
    {
     "cell_type": "markdown",
     "metadata": {},
     "source": [
      "* Id\u00e9al: $Q_1=Q_2\\Rightarrow I_0=I_e$\n",
      "* R\u00e9el: \n",
      "    * $I_B\\neq0\\Rightarrow$ Erreur sur $I_0$\n",
      "    * $Q_2\\Rightarrow$ Effet Early => Imp\u00e9dance de sortie ?\n",
      "    * $Q_2$ suppos\u00e9 en r\u00e9gime normal => Limites ?"
     ]
    },
    {
     "cell_type": "markdown",
     "metadata": {},
     "source": [
      "Pour $\\beta=100$, $V_A=100V$ et $I_0=1mA$, $g_m=\\cfrac{I_C}{U_T}=\\cfrac{1}{26}\\Rightarrow\\cfrac{1}{g_m}=26\\Omega$\n",
      "\n",
      "$r_b=\\cfrac{\\beta}{g_m}=2.6k\\Omega$\n",
      "\n",
      "$r_0=\\cfrac{V_A}{I_C}=100k\\Omega$\n",
      "\n",
      "$Z_{out}=r_0$"
     ]
    },
    {
     "cell_type": "heading",
     "level": 3,
     "metadata": {},
     "source": [
      "Calcul g\u00e9n\u00e9ral de $Z_{out}$"
     ]
    },
    {
     "cell_type": "markdown",
     "metadata": {},
     "source": [
      "$Z_{out}=R_E\\parallel(R_B+r_b)+r_0-\\cfrac{v}{I_0}$, or $I_0=\\cfrac{V_{R_{eq}}}{R_{eq}}$ et $V_{be}=-\\cfrac{r_b}{R_B+r_b}V_{R_{eq}}$, donc $Z_{out}=r_0+R_{eq}+\\cfrac{g_mr_0r_b}{r_b+R_B}R_{eq}=r_0+\\cfrac{R_E(R_B+r_b)}{R_E+R_B+r_b}\\left(1+\\cfrac{g_mr_0r_b}{r_b+R_B}\\right)$\n",
      "\n",
      "En regardant le sch\u00e9ma du miroir de courant, on se rend compte que notre $R_B$ est de l\u2019ordre de $25\\Omega$, et qu\u2019$r_b$ tend vers l\u2019infini dans le cas id\u00e9al => $Z_{out}\\simeq r_0(1+g_mR_E)$"
     ]
    },
    {
     "cell_type": "heading",
     "level": 3,
     "metadata": {},
     "source": [
      "Miroir parfait -> calcul de $\\beta$"
     ]
    },
    {
     "cell_type": "markdown",
     "metadata": {},
     "source": [
      "$I_E=I_C+2I_B=I_0\\left(1+\\cfrac{2}{\\beta}\\right)\\Rightarrow I_0=\\cfrac{I_E}{1+\\cfrac{2}{\\beta}}$"
     ]
    },
    {
     "cell_type": "heading",
     "level": 3,
     "metadata": {},
     "source": [
      "Miroirs d\u00e9formants"
     ]
    },
    {
     "cell_type": "markdown",
     "metadata": {},
     "source": [
      "$I_0\\lt I_{ref}$ ou $I_0\\gt I_{ref}$"
     ]
    },
    {
     "cell_type": "heading",
     "level": 1,
     "metadata": {},
     "source": [
      "Logique TTL"
     ]
    },
    {
     "cell_type": "heading",
     "level": 2,
     "metadata": {},
     "source": [
      "Inverseur TTL"
     ]
    },
    {
     "cell_type": "markdown",
     "metadata": {},
     "source": [
      "$V_{th} \\gt V_T \\Rightarrow Q_0$ sattur\u00e9\n",
      "\n",
      "Niveau de saturation:\n",
      "\n",
      "* $I_{B0}$ faible $\\rightarrow \\cfrac{I_{csat}}{I_{B0}}$ \u00e9lev\u00e9 $\\rightarrow$ saturation faible $\\rightarrow$ temps de d\u00e9saturation faible\n",
      "\n",
      "* $I_{B0}$ \u00e9lev\u00e9 $\\rightarrow \\cfrac{I_{csat}}{I_{B0}}$ faible $\\rightarrow$ temps de d\u00e9saturation \u00e9lev\u00e9\n",
      "\n",
      "On utilise donc un transistor en inverse (E \u00e0 gauche, C \u00e0 droite)"
     ]
    },
    {
     "cell_type": "heading",
     "level": 2,
     "metadata": {},
     "source": [
      "Inverseur TotemPole"
     ]
    },
    {
     "cell_type": "markdown",
     "metadata": {},
     "source": [
      "$V=V_{th}+V_{BE1}=V_{BC1}+V_{BE2}+V_{R1}=V_{BC1}+V_{BE2}+V_{BE0}\\le3V_T$"
     ]
    },
    {
     "cell_type": "markdown",
     "metadata": {},
     "source": [
      "* $V_{in}\\lt V_T$, les trois transistors du bas sont bloqu\u00e9s, et on se retrouve en sortie qu\u2019avec le haut => $V_{out}\\simeq5-2V_T=3.6V$\n",
      "* $V_T\\lt V_{in}\\lt2V_T$, Q1 est satur\u00e9 \u00abinverse\u00bb, Q2 est passant \n",
      "* $V_{in}\\gt2V_T \\Rightarrow V_{out}=0$, car Q1 satur\u00e9 inverse, Q2 et Q3 passants."
     ]
    },
    {
     "cell_type": "heading",
     "level": 2,
     "metadata": {},
     "source": [
      "Bilan TTL"
     ]
    },
    {
     "cell_type": "markdown",
     "metadata": {},
     "source": [
      "* Le transistor de sortie fonctionne en bloqu\u00e9/satur\u00e9\n",
      "* T. satur\u00e9 -> constante de temps $\\tau_R$\n",
      "* On ajoute une diode schottky ($\\tau_T = 0$ -> dimunution du temps de commutation\n",
      "* Niveaux logiques:\n",
      "    * TTL simple: $V_H = V_{cc}$, $V_L = V_{cesat}$\n",
      "    * TotemPole (collecteur ouvert): $V_L = 0$, $V_H = V_{cc} - 2V_T$\n",
      "* Changement d\u2019\u00e9tat imm\u00e9diat -> pas d\u2019\u00e9tat ind\u00e9termin\u00e9"
     ]
    },
    {
     "cell_type": "heading",
     "level": 1,
     "metadata": {},
     "source": [
      "Logique ECL (Emitter Coupled Logic)"
     ]
    },
    {
     "cell_type": "markdown",
     "metadata": {},
     "source": [
      "Tensions n\u00e9gatives -> logique n\u00e9gative ($V_L \\lt V_H \\lt 0$)\n",
      "\n",
      "Le principe est de rester dans la zone lin\u00e9aire des transistors pour aller plus vite.\n",
      "\n",
      "On commence par juste une paire diff\u00e9rentielle.\n",
      "\n",
      "la base du transistor de droite est \u00e0 -1.2V, donc si on met -1.2V sur l\u2019entr\u00e9e (base du transistor de gauche), on a une sym\u00e9trie, et $I_C = \\cfrac{I}{2} = 1.33mA$, donc $V = -R_C \\cfrac{I}{2} = -0.4V$\n",
      "\n",
      "Maintenant, si l\u2019entr\u00e9e est inf\u00e9rieure \u00e0 -1.2V, on a la tension au dessus de l\u2019entr\u00e9e \u00e0 0 et celle au dessus de l\u2019autre transistor \u00e0 -0.8, et vice versa.\n",
      "\n",
      "Le probl\u00e8me c\u2019est que si on met deux inverseurs d\u2019affil\u00e9, on a $e\\lt-1.2 \\Rightarrow 0 \\Rightarrow -0.8V$ ou $e\\gt-1.2\\Rightarrow-0.8\\Rightarrow-0.8$. Pas utile.\n",
      "\n",
      "Du coup, si on rajoute deux transistors pour juste baisser toutes les tensions de sortie de 0.6V, \u00e7a marche.\n",
      "\n",
      "On a donc $V_L = -1.4$ et $V_H = -0.6$, ce qui nous fait une marge de bruit de 0.8, ce qui est *faible*\n",
      "\n",
      "On montre qu\u2019une erreur de 10% sur les r\u00e9sistances va pas mal modifier les tensions, du coup vaut mieux faire toute la porte en int\u00e9gr\u00e9."
     ]
    },
    {
     "cell_type": "heading",
     "level": 1,
     "metadata": {},
     "source": [
      "Logique CMOS"
     ]
    },
    {
     "cell_type": "markdown",
     "metadata": {},
     "source": [
      "La logique bipolaire a des probl\u00e8mes:\n",
      "\n",
      "* Impossible d\u2019optimiser niveaux logiques et marges de bruit\n",
      "* logique complexe \u00e0 int\u00e9grer\n",
      "* portes logiques complexes difficiles \u00e0 concevoir rapidement"
     ]
    },
    {
     "cell_type": "heading",
     "level": 2,
     "metadata": {},
     "source": [
      "\u00c9tape 1: Transistor MOS en commutation"
     ]
    },
    {
     "cell_type": "markdown",
     "metadata": {},
     "source": [
      "Il faut commencer par remplacer la r\u00e9sistance de drain par une charge active. On met donc un transistor. \u00c7a peut \u00eatre un NMOS ou un PMOS.\n",
      "\n",
      "On a donc deux logiques: \n",
      "\n",
      "* une NMOS \u00e0 laquelle on ajoute un NMOS -> logique NMOS\n",
      "* une NMOS \u00e0 laquelle on ajoute un PMOS -> logique CMOS (compl\u00e9mentaire)"
     ]
    },
    {
     "cell_type": "heading",
     "level": 2,
     "metadata": {},
     "source": [
      "\u00c9tape 2: Logique CMOS"
     ]
    },
    {
     "cell_type": "markdown",
     "metadata": {},
     "source": [
      "Le premier transistor est traditionnel ($V_T \\simeq 0.6V$), mais le second a sa grille branch\u00e9e sur sa source (et donc le drain de l\u2019autre et la sortie de la porte), et a un $V_T \\lt 0$ (transistor \u00e0 d\u00e9peuplement/depletion).\n",
      "\n",
      "On met un $V_T \\lt 0$ pour qu\u2019il conduise tout le temps (il remplace une r\u00e9sistance\u2026)\n",
      "\n",
      "$I_{DM1} = I_{DM2}$, donc $V_{DM1} = V_{out}$ et $V_{GM1} = V_{in}$"
     ]
    },
    {
     "cell_type": "heading",
     "level": 2,
     "metadata": {},
     "source": [
      "\u00c9tape 3: Inverseur CMOS"
     ]
    },
    {
     "cell_type": "markdown",
     "metadata": {},
     "source": [
      "On met l\u2019entr\u00e9e sur les deux grilles, la source du PMOS \u00e0 $V_{dd}$, celle du NMOS \u00e0 0, et les drains en sortie\n",
      "\n",
      "On a une contrainte sur $V_{th} \\lt \\cfrac{V_{dd}}{2}$\n",
      "\n",
      "On prendra des largeurs des MOS diff\u00e9rentes, mais une longueur identique:\u00a0la plus petite possible.\n",
      "\n",
      "* $V_{in}\\lt V_{th}\\rightarrow$ NMOS bloqu\u00e9, donc $I_{DN}=I_{DP}=0$, $V_{GP}\\gt V_{th}$ donc le PMOS conduit \u00e0 courant nul, et $V_{out}=V_{DD}$\n",
      "\n",
      "* $V_{in}\\gt V_{DD}-V_{th}\\rightarrow$ PMOS bloqu\u00e9, donc $I_{DP}=I_{DN}=0$, $V_{DN}=0\\Rightarrow V_{out}=0$\n",
      "\n",
      "* $V_{th}\\lt V_{in}\\lt V_{DD}-V_{th}\\rightarrow$ NMOS et PMOS passants, donc grace \u00e0 une sym\u00e9trie NMOS/PMOS r\u00e9alis\u00e9e en changeant le rapport W/L \u00e0 cause de la diff\u00e9rence de mobilit\u00e9 des \u00e9lectrons et des trous : \n",
      "\n",
      "    * on veut $\\left(\\mu_oC_{ox}\\cfrac{W}{L}\\right)_p=\\left(\\mu_oC_{ox}\\cfrac{W}{L}\\right)_n$ \n",
      "\n",
      "    * donc il nous faut $ \\mu_{on}\\simeq2.5\\mu_{op}\\Rightarrow\\left(\\cfrac{W}{L}\\right)_p=2.5\\left(\\cfrac{W}{L}\\right)_n $.\n",
      "\n",
      "\u00c9quations: On pose $\\left(\\mu_oC_{ox}\\cfrac{W}{L}\\right)_p=\\left(\\mu_oC_{ox}\\cfrac{W}{L}\\right)_n = K$ \n",
      "\n",
      "* Si NMOS satur\u00e9 et PMOS ohmique, \n",
      "\n",
      "    * $I_{PN} = \\cfrac{K}{2}\\left(V_{GN}-V_{th}\\right)^2 = \\cfrac{K}{2}\\left(V_{in}-V_{th}\\right)^2$\n",
      "\n",
      "    * $I_{PP} = K\\left(V_{GP}-V_{th}-\\cfrac{V_{DP}}{2}\\right)V_{DP} = K\\left(V_{DD}-V_{in}-V_{th}-\\cfrac{V_{DD}-V_{out}}{2}\\right)(V_{DD}-V_{out})$\n",
      "\n",
      "* Si NMOS ohmique et PMOS\u00a0satur\u00e9,\n",
      "\n",
      "    * $I_{PN} = K\\left(V_{in}-V_{th}-\\cfrac{V_{out}}{2}\\right)V_{out}$\n",
      "\n",
      "    * $I_{PP} = \\cfrac{K}{2}\\left(V_{DD}-2V_{th}\\right)^2$\n",
      "\n",
      "On en d\u00e9duit $2\\left(v_{in}-V_{th}-\\cfrac{V_{out}}{2}\\right)V_{out} = \\left(V_{DD}-V_{in}-V_{th}\\right)^2$\n",
      "\n",
      "Et donc $V_{out}^2-2V_{out}(V_{in}-V_{th})+\\left(V_{dd}-V_{in}-V_{th}\\right)^2=0$\n",
      "\n",
      "On pose $\\Delta=(V_{in}-V_{th})^2-(V_{dd}-V_{in}-V_{th})^2$\n",
      "\n",
      "$V_{out}=V_{in}-V_{th}\\pm\\sqrt\\Delta$\n",
      "\n",
      "$V_{in}\\gt\\cfrac{V_{DD}}{2}\\Leftrightarrow V_{out}\\lt\\cfrac{V_{DD}}{2}$\n",
      "\n",
      "Application num\u00e9rique: $V_{DD}=2.5$V, $V_{th}=0.5$V et $V_{in}=1.5$V, donc $V_{out}=1\\pm\\sqrt{1-(2.5-1.5-0.5)^2}=1\\pm\\sqrt{1-0.5^2}$"
     ]
    },
    {
     "cell_type": "code",
     "collapsed": false,
     "input": [
      "1-sqrt(1-0.5**2)"
     ],
     "language": "python",
     "metadata": {},
     "outputs": [
      {
       "latex": [
        "$$0.133974596215561$$"
       ],
       "output_type": "pyout",
       "png": "[encoded data removed]",
       "prompt_number": 2,
       "text": [
        "0.133974596215561"
       ]
      }
     ],
     "prompt_number": 2
    },
    {
     "cell_type": "markdown",
     "metadata": {},
     "source": [
      "On prend le - parce que $V_{out}\\lt\\cfrac{V_{DD}}{2}$\n",
      "\n",
      "NB: on a une contrainte fondamentale de $V_{th}\\lt\\cfrac{V_{DD}}{2}$"
     ]
    },
    {
     "cell_type": "code",
     "collapsed": false,
     "input": [
      "Vdd=2.5\n",
      "Vth=0.5\n",
      "Vin=1.5\n",
      "Vin-Vth-sqrt((Vin-Vth)**2-(Vdd-Vin-Vth)**2)"
     ],
     "language": "python",
     "metadata": {},
     "outputs": [
      {
       "latex": [
        "$$0.133974596215561$$"
       ],
       "output_type": "pyout",
       "png": "[encoded data removed]",
       "prompt_number": 3,
       "text": [
        "0.133974596215561"
       ]
      }
     ],
     "prompt_number": 3
    },
    {
     "cell_type": "markdown",
     "metadata": {},
     "source": [
      "Calcul de la d\u00e9riv\u00e9e: $\\cfrac{dV_{out}}{dV_{in}}=-1\\Leftrightarrow -1 = 1-\\cfrac{1}{2}\\cfrac{2(V_{in}-V_{th})+2(V_{DD}-V_{in}-V_{th})}{\\sqrt{(V_{in}-V_{th})^2-(V_{dd}-V_{in}-V_{th})^2}}=1-\\cfrac{1}{2}\\cfrac{2V_{DD}+4V_{th}}{\\sqrt{(V_{in}-V_{th})^2-(V_{dd}-V_{in}-V_{th})^2}}\\Leftrightarrow2=\\cfrac{V_{DD}-2V_{th}}{\\sqrt{(V_{in}-V_{th})^2-(V_{dd}-V_{in}-V_{th})^2}}\\Leftrightarrow V_{in}\\simeq1.38$"
     ]
    },
    {
     "cell_type": "code",
     "collapsed": false,
     "input": [
      "from sympy.solvers import solve\n",
      "from sympy import Symbol\n",
      "Vin=Symbol('V_{in}')\n",
      "solve((Vdd-2*Vth)/sqrt((Vin-Vth)**2-(Vdd-Vin-Vth)**2)-2,Vin)"
     ],
     "language": "python",
     "metadata": {},
     "outputs": [
      {
       "latex": [
        "$$\\begin{bmatrix}1.4375\\end{bmatrix}$$"
       ],
       "output_type": "pyout",
       "prompt_number": 15,
       "text": [
        "[1.4375]"
       ]
      }
     ],
     "prompt_number": 15
    },
    {
     "cell_type": "heading",
     "level": 2,
     "metadata": {},
     "source": [
      "Portes NAND, NOR"
     ]
    },
    {
     "cell_type": "markdown",
     "metadata": {},
     "source": [
      "Dans tout circuit CMOS, si on court-circuite toutes les entr\u00e9es, on se retrouve avec un inverseur."
     ]
    },
    {
     "cell_type": "code",
     "collapsed": false,
     "input": [],
     "language": "python",
     "metadata": {},
     "outputs": []
    }
   ],
   "metadata": {}
  }
 ]
}