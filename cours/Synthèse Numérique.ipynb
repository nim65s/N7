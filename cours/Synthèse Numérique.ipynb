{
 "metadata": {
  "name": ""
 },
 "nbformat": 3,
 "nbformat_minor": 0,
 "worksheets": [
  {
   "cells": [
    {
     "cell_type": "markdown",
     "metadata": {},
     "source": [
      "Raport 14 octobre avant 9h 5 pages max\n",
      "\n",
      "xavier.chebanier@thalesaleniaspace.com"
     ]
    },
    {
     "cell_type": "heading",
     "level": 1,
     "metadata": {},
     "source": [
      "Principe G\u00e9n\u00e9ral"
     ]
    },
    {
     "cell_type": "markdown",
     "metadata": {},
     "source": [
      "Le but de ce programme est de multiplier 32 mots de 12 bits entrant avec les 16 mots de 11 bit pr\u00e9sents dans la ROM, et d\u2019accumuler les r\u00e9sultats.\n",
      "\n",
      "On utilise pour cela cinq blocs principaux:\n",
      "\n",
      "* une ROM: une m\u00e9moire qui contient des donn\u00e9es arbitraires, auxquelles on acc\u00e8de gr\u00e2ce \u00e0 leur adresse\n",
      "* une DPRAM: une m\u00e9moire \u00e0 deux ports d\u2019entr\u00e9e sortie, o\u00f9 l\u2019on utilise en fait seulement l\u2019entr\u00e9e d\u2019un port et la sortie de l\u2019autre\n",
      "* un multiplieur 11\u00d712 bits, cabl\u00e9 sur les sorties de la ROM et de la dpRAM\n",
      "* un accumulateur \u00e0 la sortie du multiplieur\n",
      "* un s\u00e9quenceur qui va g\u00e9rer les composants pr\u00e9c\u00e9dents (adresses, actions, etc.)"
     ]
    },
    {
     "cell_type": "heading",
     "level": 1,
     "metadata": {},
     "source": [
      "Conception VHDL"
     ]
    },
    {
     "cell_type": "heading",
     "level": 2,
     "metadata": {},
     "source": [
      "Description des blocs"
     ]
    },
    {
     "cell_type": "heading",
     "level": 3,
     "metadata": {},
     "source": [
      "DPRAM"
     ]
    },
    {
     "cell_type": "markdown",
     "metadata": {},
     "source": [
      "Le premier bloc que nous avons con\u00e7u. Ses sp\u00e9cifications ont \u00e9t\u00e9 simplifi\u00e9es en cours de route, mais nous avons toujours un bloc qui permet de lire et d\u2019\u00e9crire sur les deux ports. Il est relativement simple : pour chacun des ports, si le \u00abChip Select\u00bb est actif, soit on lit les donn\u00e9es  \u00e0 l\u2019adresse indiqu\u00e9e vers le port \u00abdata\u00bb, soit on \u00e9crit ces \u00abdata\u00bb \u00e0 l\u2019adresse indiqu\u00e9e.\n",
      "\n",
      "La m\u00e9moire y est mod\u00e9lis\u00e9e en VHDL\u00a0par un tableau de 32 vecteurs de 12 bits."
     ]
    },
    {
     "cell_type": "heading",
     "level": 3,
     "metadata": {},
     "source": [
      "ROM"
     ]
    },
    {
     "cell_type": "markdown",
     "metadata": {},
     "source": [
      "Ce bloc est une reprise du pr\u00e9c\u00e9dent, mais simplifi\u00e9. La principale diff\u00e9rence (outre le fait qu\u2019il n\u2019y ait qu\u2019un seul port\u2026) vient du fait qu\u2019on n\u2019\u00e9crit pas dans une \u00abRead-Only Memory\u00bb, et on doit donc initialiser la m\u00e9moire directement dans le code."
     ]
    },
    {
     "cell_type": "heading",
     "level": 3,
     "metadata": {},
     "source": [
      "Multiplieur"
     ]
    },
    {
     "cell_type": "markdown",
     "metadata": {},
     "source": [
      "Ce bloc \u00e9tait au d\u00e9but le plus simple qui soit, et tenait en une ligne utile (\u00absortie <= A * B;\u00bb). Cependant, nous avons apport\u00e9 par la suite un certain nombre d\u2019optimisations (voir la partie \u00abSynth\u00e8se\u00bb)."
     ]
    },
    {
     "cell_type": "heading",
     "level": 3,
     "metadata": {},
     "source": [
      "Accumulateur"
     ]
    },
    {
     "cell_type": "markdown",
     "metadata": {},
     "source": [
      "Ce bloc n\u2019est constitu\u00e9 que d\u2019une variable qu\u2019on incr\u00e9mente avec la valeur en entr\u00e9e tant qu\u2019on lui demande d\u2019\u00eatre actif. On peut \u00e9galement le remettre \u00e0 z\u00e9ro, notamment lors d\u2019un nouveau front montant sur \u00abEnable\u00bb."
     ]
    },
    {
     "cell_type": "heading",
     "level": 3,
     "metadata": {},
     "source": [
      "S\u00e9quenceur"
     ]
    },
    {
     "cell_type": "markdown",
     "metadata": {},
     "source": [
      "Le bloc principal du design fonctionne sur le principe d\u2019une machine \u00e0 \u00e9tat, qui est bas\u00e9e sur un compteur. Le front montant d\u2019\u00abEnable\u00bb d\u00e9clenche ce compteur, et il va orchestrer les actions des autres modules. Il est particuli\u00e8rement verbeux (~ 200 lignes), vu qu\u2019il sert \u00e9galement de top module et qu\u2019on doit donc importer tous les autres, ainsi que toutes leurs entr\u00e9es et sorties."
     ]
    },
    {
     "cell_type": "heading",
     "level": 2,
     "metadata": {},
     "source": [
      "Choix architecture"
     ]
    },
    {
     "cell_type": "markdown",
     "metadata": {},
     "source": [
      "Le premier v\u00e9ritable choix que nous avons v\u00e9ritablement fait a \u00e9t\u00e9 de ne pas suivre \u00e0 la lettre le sujet pour le s\u00e9quenceur. Il est propos\u00e9 de passer les 32 premiers coups d\u2019horloge \u00e0 charger la DPRAM puis de commencer les multiplications et additions ensuite. Il nous a paru relativement naturel de commencer les multiplications d\u00e8s que possible, c\u2019est \u00e0 dire d\u00e8s le second coup d\u2019horloge. \n",
      "\n",
      "Notre second choix important a \u00e9t\u00e9 au niveau de la machine d\u2019\u00e9tat du s\u00e9quenceur: nous avons simplement cr\u00e9\u00e9 un compteur, et index\u00e9 les addresses et actions \u00e0 r\u00e9aliser par les diff\u00e9rents autres composants sur ce compteur."
     ]
    },
    {
     "cell_type": "heading",
     "level": 1,
     "metadata": {},
     "source": [
      "Simulation"
     ]
    },
    {
     "cell_type": "heading",
     "level": 1,
     "metadata": {},
     "source": [
      "Synth\u00e8se"
     ]
    },
    {
     "cell_type": "markdown",
     "metadata": {},
     "source": [
      "Notre premier r\u00e9flexe apr\u00e8s la simulation a \u00e9t\u00e9 de changer les gammes et les vitesses du FPGA pour voir quel \u00e9tait le gain sur la performance (fr\u00e9quence d\u2019utilisation, qui est li\u00e9e au d\u00e9lai du plus long chemin).\n",
      "\n",
      "Ce gain en passant du Spartan3 au Virtex7 est de 53%, et on atteind une fr\u00e9quence de 224MHz.\n",
      "\n",
      "Puisque nous \u00e9tions un peu en avance, on a eu le temps de r\u00e9fl\u00e9chir \u00e0 optimiser un peu notre design pour augmenter encore cette fr\u00e9quence. L\u2019id\u00e9e de la d\u00e9marche est relativement simple: on prend le chemin le plus long, et on met une bascule D au milieu. On perd ainsi un cycle d\u2019horloge, mais ce n\u2019est pas un gros probl\u00e8me dans cette application.\n",
      "\n",
      "Le bloc \u00e0 optimiser \u00e9tait assez clairement le multiplieur. Notre premi\u00e8re \u00e9tape a donc \u00e9t\u00e9 de scinder la multiplication de 11\u00d712 en deux multiplications de 5\u00d712 et 6\u00d712 puis une addition, mais les r\u00e9sultats n\u2019ont pas \u00e9t\u00e9 excellents. On a ensuite pers\u00e9v\u00e9r\u00e9 dans cette id\u00e9e mais d\u2019une mani\u00e8re autrement plus massive en faisant 11 \u00abet\u00bb logiques, des d\u00e9calages et un arbre d\u2019additions (et ainsi plus aucune multiplication). On a alors perdu 4 cycles d\u2019horloge, mais le gain en fr\u00e9quence a \u00e9t\u00e9 relativement impressionant (53%).\n",
      "\n",
      "Ce gain en fr\u00e9quence a \u00e9t\u00e9 tel qu\u2019il a plus que compens\u00e9 la perte de temps d\u00fbe au nombre de cycles (36 cycles \u00d7 4.466 ns / cycle = 161 ns avant contre 41 cycles \u00d7 2.914 ns / cycle = 119 ns apr\u00e8s, soit une am\u00e9lioration de 26% sur la dur\u00e9e totale du traitement).\n",
      "\n",
      "Nous avons ensuite pouss\u00e9 le vice jusqu\u2019\u00e0 recommencer l\u2019op\u00e9ration en cherchant le nouveau chemin le plus long, et il s\u2019est av\u00e9r\u00e9 qu\u2019il \u00e9tait entre la sortie de la DPRAM et l\u2019entr\u00e9e du multiplieur. Nous avons alors repris notre id\u00e9e initialle en scindant en deux parties ce bus, ce qui  nous a permis de passer de 343 MHz \u00e0 371 MHz."
     ]
    },
    {
     "cell_type": "markdown",
     "metadata": {},
     "source": [
      "carte | opti | minimum period (ns) | fr\u00e9quence correspondante (MHz) | LUT utilis\u00e9es | portion de LUT utilis\u00e9es | puissance (mW)\n",
      "\n",
      "Spartan3 0 6.611 151 1* 0 103\n",
      "\n",
      "Spartan6 0 6.066 165 1* 0 68\n",
      "\n",
      "Virtex6  0 4.786 209 1* 0 5855**\n",
      "\n",
      "Virtex7  0 4.466 224 1* 0 203\n",
      "\n",
      "Virtex7  1 2.914 343\n",
      "\n",
      "Virtex7  2 2.694 371 250 1\u2030 211\n",
      "\n",
      "*Pourtant les timings de cette simulation sont bons\u2026 C\u2019est donc tr\u00e8s probablement un bug.\n",
      "\n",
      "**Cette valeur est \u00e9galement ab\u00e9rante\u2026"
     ]
    },
    {
     "cell_type": "code",
     "collapsed": false,
     "input": [],
     "language": "python",
     "metadata": {},
     "outputs": []
    }
   ],
   "metadata": {}
  }
 ]
}