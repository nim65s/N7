{
 "metadata": {
  "name": "Projet Hyper"
 },
 "nbformat": 3,
 "nbformat_minor": 0,
 "worksheets": [
  {
   "cells": [
    {
     "cell_type": "heading",
     "level": 1,
     "metadata": {},
     "source": [
      "S\u00e9ance 1"
     ]
    },
    {
     "cell_type": "markdown",
     "metadata": {},
     "source": [
      "Sujet 7: Amplificateur faible bruit (LNA)"
     ]
    },
    {
     "cell_type": "markdown",
     "metadata": {},
     "source": [
      "\u2212 Gain ?\n",
      "\u2212 litt\u00e9rature\n",
      "    trouv\u00e9s: \n",
      "        http://jonathan.amiach.free.fr/Data/OPTION MI/OPTION\u00a0MI ELEC3/Rapport Conception LNA.pdf\n",
      "        planar microwave engineering, Thomas H Lee, ISBN 0 521 83526 7, p440\n",
      "\n",
      "\u2212 Choix du transistor, surtout sur la figure de bruit, puis sur le gain. Gaffe \u00e0 la fr\u00e9quence de transition. sur ceux qu\u2019on garde, on regarde nfmin, gmax.\n",
      "Pas d\u2019imp\u00e9ratif sur le gain, surtout rester sour 3dB de bruits\n",
      "\n",
      "FET: fichier zap associ\u00e9 (zip ads=> unarchive project): y\u2019a l\u2019empreinte, la connectique est prise en compte\n",
      "\n",
      "Premier choix: on fonctionne en classe A, pour \u00e9viter la distorsion.\n",
      "\n",
      "BFR520 -> 9GHz, mort\n",
      "BFQ67 -> 8GHz, mort\n",
      "BFG135 -> 7GHz, mort ==> Pas du tout pas du tout\n",
      "\n",
      "Il nous reste les trois FET\n",
      "\\begin{verbatim}\n",
      "+----------+-------------+-------------------+-------------------+------------+-----------+\n",
      "|  @2.5GHz |    S11      |       S21         |        S12        |     S22    |    Fmin   |\n",
      "+----------+-------------+-------------------+-------------------+------------+-----------+\n",
      "| ATF33143 |     0.74    |   3.98 (11.98dB)  | 0.088 (-21.24dB)  |    0.49    |    0.51   |\n",
      "+----------+-------------+-------------------+-------------------+------------+-----------+\n",
      "| ATF34143 |     0.72    |  5.438 (14.71dB)  | 0.095 (-20.45dB)  |    0.25    |    0.23   |\n",
      "+----------+-------------+-------------------+-------------------+------------+-----------+\n",
      "| ATF54143 |     0.61    |   5.84 (15.33dB)  | 0.072             |    0.15    |    0.51   |\n",
      "+----------+-------------+-------------------+-------------------+------------+-----------+\n",
      "\\end{verbatim}"
     ]
    },
    {
     "cell_type": "code",
     "collapsed": false,
     "input": [
      "from math import sqrt\n",
      "\n",
      "\n",
      "class FET:\n",
      "    def __init__(self, s11, s21, s12, s22, f, name):\n",
      "        print name, ':'\n",
      "        self.name = name\n",
      "        self.s11 = s11\n",
      "        self.s21 = s21\n",
      "        self.s12 = s12\n",
      "        self.s22 = s22\n",
      "        self.f = f\n",
      "        self.MSG = abs(s21 / s12)\n",
      "        print '\\tMSG', self.MSG\n",
      "        self.Delta = abs(s11 * s22 - s12 * s21)\n",
      "        print '\\tDelta', self.Delta\n",
      "        K = (1 + self.Delta**2 - s11**2 - s22**2) / ( 2 * abs(s12*s21) )\n",
      "        print '\\tK', K\n",
      "        if K > 1:\n",
      "            if self.Delta > 1:\n",
      "                self.Gdmax = self.MSG * abs(K+sqrt(K**2-1))\n",
      "            else:\n",
      "                self.Gdmax = self.MSG * abs(K-sqrt(K**2-1))\n",
      "            print '\\tGdmax', self.Gdmax\n",
      "        print\n",
      "\n",
      "ATF33143 = FET(0.74, 3.98,  0.088, 0.49, 0.51, 'ATF 33143')\n",
      "ATF34143 = FET(0.72, 5.438, 0.095, 0.25, 0.23, 'ATF 34143')\n",
      "ATF54143 = FET(0.61, 5.84,  0.072, 0.15, 0.51, 'ATF 54143')\n",
      "\n",
      "choisi = FET(0.67, 5.848, 0.078, 0.166, 0.631, 'choisi')"
     ],
     "language": "python",
     "metadata": {},
     "outputs": [
      {
       "output_type": "stream",
       "stream": "stdout",
       "text": [
        "ATF 33143 :\n",
        "\tMSG 45.2272727273\n",
        "\tDelta 0.01236\n",
        "\tK 0.303295982184\n",
        "\n",
        "ATF 34143 :\n",
        "\tMSG 57.2421052632\n",
        "\tDelta 0.33661\n",
        "\tK 0.515288411084\n",
        "\n",
        "ATF 54143 :\n",
        "\tMSG 81.1111111111\n",
        "\tDelta 0.32898\n",
        "\tK 0.848587138984\n",
        "\n",
        "choisi :\n",
        "\tMSG 74.9743589744\n",
        "\tDelta 0.344924\n",
        "\tK 0.704291370462\n",
        "\n"
       ]
      }
     ],
     "prompt_number": 1
    },
    {
     "cell_type": "markdown",
     "metadata": {},
     "source": [
      "On polarise les trois FET, et on reprend les param\u00e8tres S, une fois les FET\u00a0polaris\u00e9s"
     ]
    },
    {
     "cell_type": "markdown",
     "metadata": {},
     "source": [
      "Cahier des charges fix\u00e9 / simul\u00e9 / mesur\u00e9\n",
      "\n",
      "tension d\u2019alim: 12V / 12V / 12V\n",
      "\n",
      "tension de polarisation: \n",
      "\n",
      "consommation: \n",
      "\n",
      "NF: sous 3dB\n",
      "\n",
      "gain:\n",
      "\n",
      "bande passante:\n",
      "\n",
      "\n",
      "ATF 34134:\n",
      "\n",
      "Idss = 0.154, on divise \u00e7a par 5 (pas besoin d\u2019un grand gain en sortie, et Fmin en fonction de Ids/Idss et min pour 0.2, et du coup on consomme moins, \u00e7a fait 0.0308, ce qui correspond \u00e0 un Vgs de -0.54.\n",
      "\n",
      "Sous 3V, \u00e7a fait 115mW, or dans la datasheet, le maxmimum admissible est de 725mW, donc on est large\n",
      "\n",
      "\n",
      "Si on trace NFmin en fonction Vgs, on voit un min \u00e0 Vgs = -0.28\n",
      "\n",
      "Si on trace PwrGain en fonction de Vgs, on voit un max \u00e0 Vgs = -0.29\n",
      "\n",
      "Si on trace NFmin en fonction de Vds \u00e0 Vgs = -0.28, on voit que plus Vds augmente, plus Fmin diminue. \u00e0 voir avec la consommation et le gain."
     ]
    },
    {
     "cell_type": "heading",
     "level": 1,
     "metadata": {},
     "source": [
      "S\u00e9ance 2"
     ]
    },
    {
     "cell_type": "markdown",
     "metadata": {},
     "source": [
      "Si on trace NF et PwrGain en fonction de Vds, on voit des pentes assez faibles pour Vds entre 1 et 5.5V, o\u00f9 plus Vds augmente, plus PwrGain augmente et NF diminue.\n",
      "\n",
      "Sinon, en regardant les datasheet des NPN, les NF sont entre 1 et 3 pour ceux qui se clament \u00ablow noise\u00bb, tandis que pour les FET c\u2019est entre 0.26 et 0.51, ce qui justifie donc le choix des FET.\n",
      "\n",
      "Au vu des r\u00e9sultats du tableau, on voit pas l\u2019int\u00e9r\u00eat du 33. Entre le 34 et le 54, les perfs du 54 sont un poil meilleures, mais on choisi le 54 parce que sa tension Vgs est positive, ce qui est quand m\u00eame plus facile \u00e0 obtenir, quand on a une alim 0/12V.\n",
      "\n",
      "Pour le choix du substrat, on consid\u00e8re essentiellement l\u2019epsilon r, et on a le choix entre 10.7 et 2.55. On prendra donc 10.7, le 2.55 \u00e9tant plut\u00f4t r\u00e9serv\u00e9 aux antennes (meilleur rayonnement), et nous on veut moins de pertes."
     ]
    }
   ],
   "metadata": {}
  }
 ]
}