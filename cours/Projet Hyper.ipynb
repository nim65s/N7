{
 "metadata": {
  "name": "Projet Hyper"
 },
 "nbformat": 3,
 "nbformat_minor": 0,
 "worksheets": [
  {
   "cells": [
    {
     "cell_type": "heading",
     "level": 1,
     "metadata": {},
     "source": [
      "S\u00e9ance 1"
     ]
    },
    {
     "cell_type": "markdown",
     "metadata": {},
     "source": [
      "Sujet 7: Amplificateur faible bruit (LNA)"
     ]
    },
    {
     "cell_type": "markdown",
     "metadata": {},
     "source": [
      "\u2212 Gain ?\n",
      "\u2212 litt\u00e9rature\n",
      "    trouv\u00e9s: \n",
      "        http://jonathan.amiach.free.fr/Data/OPTION MI/OPTION\u00a0MI ELEC3/Rapport Conception LNA.pdf\n",
      "        planar microwave engineering, Thomas H Lee, ISBN 0 521 83526 7, p440\n",
      "\n",
      "\u2212 Choix du transistor, surtout sur la figure de bruit, puis sur le gain. Gaffe \u00e0 la fr\u00e9quence de transition. sur ceux qu\u2019on garde, on regarde nfmin, gmax.\n",
      "Pas d\u2019imp\u00e9ratif sur le gain, surtout rester sour 3dB de bruits\n",
      "\n",
      "FET: fichier zap associ\u00e9 (zip ads=> unarchive project): y\u2019a l\u2019empreinte, la connectique est prise en compte\n",
      "\n",
      "Premier choix: on fonctionne en classe A, pour \u00e9viter la distorsion.\n",
      "\n",
      "BFR520 -> 9GHz, mort\n",
      "BFQ67 -> 8GHz, mort\n",
      "BFG135 -> 7GHz, mort ==> Pas du tout pas du tout\n",
      "\n",
      "Il nous reste les trois FET\n",
      "\\begin{verbatim}\n",
      "+----------+-------------+-------------------+-------------------+------------+-----------+\n",
      "|  @2.5GHz |    S11      |       S21         |        S12        |     S22    |    Fmin   |\n",
      "+----------+-------------+-------------------+-------------------+------------+-----------+\n",
      "| ATF33143 |     0.74    |   3.98 (11.98dB)  | 0.088 (-21.24dB)  |    0.49    |    0.51   |\n",
      "+----------+-------------+-------------------+-------------------+------------+-----------+\n",
      "| ATF34143 |     0.72    |  5.438 (14.71dB)  | 0.095 (-20.45dB)  |    0.25    |    0.23   |\n",
      "+----------+-------------+-------------------+-------------------+------------+-----------+\n",
      "| ATF54143 |     0.61    |   5.84 (15.33dB)  | 0.072             |    0.15    |    0.51   |\n",
      "+----------+-------------+-------------------+-------------------+------------+-----------+\n",
      "\\end{verbatim}"
     ]
    },
    {
     "cell_type": "code",
     "collapsed": false,
     "input": [
      "from math import sqrt\n",
      "\n",
      "\n",
      "class FET:\n",
      "    def __init__(self, s11, s21, s12, s22, f, name):\n",
      "        print name, ':'\n",
      "        self.name = name\n",
      "        self.s11 = s11\n",
      "        self.s21 = s21\n",
      "        self.s12 = s12\n",
      "        self.s22 = s22\n",
      "        self.f = f\n",
      "        self.MSG = abs(s21 / s12)\n",
      "        print '\\tMSG', self.MSG\n",
      "        self.Delta = abs(s11 * s22 - s12 * s21)\n",
      "        print '\\tDelta', self.Delta\n",
      "        K = (1 + self.Delta**2 - s11**2 - s22**2) / ( 2 * abs(s12*s21) )\n",
      "        print '\\tK', K\n",
      "        if K > 1:\n",
      "            if self.Delta > 1:\n",
      "                self.Gdmax = self.MSG * abs(K+sqrt(K**2-1))\n",
      "            else:\n",
      "                self.Gdmax = self.MSG * abs(K-sqrt(K**2-1))\n",
      "            print '\\tGdmax', self.Gdmax\n",
      "        print\n",
      "\n",
      "ATF33143 = FET(0.74, 3.98,  0.088, 0.49, 0.51, 'ATF 33143')\n",
      "ATF34143 = FET(0.72, 5.438, 0.095, 0.25, 0.23, 'ATF 34143')\n",
      "ATF54143 = FET(0.61, 5.84,  0.072, 0.15, 0.51, 'ATF 54143')\n",
      "\n",
      "choisi = FET(0.67, 5.848, 0.078, 0.166, 0.631, 'choisi')"
     ],
     "language": "python",
     "metadata": {},
     "outputs": [
      {
       "output_type": "stream",
       "stream": "stdout",
       "text": [
        "ATF 33143 :\n",
        "\tMSG 45.2272727273\n",
        "\tDelta 0.01236\n",
        "\tK 0.303295982184\n",
        "\n",
        "ATF 34143 :\n",
        "\tMSG 57.2421052632\n",
        "\tDelta 0.33661\n",
        "\tK 0.515288411084\n",
        "\n",
        "ATF 54143 :\n",
        "\tMSG 81.1111111111\n",
        "\tDelta 0.32898\n",
        "\tK 0.848587138984\n",
        "\n",
        "choisi :\n",
        "\tMSG 74.9743589744\n",
        "\tDelta 0.344924\n",
        "\tK 0.704291370462\n",
        "\n"
       ]
      }
     ],
     "prompt_number": 1
    },
    {
     "cell_type": "markdown",
     "metadata": {},
     "source": [
      "On polarise les trois FET, et on reprend les param\u00e8tres S, une fois les FET\u00a0polaris\u00e9s"
     ]
    },
    {
     "cell_type": "markdown",
     "metadata": {},
     "source": [
      "Cahier des charges fix\u00e9 / simul\u00e9 / mesur\u00e9\n",
      "\n",
      "tension d\u2019alim: 12V / 12V / 12V\n",
      "\n",
      "tension de polarisation: \n",
      "\n",
      "consommation: \n",
      "\n",
      "NF: sous 3dB\n",
      "\n",
      "gain:\n",
      "\n",
      "bande passante:\n",
      "\n",
      "\n",
      "ATF 34134:\n",
      "\n",
      "Idss = 0.154, on divise \u00e7a par 5 (pas besoin d\u2019un grand gain en sortie, et Fmin en fonction de Ids/Idss et min pour 0.2, et du coup on consomme moins, \u00e7a fait 0.0308, ce qui correspond \u00e0 un Vgs de -0.54.\n",
      "\n",
      "Sous 3V, \u00e7a fait 115mW, or dans la datasheet, le maxmimum admissible est de 725mW, donc on est large\n",
      "\n",
      "\n",
      "Si on trace NFmin en fonction Vgs, on voit un min \u00e0 Vgs = -0.28\n",
      "\n",
      "Si on trace PwrGain en fonction de Vgs, on voit un max \u00e0 Vgs = -0.29\n",
      "\n",
      "Si on trace NFmin en fonction de Vds \u00e0 Vgs = -0.28, on voit que plus Vds augmente, plus Fmin diminue. \u00e0 voir avec la consommation et le gain."
     ]
    },
    {
     "cell_type": "heading",
     "level": 1,
     "metadata": {},
     "source": [
      "S\u00e9ance 2"
     ]
    },
    {
     "cell_type": "markdown",
     "metadata": {},
     "source": [
      "Si on trace NF et PwrGain en fonction de Vds, on voit des pentes assez faibles pour Vds entre 1 et 5.5V, o\u00f9 plus Vds augmente, plus PwrGain augmente et NF diminue.\n",
      "\n",
      "Sinon, en regardant les datasheet des NPN, les NF sont entre 1 et 3 pour ceux qui se clament \u00ablow noise\u00bb, tandis que pour les FET c\u2019est entre 0.26 et 0.51, ce qui justifie donc le choix des FET.\n",
      "\n",
      "Au vu des r\u00e9sultats du tableau, on voit pas l\u2019int\u00e9r\u00eat du 33. Entre le 34 et le 54, les perfs du 54 sont un poil meilleures, mais on choisi le 54 parce que sa tension Vgs est positive, ce qui est quand m\u00eame plus facile \u00e0 obtenir, quand on a une alim 0/12V.\n",
      "\n",
      "Pour le choix du substrat, on consid\u00e8re essentiellement l\u2019epsilon r, et on a le choix entre 10.7 et 2.55. On prendra donc 10.7, le 2.55 \u00e9tant plut\u00f4t r\u00e9serv\u00e9 aux antennes (meilleur rayonnement), et nous on veut moins de pertes."
     ]
    },
    {
     "cell_type": "heading",
     "level": 1,
     "metadata": {},
     "source": [
      "S\u00e9ance 3"
     ]
    },
    {
     "cell_type": "markdown",
     "metadata": {},
     "source": [
      "Fin des tests du circuit de polarisation\n",
      "\n",
      "Passage sous momentum du circuit de polarisation ( pour voir si les param\u00e8tres S collent toujours quand on est d'un point de vue \"physique\")\n",
      "\n",
      "Stabilit\u00e9 transistor (coeff K de Rollet) ok (>1). On a conclut au transistor inconditionnellement stable (v\u00e9rification avec cercles de stab sur abque de Smith).\n",
      "\n",
      "Trac\u00e9 des cercles de gains/bruits pour le LNA et prise de d\u00e9cision compromis gain/bruit.\n",
      "\n",
      "Une fois ce compromis obtenus on a la valeur de l'imp\u00e9dance \u00e0 ramener en entr\u00e9e du transistor (l'adaptation en sortie ce fera apr\u00e8s)."
     ]
    },
    {
     "cell_type": "heading",
     "level": 1,
     "metadata": {},
     "source": [
      "S\u00e9ance 4"
     ]
    },
    {
     "cell_type": "markdown",
     "metadata": {},
     "source": [
      "Apr\u00e8s avoir trac\u00e9 les cercles de gain et de bruit en entr\u00e9e lors de la derni\u00e8re s\u00e9ance, on choisi le point d\u2019imp\u00e9dance 1-0.8j, qui est proche d\u2019\u00eatre tangeant aux cercles de plus petit bruit et de plus grand gain que nous ayons.\n",
      "\n",
      "On ajoute alors un stub s\u00e9rie de $\\lambda/4$ et un stub parall\u00e8le de 38.8\u00b0 (le premier est logique, le second nous est indiqu\u00e9 par le Smith Chart Utility)"
     ]
    },
    {
     "cell_type": "code",
     "collapsed": false,
     "input": [
      "Image(filename='Hyper/Seance 4/carac_tr_adapt_entree_gain_bruit.png')"
     ],
     "language": "python",
     "metadata": {},
     "outputs": [
      {
       "output_type": "pyout",
       "png": "[encoded data removed]",
       "prompt_number": 8,
       "text": [
        "<IPython.core.display.Image object at 0x3f03310>"
       ]
      }
     ],
     "prompt_number": 8
    },
    {
     "cell_type": "markdown",
     "metadata": {},
     "source": [
      "Il nous resterait donc \u00e0 assurer l\u2019adaptation en sortie; cependant, elle est d\u00e9j\u00e0 tr\u00e8s bonne, est l\u2019am\u00e9liorer trop risquerait de nous d\u00e9sadapter l\u2019entr\u00e9e."
     ]
    },
    {
     "cell_type": "markdown",
     "metadata": {},
     "source": [
      "On essaye donc de modifier l\u00e9g\u00e8rement les param\u00e8tres des stubs, de mani\u00e8re \u00e0 avoir les m\u00eames performances \u00e0 2.4 et 2.5 GHz.\n",
      "\n",
      "Apr\u00e8s un l\u00e9ger tune, on choisi de garder 91\u00b0 et 39.1\u00b0"
     ]
    },
    {
     "cell_type": "code",
     "collapsed": false,
     "input": [
      "Image(filename='Hyper/Seance 4/carac_tr_adapt_entree_gain_bruit_apres_tune.png')"
     ],
     "language": "python",
     "metadata": {},
     "outputs": [
      {
       "output_type": "pyout",
       "png": "[encoded data removed]",
       "prompt_number": 5,
       "text": [
        "<IPython.core.display.Image object at 0x3f031d0>"
       ]
      }
     ],
     "prompt_number": 5
    },
    {
     "cell_type": "code",
     "collapsed": false,
     "input": [
      "Image(filename='Hyper/Seance 4/carac_tr_adapt_entree_gain_bruit_apres_tune_zoom.png')"
     ],
     "language": "python",
     "metadata": {},
     "outputs": [
      {
       "output_type": "pyout",
       "png": "[encoded data removed]",
       "prompt_number": 9,
       "text": [
        "<IPython.core.display.Image object at 0x3f03710>"
       ]
      }
     ],
     "prompt_number": 9
    },
    {
     "cell_type": "markdown",
     "metadata": {},
     "source": [
      "Retour sur le cahier des charges fix\u00e9 / simul\u00e9 / mesur\u00e9\n",
      "\n",
      "tension d\u2019alim: 12V / 12V / 12V\n",
      "\n",
      "Vds:  3 / 3 /\n",
      "\n",
      "Vgs: 0.86 / 0.86 /\n",
      "\n",
      "consommation: / 0.421 mA\n",
      "\n",
      "Puissance: inf\u00e9rieure \u00e0 725mW / \n",
      "\n",
      "NFmin: sous 3dB / /\n",
      "\n",
      "nf(2): proche de NFmin / / \n",
      "\n",
      "gain: meilleur rapport gain-bruit / \n",
      "\n",
      "bande passante: au moins entre 2.4 et 2.5GHz"
     ]
    },
    {
     "cell_type": "markdown",
     "metadata": {},
     "source": [
      "On se retrouve avec un Ids de 421mA et un Vds de 3V, donc on d\u00e9passe largement la puissance maximale dissipable par le boitier.\n",
      "\n",
      "On essaye donc de baisser Vds \u00e0 1V, ce qui ne semble pas trop affecter les performances, mais divise par plus de trois la puissance dissip\u00e9e.\n",
      "\n",
      "On est donc \u00e0 Ids 369 mA, et \u00e0 une puissance dissip\u00e9e de 369 mW.\n",
      "\n",
      "Cependant, la datasheet donne \u00e9galement un courant maximal Ids de 120 mV, ce qui nous laisse peu d\u2019autres choix que de baisser le Vgs.\n",
      "\n",
      "On a alors Vds = 3V, Vgs = 0.65V, Ids = 0.111V, P = 111 mW.\n",
      "\n",
      "On reprend la m\u00eame marche \u00e0 suivre, et on arrive, apr\u00e8s un tune sur l\u2019adaptation des stubs d\u2019entr\u00e9e \u00e0 un stub s\u00e9rie de 93\u00b0 et un stub parall\u00e8le court-circuit\u00e9 de 41.5\u00b0:"
     ]
    },
    {
     "cell_type": "heading",
     "level": 1,
     "metadata": {},
     "source": [
      "S\u00e9ance 5"
     ]
    },
    {
     "cell_type": "markdown",
     "metadata": {},
     "source": [
      "Le stub parall\u00e8le court-circuit\u00e9 est bon, mais technologiquement, on pr\u00e9f\u00e8re les circuits ouverts, donc on ajoute 90\u00b0. Cela ajoute un p\u00f4le \u00e0 1.6GHz, mais peu importe.\n",
      "\n",
      "On cr\u00e9e alors un mod\u00e8le momentum du r\u00e9seau d\u2019adaptation en entr\u00e9e, avec le T.\n",
      "\n",
      "Apr\u00e8s avoir pass\u00e9 les lignes id\u00e9ales en microstrip, on essaye d\u2019adapter la sortie. Il se trouve que la partie imaginaire de l\u2019imp\u00e9dance recherch\u00e9e est tr\u00e8s proche de 0, donc on peut se contenter d\u2019ajouter une ligne quart d\u2019onde d\u2019imp\u00e9dance $\\sqrt{50\\cdot0.63}=5.6\\Omega$"
     ]
    },
    {
     "cell_type": "markdown",
     "metadata": {},
     "source": [
      "Tune: \n",
      "W2 L4   L3\n",
      "81 657 469\n"
     ]
    },
    {
     "cell_type": "heading",
     "level": 1,
     "metadata": {},
     "source": [
      "Tests"
     ]
    },
    {
     "cell_type": "code",
     "collapsed": false,
     "input": [
      "--"
     ],
     "language": "python",
     "metadata": {},
     "outputs": []
    }
   ],
   "metadata": {}
  }
 ]
}