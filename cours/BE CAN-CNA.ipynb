{
 "metadata": {
  "name": ""
 },
 "nbformat": 3,
 "nbformat_minor": 0,
 "worksheets": [
  {
   "cells": [
    {
     "cell_type": "heading",
     "level": 1,
     "metadata": {},
     "source": [
      "cousineau@enseeiht.fr"
     ]
    },
    {
     "cell_type": "markdown",
     "metadata": {},
     "source": [
      "* D\u00e9terminer le nombre de composants (r\u00e9sistances, capacit\u00e9s et interrupteurs) n\u00e9cessaires pour **M=2** et **K=4** (avec N-bits=M-bits+K-bits)."
     ]
    },
    {
     "cell_type": "markdown",
     "metadata": {},
     "source": [
      "Si $M=2$, on a besoin de $2^M=4$ r\u00e9sistances, et si $K=4$ il nous faut $K+1=5$ condensateurs.\n",
      "\n",
      "Pour les interrupteurs, il nous en faut\n",
      "\n",
      "* $4+1$ pour les r\u00e9sistances\n",
      "* $K\u00d72$ pour les condensateurs\n",
      "* $1$ pour $S_F$\n",
      "\n",
      "Ce qui fait 13 interrupteurs (apr\u00e8s une approximation au premier ordre)."
     ]
    },
    {
     "cell_type": "markdown",
     "metadata": {},
     "source": [
      "* Selon vous, quel est l\u2019int\u00e9r\u00eat de ce choix pour un convertisseur 6-bits ?"
     ]
    },
    {
     "cell_type": "markdown",
     "metadata": {},
     "source": [
      "TODO"
     ]
    },
    {
     "cell_type": "markdown",
     "metadata": {},
     "source": [
      "* R\u00e9aliser un **interrupteur CMOS** fonctionnant sur toute la gamme du signal \u00e0 convertir de 0v Vref. On prendra Vref = Vdd = 5V."
     ]
    },
    {
     "cell_type": "markdown",
     "metadata": {},
     "source": [
      "IMAGE"
     ]
    },
    {
     "cell_type": "markdown",
     "metadata": {},
     "source": [
      "* Tracer $R_{on} = f(V_e)$ avec un $V_{gs}$ maximum ($R_{on}$: r\u00e9sistance \u00e0 l\u2019\u00e9tat passant)."
     ]
    },
    {
     "cell_type": "markdown",
     "metadata": {},
     "source": [
      "IMAGE"
     ]
    },
    {
     "cell_type": "markdown",
     "metadata": {},
     "source": [
      "* R\u00e9aliser un **multiplexeur 2 voies** (utilisant l\u2019interrupteur pr\u00e9c\u00e9dent)."
     ]
    },
    {
     "cell_type": "markdown",
     "metadata": {},
     "source": [
      "IMAGE"
     ]
    },
    {
     "cell_type": "markdown",
     "metadata": {},
     "source": [
      "* R\u00e9aliser un **convertisseur 6-bits** utilisant un amplificateur id\u00e9al"
     ]
    },
    {
     "cell_type": "markdown",
     "metadata": {},
     "source": [
      "$\\phi b_0 b_1$, $\\phi b_0$, $\\phi b_0 \\oplus b_1$, $\\phi \\bar b_0$, $\\phi \\bar b_0 \\bar b_1$\n",
      "\n",
      "$S_A = \\bar S_B = b_1$\n",
      "\n",
      "$S_{M+i} = b_{M+1}$\n",
      "\n",
      "$S_F = \\phi$"
     ]
    },
    {
     "cell_type": "markdown",
     "metadata": {},
     "source": [
      "IMAGE"
     ]
    },
    {
     "cell_type": "code",
     "collapsed": false,
     "input": [
      "from math import pi\n",
      "R = 200*1000\n",
      "C = 16*10**-12\n",
      "2 * pi * R * C"
     ],
     "language": "python",
     "metadata": {},
     "outputs": [
      {
       "latex": [
        "$$2.0106192983e-05$$"
       ],
       "metadata": {},
       "output_type": "pyout",
       "png": "[encoded data removed]",
       "prompt_number": 1,
       "text": [
        "2.0106192983e-05"
       ]
      }
     ],
     "prompt_number": 1
    }
   ],
   "metadata": {}
  }
 ]
}