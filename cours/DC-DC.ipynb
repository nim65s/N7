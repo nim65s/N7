{
 "metadata": {
  "name": ""
 },
 "nbformat": 3,
 "nbformat_minor": 0,
 "worksheets": [
  {
   "cells": [
    {
     "cell_type": "heading",
     "level": 1,
     "metadata": {},
     "source": [
      "Introduction"
     ]
    },
    {
     "cell_type": "markdown",
     "metadata": {},
     "source": [
      "L\u2019objectif est d\u2019obtenir un rendement tr\u00e8s \u00e9lev\u00e9 lors de la conversion d\u2019une tension d\u2019alimentation vers la tension n\u00e9cessaire pour une charge."
     ]
    },
    {
     "cell_type": "heading",
     "level": 1,
     "metadata": {},
     "source": [
      "Cas du r\u00e9gulateur lin\u00e9aire"
     ]
    },
    {
     "cell_type": "markdown",
     "metadata": {},
     "source": [
      "AOP vers un bipolaire, dont on a Vout au collecteur et Vin \u00e0 l\u2019\u00e9metteur. l\u2019entr\u00e9e non-inverseuse est branch\u00e9e \u00e0 Vref et l\u2019inverseuse au milieu d\u2019un pont R1 R2 entre la masse et Vout.\n",
      "\n",
      "$V^+=V_{ref}$\n",
      "\n",
      "$V^-=\\cfrac{R_2}{R_1+R_2}V_{out}$\n",
      "\n",
      "Donc $V_{out}=\\left(1+\\cfrac{R_1}{R_2}\\right)V_{in}\\forall I_{out}$\n",
      "\n",
      "On suppose que le courant du pont diviseur $I_R\\ll I_{out}$, donc $I_{in}=I_{reg}+I_{out}+I_R$, et $V_{in}=V_{out}+V_{DO}$"
     ]
    },
    {
     "cell_type": "markdown",
     "metadata": {},
     "source": [
      "Bilan sur les puissances:\n",
      "\n",
      "* $P_L=V_{out}I_{out}$ charge\n",
      "* $P_T=V_{DO}(I_{out}+I_R)$ Transistor\n",
      "* $P_R=V_{in}I_{reg}$ R\u00e9gulateur\n",
      "* $P_{in}=V_{in}I_{in}$ Alimentation"
     ]
    },
    {
     "cell_type": "markdown",
     "metadata": {},
     "source": [
      "Rendement:\n",
      "\n",
      "$\\rho=\\cfrac{P_L}{P_{in}}=\\cfrac{V_{out}I_{out}}{(V_{out}+V_{DO})(I_{reg}+I_{out})} = \\cfrac{1}{\\left(1+\\cfrac{V_{DO}}{V_{out}}\\right)\\left(1+\\cfrac{I_{reg}}{I_{out}}\\right)}\\simeq \\cfrac{1}{1+\\cfrac{V_{DO}}{V_{out}}}$"
     ]
    },
    {
     "cell_type": "markdown",
     "metadata": {},
     "source": [
      "Application num\u00e9rique:\n",
      "\n",
      "* $V_{in}=12$\n",
      "* $V_{out}=3.3$\n",
      "\n",
      "Donc $V_{DO}=8.7$, et $\\rho=27.5\\%$"
     ]
    },
    {
     "cell_type": "heading",
     "level": 1,
     "metadata": {},
     "source": [
      "Convertisseur D\u00e9volteur (Buck ou Step Down)"
     ]
    },
    {
     "cell_type": "code",
     "collapsed": false,
     "input": [
      "\"\"\"\n",
      "Vin\n",
      "|\n",
      "/\n",
      "|\n",
      "\u2212\u2212\u2212L\u2212\u2212\u2212\u2212\u2212\u2212 Vout\n",
      "|     |  |\n",
      "D     C  R\n",
      "|     |  |\n",
      "\u2212\u2212\u2212\u2212\u2212\u2212\u2212\u2212\u2212\u2212\n",
      "\"\"\""
     ],
     "language": "python",
     "metadata": {},
     "outputs": [
      {
       "metadata": {},
       "output_type": "pyout",
       "prompt_number": 2,
       "text": [
        "'\\nVin\\n|\\n/\\n|\\n\\xe2\\x88\\x92\\xe2\\x88\\x92\\xe2\\x88\\x92L\\xe2\\x88\\x92\\xe2\\x88\\x92\\xe2\\x88\\x92\\xe2\\x88\\x92\\xe2\\x88\\x92\\xe2\\x88\\x92 Vout\\n|     |  |\\nD     C  R\\n|     |  |\\n\\xe2\\x88\\x92\\xe2\\x88\\x92\\xe2\\x88\\x92\\xe2\\x88\\x92\\xe2\\x88\\x92\\xe2\\x88\\x92\\xe2\\x88\\x92\\xe2\\x88\\x92\\xe2\\x88\\x92\\xe2\\x88\\x92\\n'"
       ]
      }
     ],
     "prompt_number": 2
    },
    {
     "cell_type": "markdown",
     "metadata": {},
     "source": [
      "PWM sur l\u2019interrupteur => le n\u0153ud $K$ (entre la diode et la self) est \u00e0 $V_{in}$ ou la masse, derri\u00e8re on met un passe-bas d\u2019ordre 2 \u00e0 $f_0$ calcul\u00e9 pour pas laisser passer la fr\u00e9quence $f_{dec}$ de la PWM, donc on garde que la composante continue (moyenne)"
     ]
    },
    {
     "cell_type": "markdown",
     "metadata": {},
     "source": [
      "$\\Delta I_L = \\cfrac{V_{in}-V_{out}}{L}DT_{dec}=\\cfrac{V_{out}}{L}(1-D)T_{dec}$ ($T_{dec}$ est la p\u00e9riode de la PWM, et $D$ le ratio)\n",
      "\n",
      "donc $V_{in}D=(1-D+D)V_{out}=V_{out}\\Rightarrow V_{out}=DV_{in}$\n",
      "\n",
      "donc $\\Delta I_L = \\cfrac{D(1-D)V_{in}}{Lf_{dec}}$"
     ]
    },
    {
     "cell_type": "markdown",
     "metadata": {},
     "source": [
      "$\\Delta V_{out}=\\cfrac{\\Delta I_L}{8Cf_{dec}}$"
     ]
    },
    {
     "cell_type": "code",
     "collapsed": false,
     "input": [],
     "language": "python",
     "metadata": {},
     "outputs": []
    }
   ],
   "metadata": {}
  }
 ]
}