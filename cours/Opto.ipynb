{
 "metadata": {
  "name": "Opto"
 },
 "nbformat": 3,
 "nbformat_minor": 0,
 "worksheets": [
  {
   "cells": [
    {
     "cell_type": "heading",
     "level": 1,
     "metadata": {},
     "source": [
      "Introduction"
     ]
    },
    {
     "cell_type": "markdown",
     "metadata": {},
     "source": [
      "Optique: Champs \u00e9lectromagn\u00e9tiques o\u00f9$ 10 nm < \\lambda < 1 mm $"
     ]
    },
    {
     "cell_type": "markdown",
     "metadata": {},
     "source": [
      "Historique: D\u00e9couvert en 1887 par Hertz et expliqu\u00e9 par Einstein en 1917.\n",
      "\n",
      "DEL\u00a0en 60, LASERS en 58 \u00e0 66, fibres entre 66 et 77."
     ]
    },
    {
     "cell_type": "markdown",
     "metadata": {},
     "source": [
      "Domaines: des t\u00e9l\u00e9coms aux LANs, l\u2019\u00e9clairage, \u00e9crans (petits & grands), capteurs (gaz, m\u00e9canique, image), m\u00e9dical (chirurgie, \u00e9pilation,\u2026), \u00e9lectronique (DEL)"
     ]
    },
    {
     "cell_type": "heading",
     "level": 1,
     "metadata": {},
     "source": [
      "Photom\u00e9trie & rayonnement du corps noir"
     ]
    },
    {
     "cell_type": "heading",
     "level": 2,
     "metadata": {},
     "source": [
      "Introduction"
     ]
    },
    {
     "cell_type": "markdown",
     "metadata": {},
     "source": [
      "Photons -> dualit\u00e9 onde-cr\u00e9puscule ; on jonglera entre les deux.\n",
      "\n",
      "* Onde : $\\lambda$, $f = \\cfrac{c}{\\lambda}$, $v_g = \\cfrac{c}{n}$ ($n$ indice de r\u00e9fraction)\n",
      "\n",
      "* Particule : $E = h\\nu$, o\u00f9 $h = 6.6\\cdot 10^{-34} Ws^2$, [Ws] = [J], mais $1 eV = 1.6\\cdot 10^{-19}J$ ; donc $E = \\cfrac{1.24}{\\lambda}$"
     ]
    },
    {
     "cell_type": "markdown",
     "metadata": {},
     "source": [
      "Afin de prendre en compte la sensibilit\u00e9 aux photons de l\u2019\u0153il humain : $1lm = 1.6\\cdot 10^{-3}W \u00e0 \\lambda = 550 nm$ (centre de la bande passante de l\u2019\u0153il)"
     ]
    },
    {
     "cell_type": "heading",
     "level": 2,
     "metadata": {},
     "source": [
      "Grandeurs photom\u00e9triques"
     ]
    },
    {
     "cell_type": "heading",
     "level": 3,
     "metadata": {},
     "source": [
      "Le flux lumineux F"
     ]
    },
    {
     "cell_type": "markdown",
     "metadata": {},
     "source": [
      "Def : valeur instantan\u00e9e d\u2019un d\u00e9bit de rayonnement, en W (ou en photons par seconde)"
     ]
    },
    {
     "cell_type": "heading",
     "level": 2,
     "metadata": {},
     "source": [
      "L\u2019angle solide $\\Omega$"
     ]
    },
    {
     "cell_type": "markdown",
     "metadata": {},
     "source": [
      "$A = \\Omega\\cdot r^2 \\Rightarrow d\\Omega=\\cfrac{dA}{R^2}=2\\pi\\sin{\\theta}d\\theta$"
     ]
    },
    {
     "cell_type": "heading",
     "level": 3,
     "metadata": {},
     "source": [
      "La luminance L"
     ]
    },
    {
     "cell_type": "markdown",
     "metadata": {},
     "source": [
      "Def: Flux par unit\u00e9 de surface apparente de la source et par unit\u00e9 d\u2019angle solide.\n",
      "\n",
      "$L = \\cfrac{dF}{\\cos\\theta dA_sd\\Omega}$, en $W\\cdot m^{-2}\\cdot sr^{-1}$\n",
      "\n",
      "Quand $\\theta$ influe peu sur la luminance, on dit que la source rayonne selon la **loi de Lambert** :\n",
      "\n",
      "$I = \\cfrac{dF}{d\\Omega} = \\iint{L\\cos\\theta dA_s} \\Rightarrow I = \\cos\\theta\\iint{LdA_s} = I_0\\cos\\theta$\n",
      "\n",
      "La courbe $I(\\theta)$ est appel\u00e9e **indicatrice** de la source."
     ]
    },
    {
     "cell_type": "heading",
     "level": 3,
     "metadata": {},
     "source": [
      "L\u2019\u00e9mittance M"
     ]
    },
    {
     "cell_type": "markdown",
     "metadata": {},
     "source": [
      "Def : le flux \u00e9mis par unit\u00e9 de surface: $M = \\cfrac{dF}{dA_s} = \\int{L\\cos\\theta d\\Omega}$, en $W\\cdot m^{-2}$\n",
      "\n",
      "**loi de Lambert** : $M = L\\int\\cos\\theta d\\theta$, et $F = \\int{MdA_s} = LA_s\\int\\cos\\theta d\\theta = 2\\pi LA_s\\int\\cos\\theta\\sin\\theta d\\theta=\\pi I_0 \\Rightarrow I_0 = \\cfrac{F}{\\pi}$"
     ]
    },
    {
     "cell_type": "heading",
     "level": 3,
     "metadata": {},
     "source": [
      "L\u2019\u00e9clairement"
     ]
    },
    {
     "cell_type": "markdown",
     "metadata": {},
     "source": [
      "R\u00e9cepteur de lumi\u00e8re: on d\u00e9finit $A_R$ et $\\theta_R$\n",
      "\n",
      "Un point du r\u00e9cepteur re\u00e7oit un flux \u00e9l\u00e9mentaire $dF$\n",
      "\n",
      "Def : L\u2019\u00e9clairement E en $W\\cdot m^{-2}$ est le rapport du flux par la surface du r\u00e9cepteur : $dE = \\cfrac{d^2F}{dA_R}$\n",
      "\n",
      "Donc $dF = L\\cos\\theta_sdA_sd\\Omega_R$ o\u00f9 $d\\Omega_R=\\cfrac{dA_r\\cos\\theta_R}{d^2} \\Rightarrow dE = L\\cfrac{dA_s\\cos\\theta_s\\cos\\theta_R}{d^2}$\n",
      "\n",
      "Cas d\u2019une source ponctuelle: $E = \\cfrac{\\cos\\theta_r}{d^2}\\int{LdA_s\\cos\\theta_s}=I\\cfrac{\\cos\\theta_r}{d^2}$, donc l\u2019\u00e9clairement \u00e9volue en $\\cfrac{1}{d^2}$"
     ]
    },
    {
     "cell_type": "heading",
     "level": 2,
     "metadata": {},
     "source": [
      "Unit\u00e9s Sp\u00e9cifiques et ordres de grandeur"
     ]
    },
    {
     "cell_type": "markdown",
     "metadata": {},
     "source": [
      "Trois types d\u2019unit\u00e9s:\n",
      "* \u00c9nerg\u00e9tiques\n",
      "* Photoniques\n",
      "* Li\u00e9es \u00e0 l\u2019\u0153il\n",
      "\n",
      "En gros, on passe de l\u2019\u00e9nerg\u00e9tique aux photoniques en passant des $W$ au $s^{-1}$, mais les photoniques d\u00e9pendent de $\\lambda$. "
     ]
    },
    {
     "cell_type": "heading",
     "level": 2,
     "metadata": {},
     "source": [
      "Le rayonnement du Corps Noir"
     ]
    },
    {
     "cell_type": "markdown",
     "metadata": {},
     "source": [
      "Def: Un corps noir est un radiateur qui absorbe parfaitement les rayonnements incidents et qui \u00e9met un spectre continu de radiations."
     ]
    },
    {
     "cell_type": "heading",
     "level": 3,
     "metadata": {},
     "source": [
      "Loi de Planck"
     ]
    },
    {
     "cell_type": "markdown",
     "metadata": {},
     "source": [
      "Planck d\u00e9crit l\u2019\u00e9mittance d\u2019un corps noir: $\\cfrac{dM(\\lambda,T)}{d\\lambda}$=$\\cfrac{2\\pi hc^2\\lambda^{-5}}{\\exp{\\cfrac{hc}{\\lambda k_BT}}-1}$"
     ]
    },
    {
     "cell_type": "heading",
     "level": 3,
     "metadata": {},
     "source": [
      "Loi de Wien"
     ]
    },
    {
     "cell_type": "markdown",
     "metadata": {},
     "source": [
      "$\\lambda_M = \\cfrac{2898}{T}$\n",
      "\n",
      "$\\cfrac{dM(\\lambda,T)}{d\\lambda} = 1.286\\cdot 10^{-5}\\cdot T^5$ en $W\\cdot m^3$."
     ]
    },
    {
     "cell_type": "heading",
     "level": 3,
     "metadata": {},
     "source": [
      "Loi de Stefan-Boltzmann"
     ]
    },
    {
     "cell_type": "markdown",
     "metadata": {},
     "source": [
      "$M_T = \\sigma T^4$ en $W\\cdot m^{-2}$, o\u00f9 $\\sigma = \\cfrac{2\\pi^5k_B^4}{15c^2h^3}$\n",
      "\n",
      "Donc le corps humain, qui fait en gros 37 degr\u00e9s et $2m^2$, $M_T = 500 Wm^{-2} \\Rightarrow F = 1 kW$.\n",
      "\n",
      "Pour le filament de tyngst\u00e8ne, $T = 5800K \\Rightarrow M_T = 348\\cdot 10^4 Wm^{-2} \\Rightarrow F = 38.8W$"
     ]
    },
    {
     "cell_type": "heading",
     "level": 2,
     "metadata": {},
     "source": [
      "La Fibre Optique"
     ]
    },
    {
     "cell_type": "heading",
     "level": 2,
     "metadata": {},
     "source": [
      "Introduction"
     ]
    },
    {
     "cell_type": "heading",
     "level": 3,
     "metadata": {},
     "source": [
      "Pourquoi de la Fibre Optique"
     ]
    },
    {
     "cell_type": "markdown",
     "metadata": {},
     "source": [
      "* augmentation de la quantit\u00e9 des donn\u00e9es \u00e9chang\u00e9es,\n",
      "* distances tr\u00e8s grandes,\n",
      "* perturbations EM \n",
      "\n",
      "La FO: \n",
      "\n",
      "* bande passante quasi illimit\u00e9e\n",
      "* att\u00e9nuation tr\u00e8s faible (0.2dB/km => 250km sans r\u00e9p\u00e9teur)\n",
      "* immunit\u00e9 aux perturbations EM\n",
      "* tr\u00e8s l\u00e9g\u00e8re\n",
      "\n",
      "Par contre, la mise en \u0153uvre est tr\u00e8s cher."
     ]
    },
    {
     "cell_type": "heading",
     "level": 2,
     "metadata": {},
     "source": [
      "Structure d\u2019une FO"
     ]
    },
    {
     "cell_type": "heading",
     "level": 3,
     "metadata": {},
     "source": [
      "Loi de Snell-Descartes"
     ]
    },
    {
     "cell_type": "markdown",
     "metadata": {},
     "source": [
      "$\\theta_{lim} = \\arcsin\\cfrac{n_2}{n1}$"
     ]
    },
    {
     "cell_type": "heading",
     "level": 3,
     "metadata": {},
     "source": [
      "Guidage optique"
     ]
    },
    {
     "cell_type": "markdown",
     "metadata": {},
     "source": [
      "Structure:\n",
      "\n",
      "* C\u0153ur: 3\u03bcm \u00e0 65.5\u03bcm\n",
      "* Gaine: 125\u03bcm\n",
      "* Gaine de protection: plastique, kevlar ou carbone"
     ]
    },
    {
     "cell_type": "heading",
     "level": 2,
     "metadata": {},
     "source": [
      "Diff\u00e9rents types de FO"
     ]
    },
    {
     "cell_type": "markdown",
     "metadata": {},
     "source": [
      "Fibres multimodes: l\u2019\u00e9quation de propagation a plusieurs solutions.\n",
      "\n",
      "* Saut d\u2019indice $n_c$ constant\n",
      "* Gradient d\u2019indice $n_c(r)=n_c\\sqrt{1 - 2\\Delta\\left(\\cfrac{r}{a}\\right)^g}$ o\u00f9 $\\Delta = \\cfrac{n_c^2-n_g^2}{n_c^2}\\simeq\\cfrac{n_c-n_g}{n_c} < 1\\%$\n",
      "\n",
      "Fibres monomodes: Saut d\u2019indice, mais diam\u00e8tre de c\u0153ur faible."
     ]
    },
    {
     "cell_type": "heading",
     "level": 2,
     "metadata": {},
     "source": [
      "Quelques grandeurs caract\u00e9ristiques des FO"
     ]
    },
    {
     "cell_type": "heading",
     "level": 3,
     "metadata": {},
     "source": [
      "Ouverture num\u00e9rique"
     ]
    },
    {
     "cell_type": "markdown",
     "metadata": {},
     "source": [
      "Pour une FO\u00a0\u00e0 saut d\u2019indice,\n",
      "\n",
      "$ON = \\sin(\\theta_{ext_{lim}}) \\Rightarrow \\theta_{1_{max}} = \\arcsin\\cfrac{n_g}{n_c} \\Rightarrow n_{ext}\\sin\\theta_{ext}=n_c\\sin\\theta_i=n_c\\cos\\theta_1\\Rightarrow ON = \\cfrac{n_c}{n_{ext}}\\cos\\theta_{1_{max}}=\\cfrac{n_c}{n_{ext}}\\cos\\left(\\arcsin\\cfrac{n_g}{n_c}\\right)=\\cfrac{n_c}{n_{ext}}\\sqrt{1-\\cfrac{n_g^2}{n_c^2}}\\Rightarrow ON = \\cfrac{\\sqrt{n_c^2-n_g^2}}{n_{ext}}$\n",
      "\n",
      "Donc $n_c(r)\\sin\\theta(r)=n_c(r+dr)\\sin\\theta(r+dr)$ constant. La limite de guidage est atteinte en r=a: $n_c(a)\\sin\\theta(a)=n_g\\Rightarrow ON_{FOI}=\\cfrac{\\sqrt{n_c(r)^2-n_g^2}}{n_{ext}}$\n",
      "\n",
      "Couplage avec une DEL:\n",
      "\n",
      "En premi\u00e8re approximation, c\u2019est une source ponctuelle Lambertienne.\n",
      "\n",
      "$dF=LA_s\\cos\\theta d\\Omega$\n",
      "\n",
      "$F_{inj}=\\int_0^{\\theta_{max}}dF=2\\pi LA_s\\int_0^{\\theta_{max}}\\sin\\theta\\cos\\theta d\\theta=\\pi LA_s\\sin^2\\theta_{max}=\\pi LA_sON^2$\n",
      "\n",
      "$F_{tot}=\\pi LA_s\\Rightarrow\\cfrac{F_{inj}}{F_{tot}}=ON^2$\n",
      "\n",
      "A.N.\u00a0:$n_c=1.53,n_g=1.5\\Rightarrow ON=0.3$\n",
      "\n",
      "On n\u2019injecte donc dans ce cas l\u00e0 que 9% de la puissance\u2026 "
     ]
    },
    {
     "cell_type": "heading",
     "level": 2,
     "metadata": {},
     "source": [
      "La fr\u00e9quence normalis\u00e9e"
     ]
    },
    {
     "cell_type": "markdown",
     "metadata": {},
     "source": [
      "C\u2019est un param\u00e8tre issu de la r\u00e9solution des \u00e9quations de propagation:\n",
      "\n",
      "$V=\\cfrac{2\\pi}{\\lambda}a\\sqrt{n_c^2-n_g^2}$\n",
      "\n",
      "Il est sans unit\u00e9s, donc aucun rapport avec une fr\u00e9quence\u2026\n",
      "\n",
      "* La condition de propagation monomode est : $V < 2.41$, donc une fibre est monomode pour une plage limit\u00e9e de longueurs d\u2019ondes.\n",
      "* $V \\gg 1\\Rightarrow N_{modes}\\simeq\\cfrac{V^2}{2}$"
     ]
    },
    {
     "cell_type": "heading",
     "level": 2,
     "metadata": {},
     "source": [
      "Ph\u00e9nom\u00e8nes limitants dans les fibres"
     ]
    },
    {
     "cell_type": "heading",
     "level": 3,
     "metadata": {},
     "source": [
      "L\u2019att\u00e9nuation"
     ]
    },
    {
     "cell_type": "markdown",
     "metadata": {},
     "source": [
      "$E(t,z)=E_0\\exp^{j\\omega t}\\exp^{j\\beta z - \\alpha^\\prime z}$\n",
      "\n",
      "On pr\u00e9f\u00e8re utiliser A en dB/km, tq: $Az=10\\log\\left(\\cfrac{P(z)}{P(0)}\\right)$\n",
      "\n",
      "Donc pour FO\u00a0de longeur L, pour des flux en dBm, $F_{sortie}=F_{entr\u00e9e}-AL$\n",
      "\n",
      "Rappels:\n",
      "\n",
      "* 1mW: 0dBm\n",
      "* 1W: 30dBm\n",
      "* on peut ajouter des dB et des dBm"
     ]
    },
    {
     "cell_type": "heading",
     "level": 3,
     "metadata": {},
     "source": [
      "Autres types de pertes"
     ]
    },
    {
     "cell_type": "markdown",
     "metadata": {},
     "source": [
      "* Pertes par \u00e9pissurage (raccordemenetde 2 FO par fusion)\n",
      "    * Fibres non identiques\n",
      "    * Espacement\n",
      "    * Excentrement\n",
      "    * D\u00e9salignement\n",
      "* Pertes par courbure au refroidissement\n",
      "* Pertes par couplage \u00e0 la source\n",
      "    * rien : 10%\n",
      "    * fibre lentill\u00e9e: >60%\n",
      "    * couplage \u00e0 une lentille: >75%\n",
      "    * montage confocal \u00e0 deux lentilles: >85%"
     ]
    },
    {
     "cell_type": "markdown",
     "metadata": {},
     "source": [
      "A.N. : \n",
      "\n",
      "* laser 1, 10mW, 850nm (old, mais bien fichu)\n",
      "* laser 2, 10mW, 1550nm (r\u00e9cent, mais cher)\n",
      "\n",
      "$P_{inj}=10dBm$\n",
      "\n",
      "+----------+----------+------------+----------+\n",
      "|          |    1km   |     10km   |  100km   |\n",
      "+----------+----------+------------+----------+\n",
      "| Laser 1  |    7dBm  |   20dBm    |  190dBm  |\n",
      "+----------+----------+------------+----------+\n",
      "| Laser 2  |          |    8dBm    |  10 dBm  |\n",
      "+----------+----------+------------+----------+"
     ]
    },
    {
     "cell_type": "heading",
     "level": 3,
     "metadata": {},
     "source": [
      "Dispersion dans les FO"
     ]
    },
    {
     "cell_type": "markdown",
     "metadata": {},
     "source": [
      "Def: C\u2019est un \u00e9largissement temporel des impulsions transmises\n",
      "\n",
      "C\u2019est un ph\u00e9nom\u00e8ne statistique, pour le quantifier, on utilise la notion d\u2019\u00e9cart-type $\\sigma_{\\Delta t}$\n",
      "\n",
      "slides 23, 24"
     ]
    },
    {
     "cell_type": "markdown",
     "metadata": {},
     "source": [
      "Il existe deux types de dispersion dans les FO\n",
      "\n",
      "- dispersion modale\n",
      "- dispersion chromatique\n"
     ]
    },
    {
     "cell_type": "markdown",
     "metadata": {},
     "source": [
      "Dispersion modale: \n",
      "\n",
      "Dans une FO multimode, chaque mode porte une partie de la puissance du signal transmi et le temps de propagation dans la FO\u00a0est propre \u00e0 chaque mode, avec $\\Delta t_{max} = \\cfrac{l_{max} - l_{min}}{v} = \\cfrac{n_c}{c}\\left( \\cfrac{L_{FO}}{\\sin\\theta_{lim}}-L_{FO} \\right)$, or $\\sin\\theta_{lim} = \\cfrac{n_g}{n_c} \\Rightarrow \\Delta t_{max} = \\cfrac{n_cL_{FO}}{c}\\cfrac{n_c-n_g}{n_g}$\n",
      "\n",
      "Rappel : $ON = \\cfrac{\\sqrt{n_c^2-n_g^2}}{n_0}\\simeq\\cfrac{2n_g(n_c-n_g)}{n_0}$\u2026 $n_0 = 1\\Rightarrow\\delta t_{max} = \\cfrac{L (ON)^2}{2cn_c}$\n",
      "\n",
      "Ecart-type: En premi\u00e8re approximation, $\\sigma_{\\Delta t} = \\cfrac{\\Delta t_{max}}{2} = \\cfrac{L_{FO} (ON)^2}{4cn_c}$\n",
      "\n",
      "Pour une FO \u00e0 saut d\u2019indice, on d\u00e9fini le terme de dispersion modale $D_m$: $\\sigma_{\\Delta t}=D_m L_{FO}$.\n",
      "\n",
      "$D_m$ est un [s/m] ou en [ps/km]\n",
      "\n",
      "$D_{m_{FSI}} = \\cfrac{(ON)^2}{4cn_c}$\n",
      "\n",
      "* Longueur d\u2019\u00e9quilibre : les modes d\u2019ordre le plus \u00e9lev\u00e9s sont progressivement absorb\u00e9s par la gaine, donc l\u2019impact de la dispersion diminue. \n",
      "\n",
      "On consid\u00e8re que\n",
      "\n",
      "$L_{FO} < L_{eq} \\Rightarrow \\sigma_{\\Delta t}=D_m L_{FO}$\n",
      "\n",
      "$L_{FO} > L_{eq} \\Rightarrow \\sigma_{\\Delta t}=D_m \\sqrt{L_{eq}L_{FO}}$\n",
      "\n",
      "L\u2019ordre de grandeur de $L_{eq}$ est de 1km pour une FSI\n",
      "\n",
      "* Cas d\u2019une FO \u00e0 gradient d\u2019indice (FGI)\n",
      "\n",
      "$n_c(n) = n_c\\sqrt{1-2\\Delta\\left(\\cfrac{r}{q}\\right)^2} \\Rightarrow D_{m_{FGI}} = \\cfrac{n_c(0)\\Delta^2}{8c}$, avec $\\Delta =\\cfrac{nc-ng}{n_c}$\n",
      "\n",
      "Donc $\\cfrac{D_{m_{FGI}}}{D_{m_{FSI}}}=\\cfrac{n_c^2-n_g^2}{4}$, avec $n_c^2-n_g^2 << 1$\n",
      "\n",
      "AN: FSI: $n_c=1,53;n_g=1.5\\Rightarrow ON=0.3$\n",
      "\n",
      "FGI: $n_c=1,53;n_g=1.5\\Rightarrow ON=0.02$\n",
      "\n",
      "$D_{m_{FSI}} = 49 ns/km$\n",
      "\n",
      "$D_{m_{FGI}} = 255 ps/km$"
     ]
    },
    {
     "cell_type": "markdown",
     "metadata": {},
     "source": [
      "* La dispersion chromatique\n",
      "\n",
      "Deux choses:\n",
      "\n",
      "- Les sources de lumi\u00e8re ne sont pas totalement monochromatiques\n",
      "- L\u2019indice de r\u00e9fraction d\u2019un milieu d\u00e9pend de la longueur d\u2019onde\n",
      "\n",
      "$n_c(\\lambda) \\Rightarrow v_g=\\cfrac{c}{n}$ est fonction de $\\lambda$\n",
      "\n",
      "$\\Delta_{v_g} = \\cfrac{dv_g}{d\\lambda}\\Delta\\lambda$\n",
      "\n",
      "$\\Delta T = -T\\cfrac{\\Delta v_g}{v_g} = - \\cfrac{L_{FO}\\Delta v_g}{v_g v_g}$\n",
      "\n",
      "$\\Delta T = -\\cfrac{lambda}{c}\u2026$[\u2026]\n",
      "\n",
      "$\\Delta T = D_\\lambda \\Delta_\\lambda L_{FO}$\n",
      "\n",
      "$D_\\lambda$ est le terme de dispersion chromatique: $D_\\lambda=-\\cfrac{\\lambda}{c}\\cfrac{d^2x}{d\\lambda^2}$ en [ps/nm/km]\n",
      "\n",
      "$\\sigma_{\\Delta t_lambda} = |D_\\lambda|\\sigma_{\\Delta_\\lambda}L_{FO}$\n",
      "\n",
      "slide 25\n",
      "\n",
      "on a un \u00e9cart temporel li\u00e9 \u00e0 une distribution de la puissance dans le domaine spectral ($\\sigma_{\\Delta_\\lambda}$)\n",
      "\n",
      "$D_\\lambda = 0$ \u00e0 1330nm\n",
      "\n",
      "$D_\\lambda = 17$ ps/nm/km \u00e0 1550nm\n",
      "\n",
      "$D_\\lambda = -80$ ps/nm/km \u00e0 850nm"
     ]
    },
    {
     "cell_type": "markdown",
     "metadata": {},
     "source": [
      "*Bande passant d\u2019une FO : cas o\u00f9 les deux types de dispersion sont pr\u00e9sents: FO multimodes\n",
      "\n",
      "$\\sigma_{\\Delta t_{tot}} = \\sqrt{\\sigma_{\\Delta t_m}^2 + \\sigma_{\\Delta t_\\lambda}^2}$\n",
      "\n",
      "Par d\u00e9finition, $BP = \\cfrac{0.35}{\\sigma_{\\Delta t_{tot}}}$\n",
      "\n",
      "AN: FGI multimode : $n_c=1,53;n_g=1.5$\n",
      "\n",
      "$D_{m_{FGI}} = 255 ps/km$\n",
      "\n",
      "Laser $\\lambda=850$nm, $\\sigma_{\\Delta_\\lambda} = 10$nm\n",
      "\n",
      "$D_\\lambda = -80$ ps/nm/km\n",
      "\n",
      "$L_{FO} = 1$ km\n",
      "\n",
      "$\\sigma_{\\Delta t_m} = 255$ ps\n",
      "\n",
      "$\\sigma_{\\Delta t_\\lambda} = 800$ ps\n",
      "\n",
      "$\\sigma_{\\Delta t_{tot}} = 840$ ps\n",
      "\n",
      "$BP = 1.2$ GHz pour 1km\n",
      "\n",
      "AN2: FGI multimode : $n_c=1,53;n_g=1.5$\n",
      "\n",
      "$D_{m_{FGI}} = 255 ps/km$\n",
      "\n",
      "Laser $\\lambda=1550$nm, $\\sigma_{\\Delta_\\lambda} = 0.1$nm\n",
      "\n",
      "$D_\\lambda = 17$ ps/nm/km\n",
      "\n",
      "$L_{FO} = 1$ km\n",
      "\n",
      "$\\sigma_{\\Delta t_m} = 255$ ps\n",
      "\n",
      "$\\sigma_{\\Delta t_\\lambda} = 1.7$ ps\n",
      "\n",
      "$\\sigma_{\\Delta t_{tot}} \\simeq 255$ ps : la dispersion chromatique est devenue n\u00e9gligeable.\n",
      "\n",
      "$BP = 1.2$ GHz pour 1km\n",
      " \n",
      "AN3: FO\u00a0monomode:\n",
      "\n",
      "$D_m = 0$\n",
      "\n",
      "Laser $\\lambda=1550$nm, $\\sigma_{\\Delta_\\lambda} = 0.1$nm\n",
      "\n",
      "$BP = 600$ GHz/km (6Ghz pour 100 km)\n",
      "\n",
      "slide 26, 27\n",
      "\n",
      "/!\\ Connaitre la slide 27 /!\\"
     ]
    },
    {
     "cell_type": "heading",
     "level": 2,
     "metadata": {},
     "source": [
      "Les FO plastiques"
     ]
    },
    {
     "cell_type": "heading",
     "level": 3,
     "metadata": {},
     "source": [
      "Structure"
     ]
    },
    {
     "cell_type": "markdown",
     "metadata": {},
     "source": [
      "* Fibres multimodes \u00e0 saut d\u2019indice\n",
      "* Pas de gaine\n",
      "* Les mat\u00e9riaux\n",
      "    * polystyr\u00e8ne (pas cher, mais pas terrible)\n",
      "    * polycarbonate (tient la chaleur => automobiles)\n",
      "    * PMMA (top) : polym\u00e9thylm\u00e9tacrylate"
     ]
    },
    {
     "cell_type": "heading",
     "level": 3,
     "metadata": {},
     "source": [
      "Avantages et inconv\u00e9nients"
     ]
    },
    {
     "cell_type": "markdown",
     "metadata": {},
     "source": [
      "* BP plus faible (au moins 10 fois)\n",
      "* Att\u00e9nuation: 50 \u00e0 100 dB/km pour le PMMA\n",
      "* diam\u00e8tre \u00e0 c\u0153ur: 1mm\n",
      "* ouverture num\u00e9rique \u00e9lev\u00e9e => facilit\u00e9 d\u2019injection de la lumi\u00e8re\n",
      "* co\u00fbt plus faible \n",
      "* possibilit\u00e9 d\u2019applications m\u00e9dicales jettables"
     ]
    },
    {
     "cell_type": "heading",
     "level": 1,
     "metadata": {},
     "source": [
      "La photod\u00e9tection"
     ]
    },
    {
     "cell_type": "markdown",
     "metadata": {},
     "source": [
      "Il existe deux classe de photod\u00e9tecteurs:\n",
      "\n",
      "* Quantique\n",
      "* Thermique (lent et peu sensible, mais utilis\u00e9s pour la puissance, donc pas en t\u00e9l\u00e9coms)\n",
      "\n",
      "Parmis les d\u00e9tecteurs quantiques :\n",
      "\n",
      "* photoconductances\n",
      "* phototransistors (MOS dont la grille est pilot\u00e9e par le flux lumineux)\n",
      "* capteurs matriciels CCD ou MOS\n",
      "* photodiodes (99% des applications hors photo)"
     ]
    },
    {
     "cell_type": "heading",
     "level": 2,
     "metadata": {},
     "source": [
      "L\u2019Absorption des photons dans un semi-conducteur"
     ]
    },
    {
     "cell_type": "markdown",
     "metadata": {},
     "source": [
      "Quand un photo arrive avec une \u00e9nergie sup\u00e9rieure \u00e0 $h_\\nu$, paf un \u00e9lectron passe de la couche de valence \u00e0 la couche de conduction.\n",
      "\n",
      "Il existe une longeur d\u2019onde maximale pour laquelle il n\u2019y a plus d\u2019absorption: $\\lambda_g = \\cfrac{hc}{E_g} = \\cfrac{1.24}{E_g}$, avec $\\lambda$ en $\\mu$m et $E_g$ en eV\n",
      "\n",
      "Le flux de photons dans un semiconducteur : $F(\\lambda) = F_0\\exp^{-\\alpha x}$, o\u00f9 $\\alpha$ est l\u2019absorption en $m^{-1}$\n",
      "\n",
      "slide 31"
     ]
    },
    {
     "cell_type": "heading",
     "level": 2,
     "metadata": {},
     "source": [
      "Principe de la photodiode"
     ]
    },
    {
     "cell_type": "heading",
     "level": 3,
     "metadata": {},
     "source": [
      "Polarisatino d\u2019une PD"
     ]
    },
    {
     "cell_type": "markdown",
     "metadata": {},
     "source": [
      "Pour toute diode, $I = I_s\\left(\\exp^{\\cfrac{V}{nU_T}} - 1\\right) - I_{ph}$\n",
      "\n",
      "Ce $I_{ph}$ d\u00e9cale le diagrame $I=f(V)$ vers le bas, ce qui fait que pour des tensions positives, le courant est n\u00e9gatif, donc la PD fournit de l\u2019\u00e9nergie au circuit ; et pour des tensions n\u00e9gatives, le courant est n\u00e9gatif aussi, donc la PD\u00a0fournit de l\u2019\u00e9nergie au circuit. On se place g\u00e9n\u00e9ralement dans ce troisi\u00e8me cadrant pour la photod\u00e9tection."
     ]
    },
    {
     "cell_type": "heading",
     "level": 3,
     "metadata": {},
     "source": [
      "Mod\u00e8le petit signal"
     ]
    },
    {
     "cell_type": "markdown",
     "metadata": {},
     "source": [
      "TODO: la diode (A en bas, K en haut, triangle vers le haut) est \u00e9quivalente \u00e0 une source de courant (Iph) en parall\u00e8le \u00e0 une capa Cj et une r\u00e9sistance Rsh, A en bas, et une r\u00e9sistance Rs vers K en haut.\n",
      "\n",
      "$R_{sh} > M\\Omega$\n",
      "\n",
      "$R_s < \\Omega$\n",
      "\n",
      "$C_j(V)=\\cfrac{C_j(V=0)}{\\sqrt{1+\\cfrac{V}{V_{PN}}}}$\n",
      "\n",
      "$V_{PN}$ est le potentiel de jonction: 0.75V dans le silicium"
     ]
    },
    {
     "cell_type": "heading",
     "level": 3,
     "metadata": {},
     "source": [
      "Photodiode PIN"
     ]
    },
    {
     "cell_type": "markdown",
     "metadata": {},
     "source": [
      "slide 29(32)\n",
      "\n",
      "Pour diminuer $C_j$, on rajoute \u00e0 la jonction PN une couche faiblement dop\u00e9e (\u00abIntrins\u00e8que\u00bb) qui va \u00e9tendre la ZCE: plus la ZCE\u00a0est importante, plus la capa de jonction est faible.\n",
      "\n",
      "* Structure\n",
      "\n",
      "    - La zone frontale doit \u00e0tre la plus fine possible\n",
      "    - La ZCE est le lieu de collecte des photons\n",
      "    - La zone arri\u00e8re voit tr\u00e8s peu de photons\n",
      "\n",
      "* Bande-Passante\n",
      "\n",
      "Elle est li\u00e9e\n",
      "\n",
      "    - Au temps de transit des porteurs: $t_{tr} = \\cfrac{d}{v_n} \\simeq 10$ps\n",
      "    - La constante de temps li\u00e9e \u00e0 la capa de jonction : TODO masse, Rload, diode rightarrow $f_c=\\cfrac{1}{2\\pi R_{load}C_j}$\n",
      "\n",
      "Des deux ph\u00e9nom\u00e8nes, le plus contraignant impose la Bande Passante\n",
      "\n",
      "* Sensibilit\u00e9 d\u2019une diode PIN:\n",
      "\n",
      "$R_\\lambda = \\cfrac{I_{ph}}{F_{recu}}$ en A/W (R pour Responsivity)\n",
      "\n",
      "$F_{recu}$ = nombre de photons re\u00e7us par seconde \u00d7 $h_\\nu$\n",
      "\n",
      "$\\nu_q=\\cfrac{\\text{nombre de paires electron-trou par seconde}}{\\text{nombre de photons par seconde}}$\n",
      "\n",
      "nombre de paires electron-trou par seconde = $\\cfrac{I_{ph}}{q} \\Rightarrow R_\\lambda=\\cfrac{q}{h_\\nu}\\nu_q=\\cfrac{\\lambda}{1.24}\\nu_q$ pour $\\lambda$ en $\\mu$m."
     ]
    },
    {
     "cell_type": "heading",
     "level": 3,
     "metadata": {},
     "source": [
      "Bruit dans les PD"
     ]
    },
    {
     "cell_type": "markdown",
     "metadata": {},
     "source": [
      "La notion de bruit regroupe deux aspects:\n",
      "\n",
      "- Les perturbations ext\u00e9rieures au syst\u00e8me: en g\u00e9n\u00e9ral, ce sont des signaux d\u00e9terministes qui d\u00e9pendent de l\u2019environnement.\n",
      "- Les perturbations propres au syst\u00e8me: ph\u00e9nom\u00e8nes al\u00e9atoires qui peuvent \u00eatre trait\u00e9s par la physique quantique ou la physique statistique.\n",
      "\n",
      "Dans le cas du bruit en \u00e9lectronique, deux sources:\n",
      "\n",
      "- Le bruit thermique (ou de Johnson) associ\u00e9 aux r\u00e9sistances $\\Rightarrow$ variation al\u00e9atoire du courant qui traverse la r\u00e9sistance ou de la tension \u00e0 ses bornes.\n",
      "- Le bruit de grenaille (ou de Shottky) associ\u00e9 aux jonctions PN $\\Rightarrow$ variation du courant qui traverse la jonction\n",
      "\n",
      "* La puissance de bruit\n",
      "\n",
      "La puissance du bruit est infinie (int\u00e9grale d\u2019un bruit blanc sur tout le spectre), donc on d\u00e9fini toujours une puissance de bruit sur une bande passante donn\u00e9e.\n",
      "\n",
      "* La densit\u00e9 spectrale de puissance ($S_B$)\n",
      "\n",
      "C\u2019est la puisnace du bruit sur 1Hz\n",
      "\n",
      "$P_B = \\int_0^{BP}S_Bdf$, avec $S_B$ en W/Hz\n",
      "\n",
      "Bruit thermique et grenailles sont des bruits blancs, donc $P_B=S_B\\times BP$\n",
      "\n",
      "* Densit\u00e9 spectrale de courant et de tension\n",
      "\n",
      "$S_B=S_iR_{load}$, $S_i$ en A\u00b2/Hz\n",
      "\n",
      "$S_B=\\cfrac{S_v}{R_{load}}, $S_v$ en V\u00b2/Hz\n",
      "\n",
      "Pour le bruit thermique, $S_i=\\cfrac{4k_BT}{R}$ et $S_v=4k_BTR$ TODO R//source de courant et R s\u00e9rie avec source de tension\n",
      "\n",
      "Pour le bruit de grenaille, $S_i=2qI$ TODO\u00a0diode // source de courant\n",
      "\n",
      "* Courant ou tension de bruit\n",
      "\n",
      "On d\u00e9finit $i_d=\\sqrt{S_i}$ en A/$\\sqrt{\\text{Hz}}$ et $v_d=\\sqrt{S_v}$ en V/$\\sqrt{\\text{Hz}}$\n",
      "\n",
      "Ce sont des valeursefficaces calcul\u00e9es sur une bande de 1Hz.\n",
      "\n",
      "Rem: lois de Kirschoff\n",
      "\n",
      "TODO ib1 et ib2 vers ibT => $i_{b_T} = \\sqrt{i_{b_1}^2+i_{b_2}^2}$\n",
      "\n",
      "TODO vb1 | vb2 \u2212 vbt | => $v_{b_T} = \\sqrt{v_{b_1}^2+v_{b_2}^2}$\n",
      "\n",
      "* Mod\u00e8le en bruit de la photodiode\n",
      "\n",
      "TODO i_d // C_j\n",
      "\n",
      "Le courant que parcours la PD\u00a0est la somme de deux termes:\n",
      "\n",
      "- Le courant $I_{ph}$ photod\u00e9tect\u00e9\n",
      "- $I_{obs}$, courant d\u2019obscurit\u00e9\n",
      "\n",
      "$i_d=\\sqrt{S_i} = \\sqrt{2q(I_{ph}+I_{obs})}$"
     ]
    },
    {
     "cell_type": "heading",
     "level": 3,
     "metadata": {},
     "source": [
      "Puissance \u00e9quivalente de bruit"
     ]
    },
    {
     "cell_type": "markdown",
     "metadata": {},
     "source": [
      "La PD transforme la puissance optique en courant \u00e9lectrique => un bruit \u00e9lectrique est \u00e9quivalent un bruit optique: \n",
      "\n",
      "$PEB=\\cfrac{i_{BT}}{R_\\lambda}$ en W/$\\sqrt{\\text{Hz}}$\n",
      "\n",
      "$P_{B_{\\text{optique}}} = PEB\\sqrt{BP_{det}}$ avec $BP_{det} = \\cfrac{\\pi}{2}BP_{\\text{systeme}}$ si le syst\u00e8me est du premier ordre.\n",
      "\n",
      "Exemple:\n",
      "\n",
      "TODO diode en inverse, VCE en haut, patte inverseuse d\u2019un ampli diff en bas C_f // R_f en contre r\u00e9action, v_out en sortie\n",
      "\n",
      "$V_{out} = \\cfrac{R_f}{1+R_fC_fp}i_{out}$\n",
      "\n",
      "$f_c=\\cfrac{1}{2\\pi R_fC_f}$\n",
      "\n",
      "On consid\u00e8re l\u2019ampli comme id\u00e9al (pas de bruit)\n",
      "\n",
      "$S_i=2q < i_{ph} > + 2qI_{obs} + \\cfrac{4kT}{R_f}$\n",
      "\n",
      "$i_{bt} = \\sqrt{S_i}=\\sqrt{2q(I_{ph}+I_{obs})+\\cfrac{4kT}{R_f}}$ TODO: I_ph => <I_ph>\n",
      "\n",
      "$PEB=\\cfrac{\\sqrt{2q(I_{ph}+I_{obs})+\\cfrac{4kT}{R_f}}}{R_\\lambda}$ TODO: I_ph => <I_ph>"
     ]
    },
    {
     "cell_type": "heading",
     "level": 3,
     "metadata": {},
     "source": [
      "Photodiode \u00e0 avalanche (APD)"
     ]
    },
    {
     "cell_type": "markdown",
     "metadata": {},
     "source": [
      "On impose un champ E interne dans la ZCE, les porteurs sont fortement acc\u00e9ler\u00e9s, ils lib\u00e8rent d\u2019autre paires electron-trou par transfert d\u2019\u00e9nergie cin\u00e9tique, qui sont elles-m\u00eame fortement acc\u00e9l\u00e9r\u00e9es.\n",
      "\n",
      "slide 30(33)\n",
      "\n",
      "* Structure: \n",
      "\n",
      "Le champ intense est r\u00e9alis\u00e9 par une zone \u00e0 tr\u00e8s for dopage. \n",
      "\n",
      "On r\u00e9alise une zone large de faible dopage qui permet de collecter les photons. \n",
      "\n",
      "* Gain d\u2019une APD\n",
      "\n",
      "$G=\\cfrac{I_{APD}}{I_{ph}}=\\cfrac{1}{1-\\left(\\cfrac{V_{APD}-R_sI_{APD}}{V_B}\\right)^m}$, $V_B$ est la tension de claquage, $m \\in [3,6]$\n",
      "\n",
      "* Bande passante\n",
      "\n",
      "La limitation de la bande passante est d\u00fbe au temps de transit des porteurs dans la zone de g\u00e9n\u00e9ration plus le temps de multiplication\n",
      "\n",
      "$t_d=\\cfrac{d_g}{v_n} + \\cfrac{d_g}{v_p} + t_{\\text{mult}}$\n",
      "\n",
      "NB: $t_{d_{APD}} >> T_{d_{PIN}}$\n",
      "\n",
      "* Domaines d\u2019utilisation\n",
      "\n",
      "+-----------------+-----------------+-----------------+\n",
      "|                 |      PIN        |    \u00a0\u00a0\u00a0APD       |\n",
      "+-----------------+-----------------+-----------------+\n",
      "|        BP       |        +        |       -         |\n",
      "+-----------------+-----------------+-----------------+\n",
      "|  sensibilit\u00e9    |        -        |       +         |\n",
      "+-----------------+-----------------+-----------------+\n",
      "| mise en \u0153uvre   |        ++       |       -         |\n",
      "+-----------------+-----------------+-----------------+\n",
      "\n",
      "\n",
      "Principalement des applications de puissance optique constante de tr\u00e8s faible intensit\u00e9 (spatial)\n",
      "\n",
      "AN: $F_{\\text{recu}} = 0.1\\mu W$, APD: $R_\\lambda = 280$ A/W,\n",
      "\n",
      "le syst\u00e8me de d\u00e9tection a un bruit de d\u00e9tection propre dans l\u2019obscurit\u00e9 $S_{i_{obs}} = 3.3\\cdot 10^{-23}$ A\u00b2/Hz\n",
      "\n",
      "=> <$I_{ph}$> = 28 muA => $S_{i_g} = 8.96\\cdot10^{-24}$A\u00b2/Hz\n",
      "\n",
      "BP = 1GHz => PEB = $2.3\\cdot10^{-14}$W/$\\sqrt{Hz}$ => $P_{b_{opt}} = 7.3\\cdot10^{-4}$ \\muW\n",
      "\n",
      "Soit $RSB = \\cfrac{0.1}{7.3\\cdot10^{-4}}\\simeq 100$\n",
      "\n",
      "Si la PD est une PIN, avec $R_\\lambda = 0.5$, $RSB\\simeq0.15$"
     ]
    },
    {
     "cell_type": "heading",
     "level": 1,
     "metadata": {},
     "source": [
      "Diodes electroluminescentes"
     ]
    },
    {
     "cell_type": "heading",
     "level": 2,
     "metadata": {},
     "source": [
      "Effet photo\u00e9lectriques"
     ]
    },
    {
     "cell_type": "heading",
     "level": 3,
     "metadata": {},
     "source": [
      "Rappel paire \u00e9lectron-trou"
     ]
    },
    {
     "cell_type": "markdown",
     "metadata": {},
     "source": [
      "Dans tout mat\u00e9riau semi-conducteur, il existe des \u00e9lectrons faiblements li\u00e9s \u00e0 la maille cristalline. Sous l\u2019effet d\u2019un apport d\u2019\u00e9nergie (agitation thermique, champ EM\u2026), ces \u00e9lectrons vont s\u2019arracher de la maille cristalline, passant ainsi de la bande de valence \u00e0 la bande de conduction. Ils laissent localement une lacune de charge \u00e9lectrique assimilable \u00e0 une particule de charge positive: le trou. On a alors une paire \u00e9lectron-trou.\n",
      "\n",
      "L\u2019\u00e9nergie n\u00e9cessaire \u00e0 un \u00e9loctron pour passer de la valence \u00e0 la conduction est $E_g=E_c-E_v$. La valeur de $E_g$ est propre \u00e0 chaque semi-conducteur (slide 28)"
     ]
    },
    {
     "cell_type": "heading",
     "level": 3,
     "metadata": {},
     "source": [
      "Effets photo\u00e9lectriques"
     ]
    },
    {
     "cell_type": "markdown",
     "metadata": {},
     "source": [
      "Il existe trois types :\n",
      "\n",
      "* Absorption: un photon d\u2019\u00e9nergie $h_\\nu > E_g$ arrive sur un \u00e9lectron dans la couche de valence;\n",
      "* \u00c9mission spontan\u00e9e: une paire \u00e9lectron-trou se recombine, et lib\u00e8re une \u00e9nergie $E_g$ sous forme d\u2019un photon;\n",
      "* \u00c9mission stimul\u00e9e: un photon incident d\u00e9clenche la recombinaison. Ce photon n\u2019est pas absorb\u00e9, mais un nouveau photon est g\u00e9n\u00e9r\u00e9, dont l\u2019\u00e9nergie est strictement \u00e9gale \u00e0 celle du photon incident. Ils ont la m\u00eame longueur d\u2019onde et sont en phase.\n",
      "\n",
      "Rmq: Toutes les recombinaisons ne sont pas radiatives\n",
      "\n",
      "* Il existe des \u00abpi\u00e8ges\u00bb, c\u2019est \u00e0 dire des niveaux d\u2019\u00e9nergie dans la bande interdite d\u00fbs aux impuret\u00e9s du cristal\n",
      "* Effet Auger: Transfert de l\u2019\u00e9nergie entre 3 particules (deux \u00e9lectrons et un trou ou deux trous et un \u00e9lectron) sans cr\u00e9ation de photons\n",
      "\n",
      "Rmq: Il existe de l\u2019absorption non photo\u00e9lectrique"
     ]
    },
    {
     "cell_type": "heading",
     "level": 3,
     "metadata": {},
     "source": [
      "La jonction P-N"
     ]
    },
    {
     "cell_type": "markdown",
     "metadata": {},
     "source": [
      "Il faut deux conditions pour \u00e9mettre beaucoup de photons:\n",
      " \n",
      "* probabilit\u00e9 \u00e9lev\u00e9e de recombinaisons radiatives (choix du mat\u00e9riau)\n",
      "* densit\u00e9 \u00e9lev\u00e9e de porteurs libres (jonction PN)\n",
      "\n",
      "La joction PN polaris\u00e9e en direct entra\u00eene une tr\u00e8s forte densit\u00e9 de recombinaisons au niveau de la ZCE"
     ]
    },
    {
     "cell_type": "heading",
     "level": 3,
     "metadata": {},
     "source": [
      "Les mat\u00e9riaux"
     ]
    },
    {
     "cell_type": "markdown",
     "metadata": {},
     "source": [
      "Ils permettent de choisir la longueur d\u2019onde: l\u2019\u00e9nergie des photons g\u00e9n\u00e9r\u00e9s est $h_\\nu = h \\cfrac{c}{\\lambda} = E_g \\Rightarrow \\lambda = \\cfrac{1.24}{E_g}$ avec $\\lambda$ en $\\mu$m et $E_g$ en eV.\n",
      "\n",
      "Il y a un lien direct entre l\u2019\u00e9nergie de gab du SC et la longueur d\u2019onde \u00e9mise.\n",
      "\n",
      "Transition directe ou indirecte\n",
      "\n",
      "Les mat\u00e9riaux \u00e0 transition directe ont une probabilit\u00e9 \u00e9lev\u00e9e de recombinaison radiative, contrairement \u00e0 ceux \u00e0 transition indirecte.\n",
      "\n",
      "Le choix du mat\u00e9riau fait intervenir la longueur d\u2019onde \u00e9mmise et le type de transition. Les mat\u00e9riaux alliages de composants des colonnes III et IV du cableau de Mendeleiev sont utilis\u00e9 pour la r\u00e9alisation d\u2019\u00e9metteurs"
     ]
    },
    {
     "cell_type": "heading",
     "level": 3,
     "metadata": {},
     "source": [
      "Largeur spectrale d\u2019\u00e9mission"
     ]
    },
    {
     "cell_type": "markdown",
     "metadata": {},
     "source": [
      "La probabilit\u00e9 d\u2019\u00e9mission \u00e0 partir d\u2019un porteur de quantit\u00e9 de mouvement non nulle est \u00e9lev\u00e9e.\n",
      "\n",
      "L\u2019\u00e9volution da l adensit\u00e9 de porteurs en fonction de leur \u00e9nergie \u00e9volue en $\\exp^{\\cfrac{-E}{k_BT}}$\n",
      "\n",
      "Mais la densit\u00e9 de niveau d\u2019\u00e9nergie disponibles \u00e9volue en $\\sqrt{E-E_g}$\n",
      "\n",
      "TODO:\u00a0plot une expo n\u00e9gaive et une sqrt, ainsi qu\u2019une courbe qui passe sous les deux autres, avec une largeur \u00e0 mi-hauteur de $\\Delta E = 1.8k_B$\n",
      "\n",
      "Or $\\lambda = \\cfrac{1.24}{E}\\Rightarrow\\cfrac{\\Delta\\lambda}{\\lambda}=\\cfrac{\\Delta E}{E}\\Rightarrow\\Delta\\lambda=\\cfrac{\\Delta E}{E_g}\\lambda=\\cfrac{\\Delta E}{1.24}\\lambda^2$\n",
      "\n",
      "Donc la largeur spectrale \u00e0 mi-hauteur $\\Delta\\lambda=\\cfrac{1.8k_BT}{1.24}\\lambda^2$"
     ]
    },
    {
     "cell_type": "heading",
     "level": 2,
     "metadata": {},
     "source": [
      "La DEL"
     ]
    },
    {
     "cell_type": "heading",
     "level": 3,
     "metadata": {},
     "source": [
      "Structure d\u2019une DEL"
     ]
    },
    {
     "cell_type": "markdown",
     "metadata": {},
     "source": [
      "C\u2019est une diode dont la m\u00e9tallisation sup\u00e9rieur est am\u00e9nag\u00e9e afin de permettre la sortie des photons. La couche de semi-conducteur sup\u00e9rieure est fine pour limiter l\u2019absorption. On rajoute des couches isolantes sous la m\u00e9tallisation pour guider les porteurs sous la fen\u00eatre d\u2019\u00e9mission (slides 29 et 30)"
     ]
    },
    {
     "cell_type": "heading",
     "level": 3,
     "metadata": {},
     "source": [
      "Rendements"
     ]
    },
    {
     "cell_type": "markdown",
     "metadata": {},
     "source": [
      "* Rendement d\u2019injection: $\\eta_{inj}=\\cfrac{\\text{Nombre de porteurs inject\u00e9s dans la zone P par seconde}}{\\text{Nombre total de porteurs inject\u00e9s par seconde}} \\simeq 1$\n",
      "* Rendement radiatif: $\\eta_{rad}=\\cfrac{\\text{Nombre de recombinaisons rad/d}}{\\text{Nombre de porteurs inject\u00e9s dans P/s}}\\simeq 1$\n",
      "* Rendement associ\u00e9 \u00e0 l\u2019angle critique: d\u2019apr\u00e8s Snell-Descartes, $\\theta_c=\\arcsin\\cfrac{n_0}{n_{sc}}\\simeq 17\u00b0$ pour l\u2019AsGa ($n_{sc}=3.5$). $F_{out} = \\int_0^{\\theta_c}I_{interne}d\\Omega=\\int_0^{\\theta_c}I_{interne}2\\pi\\sin\\theta d\\theta=2\\pi I_{interne}\\int_0^{\\theta_c}\\sin\\theta d\\theta=2\\pi I_{interne}(1-\\cos\\theta)\\Rightarrow\\eta_{critique}=\\cfrac{F_{out}}{F_{total}} = \\cfrac{1-\\cos\\theta_c}{2}$. Pour augmenter ce rendement, on enrobe la DEL\u00a0d\u2019un di\u00e9lectrique transparent d\u2019indice $n_d>n_0$. On atteint ainsi les 5%\n",
      "* Rendement d\u2019absorption: $\\eta_{abs}=\\exp^{-\\alpha x}$, o\u00f9 $\\alpha$ est le coefficient d\u2019asorption (slide 31) et x l\u2019\u00e9paisseur de la couche sup\u00e9rieure du semi-conducteur.\n",
      "* Pertes de Fresnel: il y a de la r\u00e9flexion \u00e0 l\u2019interface, et le coefficient le r\u00e9flexion est $R=\\left(\\cfrac{n_{sc}-n_0}{n_{sc}+n_0}\\right)^2$, et $\\eta_{fresnel}=1-R\\simeq 70\\%$ pour de l\u2019AsGa\n",
      "\n",
      "Rendement total : $\\eta_{tot}=\\eta_{inj}\\eta_{rad}\\eta_{crit}\\eta_{abs}\\eta_{fresnel}$"
     ]
    },
    {
     "cell_type": "heading",
     "level": 3,
     "metadata": {},
     "source": [
      "Puissance optique \u00e9mise"
     ]
    },
    {
     "cell_type": "markdown",
     "metadata": {},
     "source": [
      "* Calcul de la puissance :\n",
      "\n",
      "Nombre d\u2019\u00e9lectrons inject\u00e9s = $\\cfrac{I_{DEL}}{q}$\n",
      "\n",
      "Flux \u00e9mis: $F_e = N_{photons/s}=h_\\nu\\Rightarrow F_e=eta_{tot}\\cfrac{I_{DEL}}{q}h_\\nu$, or $h_\\nu=E_g$ et $\\cfrac{E_g}{q}=\\cfrac{1.24}{\\lambda}\\Rightarrow F_e=\\eta_{total}\\cfrac{1.24}{\\lambda}I_{DEL}$\n",
      "\n",
      "* Effets thermiques: aux courants \u00e9lev\u00e9s, les rendements d\u2019injection et radiatifs chutent et la puissance \u00e9mise plafonne."
     ]
    },
    {
     "cell_type": "code",
     "collapsed": false,
     "input": [],
     "language": "python",
     "metadata": {},
     "outputs": []
    }
   ],
   "metadata": {}
  }
 ]
}