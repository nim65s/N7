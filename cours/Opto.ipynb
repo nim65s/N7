{
 "metadata": {
  "name": "Opto"
 },
 "nbformat": 3,
 "nbformat_minor": 0,
 "worksheets": [
  {
   "cells": [
    {
     "cell_type": "heading",
     "level": 1,
     "metadata": {},
     "source": [
      "Introduction"
     ]
    },
    {
     "cell_type": "markdown",
     "metadata": {},
     "source": [
      "Optique: Champs \u00e9lectromagn\u00e9tiques o\u00f9$ 10 nm < \\lambda < 1 mm $"
     ]
    },
    {
     "cell_type": "markdown",
     "metadata": {},
     "source": [
      "Historique: D\u00e9couvert en 1887 par Hertz et expliqu\u00e9 par Einstein en 1917.\n",
      "\n",
      "DEL\u00a0en 60, LASERS en 58 \u00e0 66, fibres entre 66 et 77."
     ]
    },
    {
     "cell_type": "markdown",
     "metadata": {},
     "source": [
      "Domaines: des t\u00e9l\u00e9coms aux LANs, l\u2019\u00e9clairage, \u00e9crans (petits & grands), capteurs (gaz, m\u00e9canique, image), m\u00e9dical (chirurgie, \u00e9pilation,\u2026), \u00e9lectronique (DEL)"
     ]
    },
    {
     "cell_type": "heading",
     "level": 1,
     "metadata": {},
     "source": [
      "Photom\u00e9trie & rayonnement du corps noir"
     ]
    },
    {
     "cell_type": "heading",
     "level": 2,
     "metadata": {},
     "source": [
      "Introduction"
     ]
    },
    {
     "cell_type": "markdown",
     "metadata": {},
     "source": [
      "Photons -> dualit\u00e9 onde-cr\u00e9puscule ; on jonglera entre les deux.\n",
      "\n",
      "* Onde : $\\lambda$, $f = \\cfrac{c}{\\lambda}$, $v_g = \\cfrac{c}{n}$ ($n$ indice de r\u00e9fraction)\n",
      "\n",
      "* Particule : $E = h\\nu$, o\u00f9 $h = 6.6\\cdot 10^{-34} Ws^2$, [Ws] = [J], mais $1 eV = 1.6\\cdot 10^{-19}J$ ; donc $E = \\cfrac{1.24}{\\lambda}$"
     ]
    },
    {
     "cell_type": "markdown",
     "metadata": {},
     "source": [
      "Afin de prendre en compte la sensibilit\u00e9 aux photons de l\u2019\u0153il humain : $1lm = 1.6\\cdot 10^{-3}W \u00e0 \\lambda = 550 nm$ (centre de la bande passante de l\u2019\u0153il)"
     ]
    },
    {
     "cell_type": "heading",
     "level": 2,
     "metadata": {},
     "source": [
      "Grandeurs photom\u00e9triques"
     ]
    },
    {
     "cell_type": "heading",
     "level": 3,
     "metadata": {},
     "source": [
      "Le flux lumineux F"
     ]
    },
    {
     "cell_type": "markdown",
     "metadata": {},
     "source": [
      "Def : valeur instantan\u00e9e d\u2019un d\u00e9bit de rayonnement, en W (ou en photons par seconde)"
     ]
    },
    {
     "cell_type": "heading",
     "level": 2,
     "metadata": {},
     "source": [
      "L\u2019angle solide $\\Omega$"
     ]
    },
    {
     "cell_type": "markdown",
     "metadata": {},
     "source": [
      "$A = \\Omega\\cdot r^2 \\Rightarrow d\\Omega=\\cfrac{dA}{R^2}=2\\pi\\sin{\\theta}d\\theta$"
     ]
    },
    {
     "cell_type": "heading",
     "level": 3,
     "metadata": {},
     "source": [
      "La luminance L"
     ]
    },
    {
     "cell_type": "markdown",
     "metadata": {},
     "source": [
      "Def: Flux par unit\u00e9 de surface apparente de la source et par unit\u00e9 d\u2019angle solide.\n",
      "\n",
      "$L = \\cfrac{dF}{\\cos\\theta dA_sd\\Omega}$, en $W\\cdot m^{-2}\\cdot sr^{-1}$\n",
      "\n",
      "Quand $\\theta$ influe peu sur la luminance, on dit que la source rayonne selon la **loi de Lambert** :\n",
      "\n",
      "$I = \\cfrac{dF}{d\\Omega} = \\iint{L\\cos\\theta dA_s} \\Rightarrow I = \\cos\\theta\\iint{LdA_s} = I_0\\cos\\theta$\n",
      "\n",
      "La courbe $I(\\theta)$ est appel\u00e9e **indicatrice** de la source."
     ]
    },
    {
     "cell_type": "heading",
     "level": 3,
     "metadata": {},
     "source": [
      "L\u2019\u00e9mittance M"
     ]
    },
    {
     "cell_type": "markdown",
     "metadata": {},
     "source": [
      "Def : le flux \u00e9mis par unit\u00e9 de surface: $M = \\cfrac{dF}{dA_s} = \\int{L\\cos\\theta d\\Omega}$, en $W\\cdot m^{-2}$\n",
      "\n",
      "**loi de Lambert** : $M = L\\int\\cos\\theta d\\theta$, et $F = \\int{MdA_s} = LA_s\\int\\cos\\theta d\\theta = 2\\pi LA_s\\int\\cos\\theta\\sin\\theta d\\theta=\\pi I_0 \\Rightarrow I_0 = \\cfrac{F}{\\pi}$"
     ]
    },
    {
     "cell_type": "heading",
     "level": 3,
     "metadata": {},
     "source": [
      "L\u2019\u00e9clairement"
     ]
    },
    {
     "cell_type": "markdown",
     "metadata": {},
     "source": [
      "R\u00e9cepteur de lumi\u00e8re: on d\u00e9finit $A_R$ et $\\theta_R$\n",
      "\n",
      "Un point du r\u00e9cepteur re\u00e7oit un flux \u00e9l\u00e9mentaire $dF$\n",
      "\n",
      "Def : L\u2019\u00e9clairement E en $W\\cdot m^{-2}$ est le rapport du flux par la surface du r\u00e9cepteur : $dE = \\cfrac{d^2F}{dA_R}$\n",
      "\n",
      "Donc $dF = L\\cos\\theta_sdA_sd\\Omega_R$ o\u00f9 $d\\Omega_R=\\cfrac{dA_r\\cos\\theta_R}{d^2} \\Rightarrow dE = L\\cfrac{dA_s\\cos\\theta_s\\cos\\theta_R}{d^2}$\n",
      "\n",
      "Cas d\u2019une source ponctuelle: $E = \\cfrac{\\cos\\theta_r}{d^2}\\int{LdA_s\\cos\\theta_s}=I\\cfrac{\\cos\\theta_r}{d^2}$, donc l\u2019\u00e9clairement \u00e9volue en $\\cfrac{1}{d^2}$"
     ]
    },
    {
     "cell_type": "heading",
     "level": 2,
     "metadata": {},
     "source": [
      "Unit\u00e9s Sp\u00e9cifiques et ordres de grandeur"
     ]
    },
    {
     "cell_type": "markdown",
     "metadata": {},
     "source": [
      "Trois types d\u2019unit\u00e9s:\n",
      "* \u00c9nerg\u00e9tiques\n",
      "* Photoniques\n",
      "* Li\u00e9es \u00e0 l\u2019\u0153il\n",
      "\n",
      "En gros, on passe de l\u2019\u00e9nerg\u00e9tique aux photoniques en passant des $W$ au $s^{-1}$, mais les photoniques d\u00e9pendent de $\\lambda$. "
     ]
    },
    {
     "cell_type": "heading",
     "level": 2,
     "metadata": {},
     "source": [
      "Le rayonnement du Corps Noir"
     ]
    },
    {
     "cell_type": "markdown",
     "metadata": {},
     "source": [
      "Def: Un corps noir est un radiateur qui absorbe parfaitement les rayonnements incidents et qui \u00e9met un spectre continu de radiations."
     ]
    },
    {
     "cell_type": "heading",
     "level": 3,
     "metadata": {},
     "source": [
      "Loi de Planck"
     ]
    },
    {
     "cell_type": "markdown",
     "metadata": {},
     "source": [
      "Planck d\u00e9crit l\u2019\u00e9mittance d\u2019un corps noir: $\\cfrac{dM(\\lambda,T)}{d\\lambda}$=$\\cfrac{2\\pi hc^2\\lambda^{-5}}{\\exp{\\cfrac{hc}{\\lambda k_BT}}-1}$"
     ]
    },
    {
     "cell_type": "heading",
     "level": 3,
     "metadata": {},
     "source": [
      "Loi de Wien"
     ]
    },
    {
     "cell_type": "markdown",
     "metadata": {},
     "source": [
      "$\\lambda_M = \\cfrac{2898}{T}$\n",
      "\n",
      "$\\cfrac{dM(\\lambda,T)}{d\\lambda} = 1.286\\cdot 10^{-5}\\cdot T^5$ en $W\\cdot m^3$."
     ]
    },
    {
     "cell_type": "heading",
     "level": 3,
     "metadata": {},
     "source": [
      "Loi de Stefan-Boltzmann"
     ]
    },
    {
     "cell_type": "markdown",
     "metadata": {},
     "source": [
      "$M_T = \\sigma T^4$ en $W\\cdot m^{-2}$, o\u00f9 $\\sigma = \\cfrac{2\\pi^5k_B^4}{15c^2h^3}$\n",
      "\n",
      "Donc le corps humain, qui fait en gros 37 degr\u00e9s et $2m^2$, $M_T = 500 Wm^{-2} \\Rightarrow F = 1 kW$.\n",
      "\n",
      "Pour le filament de tyngst\u00e8ne, $T = 5800K \\Rightarrow M_T = 348\\cdot 10^4 Wm^{-2} \\Rightarrow F = 38.8W$"
     ]
    },
    {
     "cell_type": "heading",
     "level": 2,
     "metadata": {},
     "source": [
      "La Fibre Optique"
     ]
    },
    {
     "cell_type": "heading",
     "level": 2,
     "metadata": {},
     "source": [
      "Introduction"
     ]
    },
    {
     "cell_type": "heading",
     "level": 3,
     "metadata": {},
     "source": [
      "Pourquoi de la Fibre Optique"
     ]
    },
    {
     "cell_type": "markdown",
     "metadata": {},
     "source": [
      "* augmentation de la quantit\u00e9 des donn\u00e9es \u00e9chang\u00e9es,\n",
      "* distances tr\u00e8s grandes,\n",
      "* perturbations EM \n",
      "\n",
      "La FO: \n",
      "\n",
      "* bande passante quasi illimit\u00e9e\n",
      "* att\u00e9nuation tr\u00e8s faible (0.2dB/km => 250km sans r\u00e9p\u00e9teur)\n",
      "* immunit\u00e9 aux perturbations EM\n",
      "* tr\u00e8s l\u00e9g\u00e8re\n",
      "\n",
      "Par contre, la mise en \u0153uvre est tr\u00e8s cher."
     ]
    },
    {
     "cell_type": "heading",
     "level": 2,
     "metadata": {},
     "source": [
      "Structure d\u2019une FO"
     ]
    },
    {
     "cell_type": "heading",
     "level": 3,
     "metadata": {},
     "source": [
      "Loi de Snell-Descartes"
     ]
    },
    {
     "cell_type": "markdown",
     "metadata": {},
     "source": [
      "$\\theta_{lim} = \\arcsin\\cfrac{n_2}{n1}$"
     ]
    },
    {
     "cell_type": "heading",
     "level": 3,
     "metadata": {},
     "source": [
      "Guidage optique"
     ]
    },
    {
     "cell_type": "markdown",
     "metadata": {},
     "source": [
      "Structure:\n",
      "\n",
      "* C\u0153ur: 3\u03bcm \u00e0 65.5\u03bcm\n",
      "* Gaine: 125\u03bcm\n",
      "* Gaine de protection: plastique, kevlar ou carbone"
     ]
    },
    {
     "cell_type": "heading",
     "level": 2,
     "metadata": {},
     "source": [
      "Diff\u00e9rents types de FO"
     ]
    },
    {
     "cell_type": "markdown",
     "metadata": {},
     "source": [
      "Fibres multimodes: l\u2019\u00e9quation de propagation a plusieurs solutions.\n",
      "\n",
      "* Saut d\u2019indice $n_c$ constant\n",
      "* Gradient d\u2019indice $n_c(r)=n_c\\sqrt{1 - 2\\Delta\\left(\\cfrac{r}{a}\\right)^g}$ o\u00f9 $\\Delta = \\cfrac{n_c^2-n_g^2}{n_c^2}\\simeq\\cfrac{n_c-n_g}{n_c} < 1\\%$\n",
      "\n",
      "Fibres monomodes: Saut d\u2019indice, mais diam\u00e8tre de c\u0153ur faible."
     ]
    },
    {
     "cell_type": "heading",
     "level": 2,
     "metadata": {},
     "source": [
      "Quelques grandeurs caract\u00e9ristiques des FO"
     ]
    },
    {
     "cell_type": "heading",
     "level": 3,
     "metadata": {},
     "source": [
      "Ouverture num\u00e9rique"
     ]
    },
    {
     "cell_type": "markdown",
     "metadata": {},
     "source": [
      "Pour une FO\u00a0\u00e0 saut d\u2019indice,\n",
      "\n",
      "$ON = \\sin(\\theta_{ext_{lim}}) \\Rightarrow \\theta_{1_{max}} = \\arcsin\\cfrac{n_g}{n_c} \\Rightarrow n_{ext}\\sin\\theta_{ext}=n_c\\sin\\theta_i=n_c\\cos\\theta_1\\Rightarrow ON = \\cfrac{n_c}{n_{ext}}\\cos\\theta_{1_{max}}=\\cfrac{n_c}{n_{ext}}\\cos\\left(\\arcsin\\cfrac{n_g}{n_c}\\right)=\\cfrac{n_c}{n_{ext}}\\sqrt{1-\\cfrac{n_g^2}{n_c^2}}\\Rightarrow ON = \\cfrac{\\sqrt{n_c^2-n_g^2}}{n_{ext}}$\n",
      "\n",
      "Donc $n_c(r)\\sin\\theta(r)=n_c(r+dr)\\sin\\theta(r+dr)$ constant. La limite de guidage est atteinte en r=a: $n_c(a)\\sin\\theta(a)=n_g\\Rightarrow ON_{FOI}=\\cfrac{\\sqrt{n_c(r)^2-n_g^2}}{n_{ext}}$\n",
      "\n",
      "Couplage avec une DEL:\n",
      "\n",
      "En premi\u00e8re approximation, c\u2019est une source ponctuelle Lambertienne.\n",
      "\n",
      "$dF=LA_s\\cos\\theta d\\Omega$\n",
      "\n",
      "$F_{inj}=\\int_0^{\\theta_{max}}dF=2\\pi LA_s\\int_0^{\\theta_{max}}\\sin\\theta\\cos\\theta d\\theta=\\pi LA_s\\sin^2\\theta_{max}=\\pi LA_sON^2$\n",
      "\n",
      "$F_{tot}=\\pi LA_s\\Rightarrow\\cfrac{F_{inj}}{F_{tot}}=ON^2$\n",
      "\n",
      "A.N.\u00a0:$n_c=1.53,n_g=1.5\\Rightarrow ON=0.3$\n",
      "\n",
      "On n\u2019injecte donc dans ce cas l\u00e0 que 9% de la puissance\u2026 "
     ]
    },
    {
     "cell_type": "heading",
     "level": 2,
     "metadata": {},
     "source": [
      "La fr\u00e9quence normalis\u00e9e"
     ]
    },
    {
     "cell_type": "markdown",
     "metadata": {},
     "source": [
      "C\u2019est un param\u00e8tre issu de la r\u00e9solution des \u00e9quations de propagation:\n",
      "\n",
      "$V=\\cfrac{2\\pi}{\\lambda}a\\sqrt{n_c^2-n_g^2}$\n",
      "\n",
      "Il est sans unit\u00e9s, donc aucun rapport avec une fr\u00e9quence\u2026\n",
      "\n",
      "* La condition de propagation monomode est : $V < 2.41$, donc une fibre est monomode pour une plage limit\u00e9e de longueurs d\u2019ondes.\n",
      "* $V \\gg 1\\Rightarrow N_{modes}\\simeq\\cfrac{V^2}{2}$"
     ]
    },
    {
     "cell_type": "heading",
     "level": 2,
     "metadata": {},
     "source": [
      "Ph\u00e9nom\u00e8nes limitants dans les fibres"
     ]
    },
    {
     "cell_type": "heading",
     "level": 3,
     "metadata": {},
     "source": [
      "L\u2019att\u00e9nuation"
     ]
    },
    {
     "cell_type": "markdown",
     "metadata": {},
     "source": [
      "$E(t,z)=E_0\\exp^{j\\omega t}\\exp^{j\\beta z - \\alpha^\\prime z}$\n",
      "\n",
      "On pr\u00e9f\u00e8re utiliser A en dB/km, tq: $Az=10\\log\\left(\\cfrac{P(z)}{P(0)}\\right)$\n",
      "\n",
      "Donc pour FO\u00a0de longeur L, pour des flux en dBm, $F_{sortie}=F_{entr\u00e9e}-AL$\n",
      "\n",
      "Rappels:\n",
      "\n",
      "* 1mW: 0dBm\n",
      "* 1W: 30dBm\n",
      "* on peut ajouter des dB et des dBm"
     ]
    },
    {
     "cell_type": "heading",
     "level": 3,
     "metadata": {},
     "source": [
      "Autres types de pertes"
     ]
    },
    {
     "cell_type": "markdown",
     "metadata": {},
     "source": [
      "* Pertes par \u00e9pissurage (raccordemenetde 2 FO par fusion)\n",
      "    * Fibres non identiques\n",
      "    * Espacement\n",
      "    * Excentrement\n",
      "    * D\u00e9salignement\n",
      "* Pertes par courbure au refroidissement\n",
      "* Pertes par couplage \u00e0 la source\n",
      "    * rien : 10%\n",
      "    * fibre lentill\u00e9e: >60%\n",
      "    * couplage \u00e0 une lentille: >75%\n",
      "    * montage confocal \u00e0 deux lentilles: >85%"
     ]
    },
    {
     "cell_type": "markdown",
     "metadata": {},
     "source": [
      "A.N. : \n",
      "\n",
      "* laser 1, 10mW, 850nm (old, mais bien fichu)\n",
      "* laser 2, 10mW, 1550nm (r\u00e9cent, mais cher)\n",
      "\n",
      "$P_{inj}=10dBm$\n",
      "\n",
      "+----------+----------+------------+----------+\n",
      "|          |    1km   |     10km   |  100km   |\n",
      "+----------+----------+------------+----------+\n",
      "| Laser 1  |    7dBm  |   20dBm    |  190dBm  |\n",
      "+----------+----------+------------+----------+\n",
      "| Laser 2  |          |    8dBm    |  10 dBm  |\n",
      "+----------+----------+------------+----------+"
     ]
    },
    {
     "cell_type": "heading",
     "level": 3,
     "metadata": {},
     "source": [
      "Dispersion dans les FO"
     ]
    },
    {
     "cell_type": "markdown",
     "metadata": {},
     "source": [
      "Def: C\u2019est un \u00e9largissement temporel des impulsions transmises\n",
      "\n",
      "C\u2019est un ph\u00e9nom\u00e8ne statistique, pour le quantifier, on utilise la notion d\u2019\u00e9cart-type $\\sigma_{\\Delta t}$\n",
      "\n",
      "slides 23, 24"
     ]
    },
    {
     "cell_type": "markdown",
     "metadata": {},
     "source": [
      "Il existe deux types de dispersion dans les FO\n",
      "\n",
      "- dispersion modale\n",
      "- dispersion chromatique\n"
     ]
    },
    {
     "cell_type": "markdown",
     "metadata": {},
     "source": [
      "Dispersion modale: \n",
      "\n",
      "Dans une FO multimode, chaque mode porte une partie de la puissance du signal transmi et le temps de propagation dans la FO\u00a0est propre \u00e0 chaque mode, avec $\\Delta t_{max} = \\cfrac{l_{max} - l_{min}}{v} = \\cfrac{n_c}{c}\\left( \\cfrac{L_{FO}}{\\sin\\theta_{lim}}-L_{FO} \\right)$, or $\\sin\\theta_{lim} = \\cfrac{n_g}{n_c} \\Rightarrow \\Delta t_{max} = \\cfrac{n_cL_{FO}}{c}\\cfrac{n_c-n_g}{n_g}$\n",
      "\n",
      "Rappel : $ON = \\cfrac{\\sqrt{n_c^2-n_g^2}}{n_0}\\simeq\\cfrac{2n_g(n_c-n_g)}{n_0}$\u2026 $n_0 = 1\\Rightarrow\\delta t_{max} = \\cfrac{L (ON)^2}{2cn_c}$\n",
      "\n",
      "Ecart-type: En premi\u00e8re approximation, $\\sigma_{\\Delta t} = \\cfrac{\\Delta t_{max}}{2} = \\cfrac{L_{FO} (ON)^2}{4cn_c}$\n",
      "\n",
      "Pour une FO \u00e0 saut d\u2019indice, on d\u00e9fini le terme de dispersion modale $D_m$: $\\sigma_{\\Delta t}=D_m L_{FO}$.\n",
      "\n",
      "$D_m$ est un [s/m] ou en [ps/km]\n",
      "\n",
      "$D_{m_{FSI}} = \\cfrac{(ON)^2}{4cn_c}$\n",
      "\n",
      "* Longueur d\u2019\u00e9quilibre : les modes d\u2019ordre le plus \u00e9lev\u00e9s sont progressivement absorb\u00e9s par la gaine, donc l\u2019impact de la dispersion diminue. \n",
      "\n",
      "On consid\u00e8re que\n",
      "\n",
      "$L_{FO} < L_{eq} \\Rightarrow \\sigma_{\\Delta t}=D_m L_{FO}$\n",
      "\n",
      "$L_{FO} > L_{eq} \\Rightarrow \\sigma_{\\Delta t}=D_m \\sqrt{L_{eq}L_{FO}}$\n",
      "\n",
      "L\u2019ordre de grandeur de $L_{eq}$ est de 1km pour une FSI\n",
      "\n",
      "* Cas d\u2019une FO \u00e0 gradient d\u2019indice (FGI)\n",
      "\n",
      "$n_c(n) = n_c\\sqrt{1-2\\Delta\\left(\\cfrac{r}{q}\\right)^2} \\Rightarrow D_{m_{FGI}} = \\cfrac{n_c(0)\\Delta^2}{8c}$, avec $\\Delta =\\cfrac{nc-ng}{n_c}$\n",
      "\n",
      "Donc $\\cfrac{D_{m_{FGI}}}{D_{m_{FSI}}}=\\cfrac{n_c^2-n_g^2}{4}$, avec $n_c^2-n_g^2 << 1$\n",
      "\n",
      "AN: FSI: $n_c=1,53;n_g=1.5\\Rightarrow ON=0.3$\n",
      "\n",
      "FGI: $n_c=1,53;n_g=1.5\\Rightarrow ON=0.02$\n",
      "\n",
      "$D_{m_{FSI}} = 49 ns/km$\n",
      "\n",
      "$D_{m_{FGI}} = 255 ps/km$"
     ]
    },
    {
     "cell_type": "markdown",
     "metadata": {},
     "source": [
      "* La dispersion chromatique\n",
      "\n",
      "Deux choses:\n",
      "\n",
      "- Les sources de lumi\u00e8re ne sont pas totalement monochromatiques\n",
      "- L\u2019indice de r\u00e9fraction d\u2019un milieu d\u00e9pend de la longueur d\u2019onde\n",
      "\n",
      "$n_c(\\lambda) \\Rightarrow v_g=\\cfrac{c}{n}$ est fonction de $\\lambda$\n",
      "\n",
      "$\\Delta_{v_g} = \\cfrac{dv_g}{d\\lambda}\\Delta\\lambda$\n",
      "\n",
      "$\\Delta T = -T\\cfrac{\\Delta v_g}{v_g} = - \\cfrac{L_{FO}\\Delta v_g}{v_g v_g}$\n",
      "\n",
      "$\\Delta T = -\\cfrac{lambda}{c}\u2026$[\u2026]\n",
      "\n",
      "$\\Delta T = D_\\lambda \\Delta_\\lambda L_{FO}$\n",
      "\n",
      "$D_\\lambda$ est le terme de dispersion chromatique: $D_\\lambda=-\\cfrac{\\lambda}{c}\\cfrac{d^2x}{d\\lambda^2}$ en [ps/nm/km]\n",
      "\n",
      "$\\sigma_{\\Delta t_lambda} = |D_\\lambda|\\sigma_{\\Delta_\\lambda}L_{FO}$\n",
      "\n",
      "slide 25\n",
      "\n",
      "on a un \u00e9cart temporel li\u00e9 \u00e0 une distribution de la puissance dans le domaine spectral ($\\sigma_{\\Delta_\\lambda}$)\n",
      "\n",
      "$D_\\lambda = 0$ \u00e0 1330nm\n",
      "\n",
      "$D_\\lambda = 17$ ps/nm/km \u00e0 1550nm\n",
      "\n",
      "$D_\\lambda = -80$ ps/nm/km \u00e0 850nm"
     ]
    },
    {
     "cell_type": "markdown",
     "metadata": {},
     "source": [
      "*Bande passant d\u2019une FO : cas o\u00f9 les deux types de dispersion sont pr\u00e9sents: FO multimodes\n",
      "\n",
      "$\\sigma_{\\Delta t_{tot}} = \\sqrt{\\sigma_{\\Delta t_m}^2 + \\sigma_{\\Delta t_\\lambda}^2}$\n",
      "\n",
      "Par d\u00e9finition, $BP = \\cfrac{1}{\\sigma_{\\Delta t_{tot}}}$\n",
      "\n",
      "AN: FGI multimode : $n_c=1,53;n_g=1.5$\n",
      "\n",
      "$D_{m_{FGI}} = 255 ps/km$\n",
      "\n",
      "Laser $\\lambda=850$nm, $\\sigma_{\\Delta_\\lambda} = 10$nm\n",
      "\n",
      "$D_\\lambda = -80$ ps/nm/km\n",
      "\n",
      "$L_{FO} = 1$ km\n",
      "\n",
      "$\\sigma_{\\Delta t_m} = 255$ ps\n",
      "\n",
      "$\\sigma_{\\Delta t_\\lambda} = 800$ ps\n",
      "\n",
      "$\\sigma_{\\Delta t_{tot}} = 840$ ps\n",
      "\n",
      "$BP = 1.2$ GHz pour 1km\n",
      "\n",
      "AN2: FGI multimode : $n_c=1,53;n_g=1.5$\n",
      "\n",
      "$D_{m_{FGI}} = 255 ps/km$\n",
      "\n",
      "Laser $\\lambda=1550$nm, $\\sigma_{\\Delta_\\lambda} = 0.1$nm\n",
      "\n",
      "$D_\\lambda = 17$ ps/nm/km\n",
      "\n",
      "$L_{FO} = 1$ km\n",
      "\n",
      "$\\sigma_{\\Delta t_m} = 255$ ps\n",
      "\n",
      "$\\sigma_{\\Delta t_\\lambda} = 1.7$ ps\n",
      "\n",
      "$\\sigma_{\\Delta t_{tot}} \\simeq 255$ ps : la dispersion chromatique est devenue n\u00e9gligeable.\n",
      "\n",
      "$BP = 1.2$ GHz pour 1km\n",
      " \n",
      "AN3: FO\u00a0monomode:\n",
      "\n",
      "$D_m = 0$\n",
      "\n",
      "Laser $\\lambda=1550$nm, $\\sigma_{\\Delta_\\lambda} = 0.1$nm\n",
      "\n",
      "$BP = 600$ GHz/km (6Ghz pour 100 km)\n",
      "\n",
      "slide 26, 27\n",
      "\n",
      "/!\\ Connaitre la slide 27 /!\\"
     ]
    },
    {
     "cell_type": "heading",
     "level": 2,
     "metadata": {},
     "source": [
      "Les FO plastiques"
     ]
    },
    {
     "cell_type": "heading",
     "level": 3,
     "metadata": {},
     "source": [
      "Structure"
     ]
    },
    {
     "cell_type": "markdown",
     "metadata": {},
     "source": [
      "* Fibres multimodes \u00e0 saut d\u2019indice\n",
      "* Pas de gaine\n",
      "* Les mat\u00e9riaux\n",
      "    * polystyr\u00e8ne (pas cher, mais pas terrible)\n",
      "    * polycarbonate (tient la chaleur => automobiles)\n",
      "    * PMMA (top) : polym\u00e9thylm\u00e9tacrylate"
     ]
    },
    {
     "cell_type": "heading",
     "level": 3,
     "metadata": {},
     "source": [
      "Avantages et inconv\u00e9nients"
     ]
    },
    {
     "cell_type": "markdown",
     "metadata": {},
     "source": [
      "* BP plus faible (au moins 10 fois)\n",
      "* Att\u00e9nuation: 50 \u00e0 100 dB/km pour le PMMA\n",
      "* diam\u00e8tre \u00e0 c\u0153ur: 1mm\n",
      "* ouverture num\u00e9rique \u00e9lev\u00e9e => facilit\u00e9 d\u2019injection de la lumi\u00e8re\n",
      "* co\u00fbt plus faible \n",
      "* possibilit\u00e9 d\u2019applications m\u00e9dicales jettables"
     ]
    },
    {
     "cell_type": "heading",
     "level": 1,
     "metadata": {},
     "source": [
      "La photod\u00e9tection"
     ]
    },
    {
     "cell_type": "markdown",
     "metadata": {},
     "source": [
      "Il existe deux classe de photod\u00e9tecteurs:\n",
      "\n",
      "* Quantique\n",
      "* Thermique (lent et peu sensible, mais utilis\u00e9s pour la puissance, donc pas en t\u00e9l\u00e9coms)\n",
      "\n",
      "Parmis les d\u00e9tecteurs quantiques :\n",
      "\n",
      "* photoconductances\n",
      "* phototransistors (MOS dont la grille est pilot\u00e9e par le flux lumineux)\n",
      "* capteurs matriciels CCD ou MOS\n",
      "* photodiodes (99% des applications hors photo)"
     ]
    },
    {
     "cell_type": "heading",
     "level": 2,
     "metadata": {},
     "source": [
      "L\u2019Absorption des photons dans un semi-conducteur"
     ]
    },
    {
     "cell_type": "markdown",
     "metadata": {},
     "source": [
      "Quand un photo arrive avec une \u00e9nergie sup\u00e9rieure \u00e0 $h_\\nu$, paf un \u00e9lectron passe de la couche de valence \u00e0 la couche de conduction.\n",
      "\n",
      "Il existe une longeur d\u2019onde maximale pour laquelle il n\u2019y a plus d\u2019absorption: $\\lambda_g = \\cfrac{hc}{E_g} = \\cfrac{1.24}{E_g}$, avec $\\lambda$ en $\\mu$m et $E_g$ en eV\n",
      "\n",
      "Le flux de photons dans un semiconducteur : $F(\\lambda) = F_0\\exp^{-\\alpha x}$, o\u00f9 $\\alpha$ est l\u2019absorption en $m^{-1}$\n",
      "\n",
      "slide 31"
     ]
    },
    {
     "cell_type": "heading",
     "level": 2,
     "metadata": {},
     "source": [
      "Principe de la photodiode"
     ]
    },
    {
     "cell_type": "heading",
     "level": 3,
     "metadata": {},
     "source": [
      "Polarisatino d\u2019une PD"
     ]
    },
    {
     "cell_type": "markdown",
     "metadata": {},
     "source": [
      "Pour toute diode, $I = I_s\\left(\\exp^{\\cfrac{V}{nU_T}} - 1\\right) - I_{ph}$\n",
      "\n",
      "Ce $I_{ph}$ d\u00e9cale le diagrame $I=f(V)$ vers le bas, ce qui fait que pour des tensions positives, le courant est n\u00e9gatif, donc la PD fournit de l\u2019\u00e9nergie au circuit. "
     ]
    },
    {
     "cell_type": "code",
     "collapsed": false,
     "input": [],
     "language": "python",
     "metadata": {},
     "outputs": []
    }
   ],
   "metadata": {}
  }
 ]
}