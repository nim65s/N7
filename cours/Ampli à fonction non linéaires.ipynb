{
 "metadata": {
  "name": "Ampli \u00e0 fonction non lin\u00e9aires"
 },
 "nbformat": 3,
 "nbformat_minor": 0,
 "worksheets": [
  {
   "cells": [
    {
     "cell_type": "heading",
     "level": 1,
     "metadata": {},
     "source": [
      "D\u00e9tection et m\u00e9morisation du maximum d\u2019un signal"
     ]
    },
    {
     "cell_type": "markdown",
     "metadata": {},
     "source": [
      "$Q=CV=I\\Delta t\\Rightarrow\\Delta V=\\cfrac{I\\Delta t}{C}=\\cfrac{\\sum I_{fuite}\\Delta t}{C}$"
     ]
    },
    {
     "cell_type": "heading",
     "level": 1,
     "metadata": {},
     "source": [
      "Limiteurs de pr\u00e9cision de la tension de sortie"
     ]
    },
    {
     "cell_type": "markdown",
     "metadata": {},
     "source": [
      "avec un AOP, d\u00e8s que la tension devient suffisante, dans un sens ou dans l\u2019autre, par rapport au n\u0153ud - qui est \u00e0 peu pr\u00e8s \u00e0 la masse, la diode devient passante, et donc l\u2019imp\u00e9dance de la branche vaut le tout petit $r_d$ de la diode, et donc le gain s\u2019\u00e9croule $\\cfrac{-R_2 // r_d}{R_1}$.\n",
      "\n",
      "Dans la slide d\u2019apr\u00e8s on remplace la source de tension par une diode zener\u2026 Du coup avec deux zener t\u00eate b\u00eache, \u00e7a revient au m\u00eame: $V_{smax}=V_{Z1}+V_{D2}$ et $V_{smin}=V_{D1}+V_{Z2}$"
     ]
    },
    {
     "cell_type": "heading",
     "level": 1,
     "metadata": {},
     "source": [
      "Multiplieurs analogiques"
     ]
    },
    {
     "cell_type": "markdown",
     "metadata": {},
     "source": [
      "$V_Z=K_1V_XV_Y+(K_XV_Y+K_YV_X+K_0)+f(V_X,V_Y)$ ; on peut trouver $K_X$, $K_X$ et $K_0$ en posant $V_X$ et $V_Y$ nuls ensemble ou non."
     ]
    },
    {
     "cell_type": "markdown",
     "metadata": {},
     "source": [
      "Si on ajoute un AOP au multiplieur, on peut avoir du carr\u00e9, des racines, des int\u00e9grales, des log, des exp\u2026"
     ]
    },
    {
     "cell_type": "heading",
     "level": 1,
     "metadata": {},
     "source": [
      "Multiplieur \u00e0 transconductance variable"
     ]
    },
    {
     "cell_type": "markdown",
     "metadata": {},
     "source": [
      "Dans une paire diff\u00e9rentielle, on rappelle comment avoir le courant dans chaque branche en fonction de la tension diff\u00e9rentielle:\n",
      "\n",
      "$I_1+I_2=I_{ref}$\n",
      "\n",
      "$V_d=V_{be1}-V_{be2}$\n",
      "\n",
      "$I_2=I_se^{\\cfrac{V_{be2}}{U_T}}$\n",
      "\n",
      "$I_1=I_{ref}\\cfrac{e^\\cfrac{V_d}{U_T}}{e^\\cfrac{V_d}{U_T}+e^\\cfrac{-V_d}{U_T}}$\n",
      "\n",
      "Donc $\\Delta I=I_1-I_2=I_{ref}\\tanh\\left(\\cfrac{V_d}{2U_T}\\right)\\simeq I_{ref}\\cfrac{V_d}{2U_T}$\n",
      "\n",
      "Donc il ne reste plus qu\u2019\u00e0 avoir un $I_{ref}$ fonction d\u2019une tension. Avec une r\u00e9sistance, et un miroir de courant, par exemple. Le probl\u00e8me, c\u2019est que dans ce cas, $V_d$ peut \u00eatre positif ou n\u00e9gatif, mais $I_{ref}$ ne peut \u00eatre que sup\u00e9rieur \u00e0 0.6V. On peut am\u00e9liorer ce miroir en mettant une r\u00e9sistance \u00e0 la masse, un transitor au dessus, et un AOP dont la sortie est sur la base et la borne inverseuse entre R et\u00a0T, mais on n\u2019aura toujours qu\u2019un $I_{ref}>0$\n",
      "\n",
      "Un autre probl\u00e8me vient de l\u2019approximation de la tangeante hyperbolique, qui est \u00e0 peu pr\u00e8s lin\u00e9aire que pour $V_{e1} \\lt U_T$.\n",
      "\n",
      "On peut augmenter la plage lin\u00e9aire en mettant des r\u00e9sistances d\u2019\u00e9metteur, et pour avoir un \u00abquatre quadrants\u00bb, il suffit de remplacer la source de courant par une paire diff\u00e9rentielle. Du coup on en a 3, dont les deux du haut sont sym\u00e9triques.\n",
      "\n",
      "Par contre, \u00e7a ne sert \u00e0 rien de d\u00e9g\u00e9nerer les paires du haut, puisqu\u2019en le faisant, on aurait une \u00abmultiplication\u00bb ind\u00e9pendante des l\u2019entr\u00e9e\u2026 Puisque $\\Delta I\\simeq\\cfrac{V_d}{2R_E}$.\n",
      "\n",
      "Bref, on a toujours besoin d\u2019avoir un $V_{e1} \\lt U_T$.\n",
      "\n",
      "La technique est d\u2019ajouter un \u00e9tage avant qui va compresser $V_{e1}$ logarithmiquement, qui nous donnera un $\\Delta V_{Be}=U_T\\ln\\cfrac{I_A}{I_B}$, o\u00f9 $I_A$ et $I_B$ sont donn\u00e9s par une autre paire diff\u00e9rentielle."
     ]
    },
    {
     "cell_type": "code",
     "collapsed": false,
     "input": [],
     "language": "python",
     "metadata": {},
     "outputs": []
    }
   ],
   "metadata": {}
  }
 ]
}