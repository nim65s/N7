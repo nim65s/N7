{
 "metadata": {
  "name": ""
 },
 "nbformat": 3,
 "nbformat_minor": 0,
 "worksheets": [
  {
   "cells": [
    {
     "cell_type": "markdown",
     "metadata": {},
     "source": [
      "Si $M=2$, on a besoin de $2^M=4$ r\u00e9sistances, et si $K=4$ il nous faut $K+1=5$ condensateurs.\n",
      "\n",
      "Pour les interrupteurs, il nous en faut\n",
      "\n",
      "* $4+1$ pour les r\u00e9sistances\n",
      "* $K\u00d72$ pour les condensateurs\n",
      "* $1$ pour $S_F$\n",
      "\n",
      "Ce qui fait 13 interrupteurs (apr\u00e8s une approximation au premier ordre)."
     ]
    },
    {
     "cell_type": "markdown",
     "metadata": {},
     "source": [
      "$\\phi b_0 b_1$, $\\phi b_0$, $\\phi b_0 \\oplus b_1$, $\\phi \\bar b_0$, $\\phi \\bar b_0 \\bar b_1$\n",
      "\n",
      "$S_A = \\bar S_B = b_1$\n",
      "\n",
      "$S_{M+i} = b_{M+1}$\n",
      "\n",
      "$S_F = \\phi$"
     ]
    },
    {
     "cell_type": "code",
     "collapsed": false,
     "input": [],
     "language": "python",
     "metadata": {},
     "outputs": []
    }
   ],
   "metadata": {}
  }
 ]
}