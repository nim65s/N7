{
 "metadata": {
  "name": ""
 },
 "nbformat": 3,
 "nbformat_minor": 0,
 "worksheets": [
  {
   "cells": [
    {
     "cell_type": "heading",
     "level": 2,
     "metadata": {},
     "source": [
      "Rappels sur la FO"
     ]
    },
    {
     "cell_type": "markdown",
     "metadata": {},
     "source": [
      "guide d\u2019onde cylindrique en silice, dans lequel il existe une ou plusieurs solution de propagation\n",
      "\n",
      "* 1: FO monomode\n",
      "* plusieurs: FO multimode\n",
      "\n",
      "Dans toutes les fibres, on a de la dispersion chromatique li\u00e9e \u00e0 la largeur spectrale de la lumi\u00e8re transmise: l\u2019indice de la FO d\u00e9pend de la longueur d\u2019onde $\\lambda$ et les sources de lumi\u00e8re ont une largeur spectrale non-nulle, donc la vitesse de propagation est distribu\u00e9e, ce qui entraine cette dispersion : $\\sigma_{\\Delta t_\\lambda} = D_\\lambda \\sigma_\\lambda L_{FO}$ => $B = \\cfrac{0.35}{\\sigma_{\\Delta t_\\lambda}}$ o\u00f9 $D_\\lambda$ s\u2019exprime en ps/km/nm.\n",
      "\n",
      "Dans les FO multimodes, chaque mode a un temps de propagation diff\u00e9rent, ce qui engendre une dispersion modale et donc une limitation de la bande passante : $\\sigma_{\\Delta t_m} = D_m L_{FO}$, o\u00f9 $D_m$ est en ps/km ; donc le terme de dispersion total est $\\sigma_{\\Delta t_{tot}} = \\sqrt{\\sigma_{\\Delta t_\\lambda}^2 + \\sigma_{\\Delta t_m}^2}$ et la bande passante vaut $B = \\cfrac{0.35}{\\sigma_{\\Delta t_{tot}}}$\n",
      "\n"
     ]
    },
    {
     "cell_type": "markdown",
     "metadata": {},
     "source": [
      "L\u2019att\u00e9nuation A en dB/km est telle que $P_{re\u00e7ue} = P_{inject\u00e9e} - A L_{FO}$ o\u00f9 les puissances sont en dBm et $L_{FO}$ en km."
     ]
    },
    {
     "cell_type": "heading",
     "level": 3,
     "metadata": {},
     "source": [
      "Exercice"
     ]
    },
    {
     "cell_type": "markdown",
     "metadata": {},
     "source": [
      "On veut transmettre du 10Gb/s, donc on veut une bande passante \u00e0 10GHz, et on a un r\u00e9cepteur qui n\u00e9cessite P > 1uW.\n",
      "Calculler la distance max avec \n",
      "\n",
      "* FO multimode $D_m = 255$ ps/km, un laser de $P_{\u00e9mise} = 0.5$ mW, une largeur spectrale de $\\sigma_\\lambda = 1$ nm et une longueur d\u2019onde de $\\lambda = 850$ nm => $D_\\lambda = 80$ ps/nm/km.\n",
      "\n",
      "* FO monomode, m\u00eame laser\n",
      "\n",
      "* FO multimode avec un laser de 150mW, une longueur d\u2019onde de 1300nm, une dispersion de $\\sigma_\\lambda$ = 10nm => $D_\\lambda$ = 2ps/nm/km\n",
      "\n",
      "* FO monomode avec un laser de 50mW, une longueur d\u2019onde de 1550nm, une dispersion de $\\sigma_\\lambda$ = 0.1nm => $D_\\lambda$ = 10ps/nm/km"
     ]
    },
    {
     "cell_type": "code",
     "collapsed": false,
     "input": [
      "A = {850: 3.5, 1300: 0.4, 1550: 0.2}\n",
      "\n",
      "def attenuation(Pinj, freq):\n",
      "    return float((10*log(Pinj)-10*log(0.001))/A[freq])\n",
      "\n",
      "def dispersion(D_l, s_l, D_m):\n",
      "    return sqrt((0.35/10**10)**2/(D_l**2*s_l**2+D_m**2))\n",
      "\n",
      "def longueur_max(Pinj, freq, D_l, s_l, D_m=0):\n",
      "    return (attenuation(Pinj, freq), dispersion(D_l, s_l, D_m))"
     ],
     "language": "python",
     "metadata": {},
     "outputs": [],
     "prompt_number": 56
    },
    {
     "cell_type": "code",
     "collapsed": false,
     "input": [
      "longueur_max(0.5, 850, 80, 1, 255)"
     ],
     "language": "python",
     "metadata": {},
     "outputs": [
      {
       "latex": [
        "$$\\begin{pmatrix}17.7560231383, & 1.3096128261008 \\cdot 10^{-13}\\end{pmatrix}$$"
       ],
       "metadata": {},
       "output_type": "pyout",
       "png": "[encoded data removed]",
       "prompt_number": 57,
       "text": [
        "(17.7560231383, 1.3096128261008e-13)"
       ]
      }
     ],
     "prompt_number": 57
    },
    {
     "cell_type": "code",
     "collapsed": false,
     "input": [
      "longueur_max(0.5, 850, 80, 1)"
     ],
     "language": "python",
     "metadata": {},
     "outputs": [
      {
       "latex": [
        "$$\\begin{pmatrix}17.7560231383, & 4.375 \\cdot 10^{-13}\\end{pmatrix}$$"
       ],
       "metadata": {},
       "output_type": "pyout",
       "png": "[encoded data removed]",
       "prompt_number": 58,
       "text": [
        "(17.7560231383, 4.375e-13)"
       ]
      }
     ],
     "prompt_number": 58
    },
    {
     "cell_type": "code",
     "collapsed": false,
     "input": [
      "longueur_max(150, 1300, 2, 10)"
     ],
     "language": "python",
     "metadata": {},
     "outputs": [
      {
       "latex": [
        "$$\\begin{pmatrix}297.959764327, & 1.75 \\cdot 10^{-12}\\end{pmatrix}$$"
       ],
       "metadata": {},
       "output_type": "pyout",
       "png": "[encoded data removed]",
       "prompt_number": 59,
       "text": [
        "(297.959764327, 1.75e-12)"
       ]
      }
     ],
     "prompt_number": 59
    },
    {
     "cell_type": "code",
     "collapsed": false,
     "input": [
      "longueur_max(50, 1550, 10, 0.1)"
     ],
     "language": "python",
     "metadata": {},
     "outputs": [
      {
       "latex": [
        "$$\\begin{pmatrix}540.988914221, & 3.5 \\cdot 10^{-11}\\end{pmatrix}$$"
       ],
       "metadata": {},
       "output_type": "pyout",
       "png": "[encoded data removed]",
       "prompt_number": 60,
       "text": [
        "(540.988914221, 3.5e-11)"
       ]
      }
     ],
     "prompt_number": 60
    },
    {
     "cell_type": "heading",
     "level": 3,
     "metadata": {},
     "source": [
      "Solutions"
     ]
    },
    {
     "cell_type": "markdown",
     "metadata": {},
     "source": [
      "130m, 437m,"
     ]
    },
    {
     "cell_type": "heading",
     "level": 1,
     "metadata": {},
     "source": [
      "Diodes lasers en HF"
     ]
    },
    {
     "cell_type": "heading",
     "level": 2,
     "metadata": {},
     "source": [
      "Rappels sur les DL"
     ]
    },
    {
     "cell_type": "heading",
     "level": 3,
     "metadata": {},
     "source": [
      "Les effets photo\u00e9lectriques"
     ]
    },
    {
     "cell_type": "markdown",
     "metadata": {},
     "source": [
      "3 types:\n",
      "\n",
      "* \u00e9mission spontan\u00e9e: la recombinasion d\u2019une paire e\u207b/trou emet un photon d\u2019\u00e9nergie $h\\nu\\simeq E_g$\n",
      "* \u00e9mission stimul\u00e9e: le passage d\u2019un photon incident devant une paire e\u207b/trou d\u00e9clenche sa recombinaison, qui produit un autre photon qui a m\u00eame \u00e9nergie, m\u00eame phase, m\u00eame direction => amplification\n",
      "* absorption: une paire e\u207b/trou est cr\u00e9\u00e9e par absorption d\u2019un photon $h\\nu\\geqslant E_g$"
     ]
    },
    {
     "cell_type": "markdown",
     "metadata": {},
     "source": [
      "$\\Delta_E=1.8k_BT$\n",
      "\n",
      "$\\lambda = \\cfrac{c}{v}=\\cfrac{hc}{E}$ => $\\Delta_\\lambda = hc\\cfrac{\\Delta E}{E^2} = \\cfrac{\\lambda^2}{hc}\\Delta E$\n",
      "\n",
      "$\\Delta_\\lambda = \\cfrac{1.8k_BT}{hc}\\lambda^2$"
     ]
    },
    {
     "cell_type": "markdown",
     "metadata": {},
     "source": [
      "* Dans le bleu, $\\Delta\\lambda$ = 6 nm [GaN]\n",
      "* IR1 (850nm): $\\Delta\\lambda$ = 27 nm [AlGaAs]\n",
      "* IR2 (1300nm): $\\Delta\\lambda$ = 90nm [InP]"
     ]
    },
    {
     "cell_type": "heading",
     "level": 3,
     "metadata": {},
     "source": [
      "DEL"
     ]
    },
    {
     "cell_type": "markdown",
     "metadata": {},
     "source": [
      "On r\u00e9alise une jonction PN qui permet d\u2019augmenter localement la dentsit\u00e9 de porteurs lorsque cette jonction est polaris\u00e9e"
     ]
    },
    {
     "cell_type": "heading",
     "level": 3,
     "metadata": {},
     "source": [
      "la diode laser"
     ]
    },
    {
     "cell_type": "markdown",
     "metadata": {},
     "source": [
      "Principe: milieu amplificateur + filtre selectif => condition d\u2019oscillation sur le gain et la phase\n",
      "\n",
      "* cavit\u00e9 optique : c\u2019est un filtre s\u00e9lectif qui s\u00e9lection les champs \u00e9lectriques dont la longueur d\u2019onde vaut $k\\lambda=2nL_{cav}$, o\u00f9 k est un entier, n est l\u2019indice du milieu. On a donc un filtre en forme de peigne de Dirac\n",
      "* condition de gain: sur un aller-retour $R_1R_2e^{(g-\\alpha)2L_{cav}}>1$, o\u00f9 $R_1, R_2$ sont les r\u00e9flectivit\u00e9s des miroirs de la cavit\u00e9, g est le gain par \u00e9mission stimul\u00e9e en m\u207b\u00b9 et $\\alpha$ les pertes du milieu, dans la m\u00eame unit\u00e9.\n",
      "* Il existe un gain seuil $g_{th}=\\alpha+\\cfrac{1}{2L}\\ln\\cfrac{1}{R_1R_2}$"
     ]
    },
    {
     "cell_type": "heading",
     "level": 2,
     "metadata": {},
     "source": [
      "Diode laser monochromatique"
     ]
    },
    {
     "cell_type": "heading",
     "level": 3,
     "metadata": {},
     "source": [
      "Le spectre d\u2019un laser FP"
     ]
    },
    {
     "cell_type": "markdown",
     "metadata": {},
     "source": [
      "Le spectre d\u2019\u00e9mission multimode (peigne de Dirac) entra\u00eene une largeur spectrale importante non-souhaitable pour la transmission haut-d\u00e9bit."
     ]
    },
    {
     "cell_type": "heading",
     "level": 3,
     "metadata": {},
     "source": [
      "Solutions pour une DL monomode"
     ]
    },
    {
     "cell_type": "markdown",
     "metadata": {},
     "source": [
      "Il suffit d\u2019ajouter un filtre s\u00e9lectif suppl\u00e9mentaire, comme un r\u00e9seau de Bragg. Le pas du r\u00e9seau $\\Lambda$ est tel que $\\lambda = 2 \\Lambda \\cfrac{n_1+n_2}{2}$.\n",
      "\n",
      "La r\u00e9flectivit\u00e9 de ce r\u00e9seau:\n",
      "\n",
      "* est s\u00e9lective \u00e0 une longueur d\u2019onde\n",
      "* augmente avec le nombre de couches\n",
      "\n",
      "C\u2019est la solution la plus classique : on parle de laser DFB, pour Distributed Feedback.\n",
      "\n",
      "Il y a aussi les DBR, pour Distributed Bragg Reflector, qui consiste \u00e0 mettre un r\u00e9seau de Bragg sur les miroirs. On a alors un taux de r\u00e9jection des modes lat\u00e9raux d\u2019environ 40dB.\n",
      "\n",
      "Ces deux solutions fonctionnent bien, mais l\u2019inconv\u00e9nient technologique est qu\u2019il faut graver des choses perpendiculaires \u00e0 la surface du silicium. Pour simplifier \u00e7a, on a cr\u00e9\u00e9 les Diodes VCSEL:\u00a0Vertical Cavity Surface Emittering Laser. Cette solution a pour elle:\n",
      "\n",
      "* Un co\u00fbt r\u00e9duit\n",
      "* Une densit\u00e9 d\u2019int\u00e9gration plus forte\n",
      "* Sym\u00e9trie cylindrique du faisseau\n",
      "\n",
      "Mais:\n",
      "\n",
      "* Puissances plus faibles\n",
      "* Largeur spectrale moins bonne"
     ]
    },
    {
     "cell_type": "heading",
     "level": 2,
     "metadata": {},
     "source": [
      "Mod\u00e9lisation petit signal d\u2019une DL"
     ]
    },
    {
     "cell_type": "heading",
     "level": 3,
     "metadata": {},
     "source": [
      "\u00c9quations d\u2019\u00e9volution"
     ]
    },
    {
     "cell_type": "markdown",
     "metadata": {},
     "source": [
      "$\\cfrac{dN}{dt}=\\cfrac{I}{qV}-G_NP-\\cfrac{N}{\\tau_e}$ (injection - \u00e9mission stimul\u00e9e - dur\u00e9e de vie des porteurs)\n",
      "\n",
      "$\\cfrac{dS}{dt}=G_NS-\\cfrac{S}{\\tau_e}$ ( - dur\u00e9e de vie des photons dans la cavit\u00e9)\n",
      "\n",
      "* $N$: densit\u00e9 de porteurs en m\u207b\u00b3\n",
      "* $S$: densit\u00e9 de photons en m\u207b\u00b3\n",
      "* $V$: volume de la ZCE\n",
      "* $\\tau_e$: dur\u00e9e de vie des porteurs\n",
      "* $\\tau_s$: dur\u00e9e de vie des photons\n",
      "* $G_N$: gain de l\u2019\u00e9mission stimul\u00e9 $G_N=\\cfrac{c}{n}\\cfrac{\\partial g}{\\partial N}(N-N_{tr})=G(N-N_{tr})$\n",
      "    * $g$: gain mat\u00e9riel m\u207b\u00b9\n",
      "    * $N_{tr}$: densit\u00e9 de porteurs \u00e0 la transparence (quand l\u2019\u00e9mission stimul\u00e9e compense parfaitement l\u2019absorption)\n",
      "    \n",
      "Cette paire d\u2019\u00e9quations mod\u00e9lise le laser dans tous les r\u00e9gimes (petit signal, fort signal, statique). En statique, $\\cfrac{dS}{dt}=\\cfrac{dN}{dt}=0$, et $0=\\cfrac{I}{qV}-G_NS-\\cfrac{N}{\\tau_e}$, donc, au seuil $0=\\cfrac{I_{th}}{qV}-\\cfrac{N_{th}}{\\tau_e}$=>$\\cfrac{I_{th}}{qV}=\\cfrac{N_{th}}{\\tau_e}$; et, apr\u00e8s le seuil, $0=\\cfrac{I}{qV}-G_NS-\\cfrac{N_{th}}{\\tau_e}$=>$G_NS=\\cfrac{I}{qV}-\\cfrac{N_{th}}{\\tau_e}=\\cfrac{I-I_{th}}{qV}$"
     ]
    },
    {
     "cell_type": "heading",
     "level": 3,
     "metadata": {},
     "source": [
      "Mod\u00e8le petit signal"
     ]
    },
    {
     "cell_type": "markdown",
     "metadata": {},
     "source": [
      "* $N=N_0+n(t)$, o\u00f9 $n\\ll N$\n",
      "* $S=S_0+s(t)$, o\u00f9 $s\\ll S$\n",
      "* $I=I_0+i(t)$, o\u00f9 $i\\ll I$\n",
      "\n",
      "\n",
      "En utilisant ces grandeurs dans les \u00e9quations et en supprimant les termes du r\u00e9gime statique et les termes d\u2019ordre 2, on obtient:\n",
      "\n",
      "$\\cfrac{dn}{dt}=\\cfrac{i}{qV}-G(N_0-N_{th})s-\\left(GS_0+\\cfrac{1}{\\tau_e}\\right)n$\n",
      "\n",
      "$\\cfrac{ds}{dt}=GS_0n+\\left(G(N_0-N_{th})+\\cfrac{1}{\\tau_s}\\right)s$\n",
      "\n",
      "On peut raccourcir ces deux \u00e9quations:\n",
      "\n",
      "$j\\omega n = \\cfrac{i}{qV}+A_1n+A_2s$\n",
      "\n",
      "$j\\omega s = A_3n+A_4s$\n",
      "\n",
      "O\u00f9 \n",
      "\n",
      "$A_2=-G(N_0-N_{th})$\n",
      "\n",
      "$A_1=-\\left(GS_0+\\cfrac{1}{\\tau_e}\\right)$\n",
      "\n",
      "$A_3=G(N_0-N_{th})+\\cfrac{1}{\\tau_s}$\n",
      "\n",
      "$A_4=G(N_0-N_{th})+\\cfrac{1}{\\tau_s}$\n",
      "\n",
      "Et en r\u00e9solvant ce syst\u00e8me, on obtient une fonction de transfert $\\cfrac{s}{n}=\\cfrac{-\\cfrac{GS_0}{qV}}{A_2A_3+j\\omega(A_1+A_4)+\\omega^2}$\n",
      "\n",
      "La diode laser est donc un syst\u00e8me passe-bas d\u2019ordre 2, avec $\\omega_0^2=A_2A_3=G^2S_0(N_0+N_{th})$=>\\omega_0\\#\\sqrt{I-I_{th}}$ \u00e0 travers la d\u00e9pendance en $S_0$. Idem pour l\u2019amortissement."
     ]
    },
    {
     "cell_type": "heading",
     "level": 3,
     "metadata": {},
     "source": [
      "Circuit \u00e9lectrique \u00e9quivalent"
     ]
    },
    {
     "cell_type": "markdown",
     "metadata": {},
     "source": [
      "Il existe un lien entre la densite de porteurs et la tension de la jonction $N=N_de^\\cfrac{V_0}{mU_T}$, avec $N_d$ la densit\u00e9 de porteurs de la jonction non polaris\u00e9e et $m$ est le coefficient d\u2019id\u00e9alit\u00e9 de la diode."
     ]
    },
    {
     "cell_type": "markdown",
     "metadata": {},
     "source": [
      "En petit signal, $v_j=mU_T\\cfrac nN_0$"
     ]
    },
    {
     "cell_type": "code",
     "collapsed": false,
     "input": [
      "\"\"\"\n",
      "    i       ip\n",
      "   \u2212>\u2212\u2212\u2212\u2212\u2212\u2212\u2212>\u2212Lp\u2212\u2212\u2212\u2212 \u2212\u2212\u2212\n",
      "^    |    |        |   |\n",
      "Vj   Cj   Rj       Rp  D\n",
      "|    |    |        |   |\n",
      "   \u2212\u2212\u2212\u2212\u2212\u2212\u2212\u2212\u2212\u2212\u2212\u2212\u2212\u2212\u2212\u2212\u2212 \u2212\u2212\u2212\n",
      "\"\"\""
     ],
     "language": "python",
     "metadata": {},
     "outputs": [
      {
       "metadata": {},
       "output_type": "pyout",
       "prompt_number": 1,
       "text": [
        "'\\n-------L-\\n |  |    |\\n C  R    R\\n |  |    |\\n----------\\n'"
       ]
      }
     ],
     "prompt_number": 1
    },
    {
     "cell_type": "markdown",
     "metadata": {},
     "source": [
      "$C_j\\cfrac{dv_j}{dt}=i-\\cfrac{v_j}{R_j}-i_p$\n",
      "\n",
      "$v_j=L_p\\cfrac{di_p}{dt}+R_pi_p$"
     ]
    },
    {
     "cell_type": "markdown",
     "metadata": {},
     "source": [
      "Pour faire le lien avec les \u00e9quations d\u2019\u00e9volution lin\u00e9aris\u00e9es, $i_p=qVG(N_0-N_{th})s$\n",
      "\n",
      "$C_j = \\cfrac{qVN_0}{mU_T}$\n",
      "\n",
      "$R_j = \\cfrac{mU_T}{qVN_0\\left(GS_0+\\cfrac{1}{\\tau_e}\\right)}$\n",
      "\n",
      "$L_p = \\cfrac{mU_T}{qVN_0G^2(N_0-N_{tr})S_0}$\n",
      "\n",
      "$R_p = \\cfrac{mU_T\\left(\\cfrac{1}{\\tau_s}-G(N_0-N_{tr})\\right)}{qVN_0G^2(N_0-N_{tr})S_0}$"
     ]
    },
    {
     "cell_type": "markdown",
     "metadata": {},
     "source": [
      "($\\cfrac{dv_j}{dt}=\\cfrac ic_j-\\cfrac{v_j}{R_jC_j}-\\cfrac{i_p}{C_j}$\n",
      "\n",
      "$\\cfrac{du}{dt}=\\cfrac{N_0}{mU_T}\\cfrac{i}{C_j}-\\cfrac{n}{R_jC_j}-\\cfrac{N_0}{mU_T}\\cfrac{i_p}{C_j}$)"
     ]
    },
    {
     "cell_type": "markdown",
     "metadata": {},
     "source": [
      "On retrouve une fonction de transfert $H(p)=\\cfrac{i_p}{i}=\\cfrac{1}{1+\\cfrac{R_p}{R_j}+\\left(R_pC_j+\\cfrac{L_p}{R_j}\\right)p+L_pC_jp^2}$"
     ]
    },
    {
     "cell_type": "markdown",
     "metadata": {},
     "source": [
      "Ordres de grandeur:\n",
      "\n",
      "$C_j$ = 10pF\n",
      "\n",
      "$R_j$ = 2 \u00e0 5 $\\Omega$\n",
      "\n",
      "$L_p$ = 30pH\n",
      "\n",
      "$R_p$ = 1 $\\Omega$"
     ]
    },
    {
     "cell_type": "code",
     "collapsed": false,
     "input": [],
     "language": "python",
     "metadata": {},
     "outputs": []
    }
   ],
   "metadata": {}
  }
 ]
}